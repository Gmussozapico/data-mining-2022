{
  "nbformat": 4,
  "nbformat_minor": 0,
  "metadata": {
    "colab": {
      "name": "BETO_embeddings_tweet_ES.ipynb",
      "provenance": [],
      "mount_file_id": "1WUUwh8YMeNSx3smKKL5lUcRJt5skYtY8",
      "authorship_tag": "ABX9TyMrFQNbxpzZ+9bVfBfv0EN5",
      "include_colab_link": true
    },
    "kernelspec": {
      "name": "python3",
      "display_name": "Python 3"
    },
    "language_info": {
      "name": "python"
    }
  },
  "cells": [
    {
      "cell_type": "markdown",
      "metadata": {
        "id": "view-in-github",
        "colab_type": "text"
      },
      "source": [
        "<a href=\"https://colab.research.google.com/github/furrutiav/data-mining-2022/blob/main/Hitos/H3/BETO_embeddings_tweet_ES.ipynb\" target=\"_parent\"><img src=\"https://colab.research.google.com/assets/colab-badge.svg\" alt=\"Open In Colab\"/></a>"
      ]
    },
    {
      "cell_type": "code",
      "execution_count": 5,
      "metadata": {
        "id": "zFLzZChx9Tnh"
      },
      "outputs": [],
      "source": [
        "import pandas as pd\n",
        "import numpy as np\n",
        "import pickle"
      ]
    },
    {
      "cell_type": "code",
      "source": [
        "%%capture\n",
        "!pip install transformers\n",
        "!pip install datasets\n",
        "!pip install bertviz\n",
        "!pip install torch"
      ],
      "metadata": {
        "id": "pXF24Nu69cLI"
      },
      "execution_count": 6,
      "outputs": []
    },
    {
      "cell_type": "code",
      "source": [
        "from transformers import BertTokenizer, BertModel\n",
        "import torch"
      ],
      "metadata": {
        "id": "qRogfAAG9d91"
      },
      "execution_count": 7,
      "outputs": []
    },
    {
      "cell_type": "code",
      "source": [
        "!wget https://users.dcc.uchile.cl/~jperez/beto/cased_2M/pytorch_weights.tar.gz \n",
        "!wget https://users.dcc.uchile.cl/~jperez/beto/cased_2M/vocab.txt \n",
        "!wget https://users.dcc.uchile.cl/~jperez/beto/cased_2M/config.json \n",
        "!tar -xzvf pytorch_weights.tar.gz\n",
        "!mv config.json pytorch/.\n",
        "!mv vocab.txt pytorch/."
      ],
      "metadata": {
        "colab": {
          "base_uri": "https://localhost:8080/"
        },
        "id": "BmxC-BXT9hXC",
        "outputId": "c43a1121-e079-4228-98c2-c357aae765e2"
      },
      "execution_count": 8,
      "outputs": [
        {
          "output_type": "stream",
          "name": "stdout",
          "text": [
            "--2022-07-03 03:23:46--  https://users.dcc.uchile.cl/~jperez/beto/cased_2M/pytorch_weights.tar.gz\n",
            "Resolving users.dcc.uchile.cl (users.dcc.uchile.cl)... 192.80.24.4, 200.9.99.211\n",
            "Connecting to users.dcc.uchile.cl (users.dcc.uchile.cl)|192.80.24.4|:443... connected.\n",
            "HTTP request sent, awaiting response... 200 OK\n",
            "Length: 409871727 (391M) [application/x-gzip]\n",
            "Saving to: ‘pytorch_weights.tar.gz.2’\n",
            "\n",
            "pytorch_weights.tar 100%[===================>] 390.88M  5.06MB/s    in 54s     \n",
            "\n",
            "2022-07-03 03:24:41 (7.25 MB/s) - ‘pytorch_weights.tar.gz.2’ saved [409871727/409871727]\n",
            "\n",
            "--2022-07-03 03:24:41--  https://users.dcc.uchile.cl/~jperez/beto/cased_2M/vocab.txt\n",
            "Resolving users.dcc.uchile.cl (users.dcc.uchile.cl)... 200.9.99.211, 192.80.24.4\n",
            "Connecting to users.dcc.uchile.cl (users.dcc.uchile.cl)|200.9.99.211|:443... connected.\n",
            "HTTP request sent, awaiting response... 200 OK\n",
            "Length: 242120 (236K) [text/plain]\n",
            "Saving to: ‘vocab.txt’\n",
            "\n",
            "vocab.txt           100%[===================>] 236.45K   408KB/s    in 0.6s    \n",
            "\n",
            "2022-07-03 03:24:42 (408 KB/s) - ‘vocab.txt’ saved [242120/242120]\n",
            "\n",
            "--2022-07-03 03:24:42--  https://users.dcc.uchile.cl/~jperez/beto/cased_2M/config.json\n",
            "Resolving users.dcc.uchile.cl (users.dcc.uchile.cl)... 200.9.99.211, 192.80.24.4\n",
            "Connecting to users.dcc.uchile.cl (users.dcc.uchile.cl)|200.9.99.211|:443... connected.\n",
            "HTTP request sent, awaiting response... 200 OK\n",
            "Length: 313 [application/json]\n",
            "Saving to: ‘config.json’\n",
            "\n",
            "config.json         100%[===================>]     313  --.-KB/s    in 0s      \n",
            "\n",
            "2022-07-03 03:24:43 (38.7 MB/s) - ‘config.json’ saved [313/313]\n",
            "\n",
            "pytorch/\n",
            "pytorch/pytorch_model.bin\n"
          ]
        }
      ]
    },
    {
      "cell_type": "code",
      "source": [
        "from transformers import BertForMaskedLM, BertTokenizer"
      ],
      "metadata": {
        "id": "jO-q_xUm9iKh"
      },
      "execution_count": 9,
      "outputs": []
    },
    {
      "cell_type": "code",
      "source": [
        "beto_model = BertModel.from_pretrained(\"pytorch/\")\n",
        "beto_tokenizer = BertTokenizer.from_pretrained(\"pytorch/\", do_lower_case=False)\n",
        "e = beto_model.eval()"
      ],
      "metadata": {
        "colab": {
          "base_uri": "https://localhost:8080/"
        },
        "id": "LgsoR5Bk9jFz",
        "outputId": "54406b9c-ba75-4c20-ae0e-70b472a16aa9"
      },
      "execution_count": 10,
      "outputs": [
        {
          "output_type": "stream",
          "name": "stderr",
          "text": [
            "Some weights of the model checkpoint at pytorch/ were not used when initializing BertModel: ['cls.seq_relationship.bias', 'cls.predictions.bias', 'cls.predictions.transform.LayerNorm.bias', 'cls.seq_relationship.weight', 'cls.predictions.decoder.weight', 'cls.predictions.transform.dense.bias', 'cls.predictions.transform.LayerNorm.weight', 'cls.predictions.transform.dense.weight']\n",
            "- This IS expected if you are initializing BertModel from the checkpoint of a model trained on another task or with another architecture (e.g. initializing a BertForSequenceClassification model from a BertForPreTraining model).\n",
            "- This IS NOT expected if you are initializing BertModel from the checkpoint of a model that you expect to be exactly identical (initializing a BertForSequenceClassification model from a BertForSequenceClassification model).\n"
          ]
        }
      ]
    },
    {
      "cell_type": "code",
      "source": [
        "df_es_train = pd.read_pickle(\"/content/drive/MyDrive/df_es_train.pickle\")"
      ],
      "metadata": {
        "id": "QF-3QzXf9kCp"
      },
      "execution_count": 11,
      "outputs": []
    },
    {
      "cell_type": "code",
      "source": [
        "# Preprocess text (username and link placeholders)\n",
        "def preprocess(text):\n",
        "    new_text = []\n",
        "    for t in text.split(\" \"):\n",
        "        t = '@user' if t.startswith('@') and len(t) > 1 else t\n",
        "        t = 'http' if t.startswith('http') else t\n",
        "        new_text.append(t)\n",
        "    return \" \".join(new_text)"
      ],
      "metadata": {
        "id": "4i0-0f7V-UE6"
      },
      "execution_count": 12,
      "outputs": []
    },
    {
      "cell_type": "code",
      "source": [
        "def sentence_clf_output(text):\n",
        "    # retorna el SequenceClassifierOutput dado un tweet\n",
        "    text = preprocess(text)\n",
        "    tokens = beto_tokenizer.tokenize(text)\n",
        "    tokens = ['[CLS]'] + tokens\n",
        "    attn_mask = [1 for token in tokens]\n",
        "    seg_ids = [0 for _ in range(len(tokens))]\n",
        "    token_ids = beto_tokenizer.convert_tokens_to_ids(tokens)\n",
        "\n",
        "    token_ids = torch.tensor(token_ids).unsqueeze(0)\n",
        "    attn_mask = torch.tensor(attn_mask).unsqueeze(0)\n",
        "    seg_ids   = torch.tensor(seg_ids).unsqueeze(0)\n",
        "\n",
        "    output = beto_model(token_ids, attention_mask = attn_mask, token_type_ids = seg_ids)\n",
        "    cls_output = output.last_hidden_state[:, 0].detach().numpy().reshape(1,768)\n",
        "    return cls_output"
      ],
      "metadata": {
        "id": "E5J01iUC-yQS"
      },
      "execution_count": 24,
      "outputs": []
    },
    {
      "cell_type": "code",
      "source": [
        "input_0 = df_es_train.iloc[0][\"text\"]\n",
        "sentence_clf_output(input_0);"
      ],
      "metadata": {
        "id": "5_kGQaMMFbjM"
      },
      "execution_count": 26,
      "outputs": []
    },
    {
      "cell_type": "code",
      "source": [
        "import os"
      ],
      "metadata": {
        "id": "MVSi60y0GG_v"
      },
      "execution_count": 16,
      "outputs": []
    },
    {
      "cell_type": "code",
      "source": [
        "folder = \"beto_emoji\""
      ],
      "metadata": {
        "id": "phzZZAYDGKaV"
      },
      "execution_count": 17,
      "outputs": []
    },
    {
      "cell_type": "code",
      "source": [
        "def guardar(y_list,idx,conjunto):\n",
        "    embedding_types = \"first_tok_embedding\"\n",
        "\n",
        "    arr = np.concatenate(y_list, axis=0)\n",
        "    np.save(os.path.join(folder,'vec_{}_{}_{}'.format(conjunto,embedding_types,idx)), arr)"
      ],
      "metadata": {
        "id": "OnltJExRF0v6"
      },
      "execution_count": 28,
      "outputs": []
    },
    {
      "cell_type": "code",
      "source": [
        "y_clf_obj = []\n",
        "length = len(df_es_train)\n",
        "save_rate = 50\n",
        "\n",
        "for i, texto in enumerate(df_es_train['text']):\n",
        "    idx = 0\n",
        "    clf_obj = sentence_clf_output(texto)\n",
        "    y_clf_obj.append(clf_obj)\n",
        "    if (i%(save_rate)==0 and i!=0) or i==length-1:\n",
        "        guardar(y_clf_obj,idx,'train')\n",
        "        idx += 1\n",
        "        y_clf_obj = []\n",
        "        print('archivo guardado: porcentaje = {}%'.format(100*(i+1)/length))"
      ],
      "metadata": {
        "colab": {
          "base_uri": "https://localhost:8080/"
        },
        "id": "Pnn271WeGAIz",
        "outputId": "29b0d01a-311f-4b3b-a452-2415667d26e5"
      },
      "execution_count": null,
      "outputs": [
        {
          "output_type": "stream",
          "name": "stdout",
          "text": [
            "archivo guardado: porcentaje = 0.0627105722647124%\n",
            "archivo guardado: porcentaje = 0.12419152546541082%\n",
            "archivo guardado: porcentaje = 0.18567247866610925%\n",
            "archivo guardado: porcentaje = 0.24715343186680766%\n",
            "archivo guardado: porcentaje = 0.30863438506750607%\n",
            "archivo guardado: porcentaje = 0.37011533826820453%\n",
            "archivo guardado: porcentaje = 0.43159629146890294%\n",
            "archivo guardado: porcentaje = 0.49307724466960134%\n",
            "archivo guardado: porcentaje = 0.5545581978702998%\n",
            "archivo guardado: porcentaje = 0.6160391510709982%\n",
            "archivo guardado: porcentaje = 0.6775201042716966%\n",
            "archivo guardado: porcentaje = 0.7390010574723951%\n",
            "archivo guardado: porcentaje = 0.8004820106730934%\n",
            "archivo guardado: porcentaje = 0.8619629638737919%\n",
            "archivo guardado: porcentaje = 0.9234439170744904%\n",
            "archivo guardado: porcentaje = 0.9849248702751887%\n",
            "archivo guardado: porcentaje = 1.046405823475887%\n",
            "archivo guardado: porcentaje = 1.1078867766765856%\n",
            "archivo guardado: porcentaje = 1.169367729877284%\n",
            "archivo guardado: porcentaje = 1.2308486830779823%\n",
            "archivo guardado: porcentaje = 1.292329636278681%\n",
            "archivo guardado: porcentaje = 1.3538105894793793%\n",
            "archivo guardado: porcentaje = 1.4152915426800776%\n",
            "archivo guardado: porcentaje = 1.4767724958807762%\n",
            "archivo guardado: porcentaje = 1.5382534490814745%\n",
            "archivo guardado: porcentaje = 1.599734402282173%\n",
            "archivo guardado: porcentaje = 1.6612153554828715%\n",
            "archivo guardado: porcentaje = 1.7226963086835698%\n",
            "archivo guardado: porcentaje = 1.7841772618842682%\n",
            "archivo guardado: porcentaje = 1.8456582150849667%\n",
            "archivo guardado: porcentaje = 1.907139168285665%\n",
            "archivo guardado: porcentaje = 1.9686201214863635%\n",
            "archivo guardado: porcentaje = 2.030101074687062%\n",
            "archivo guardado: porcentaje = 2.0915820278877604%\n",
            "archivo guardado: porcentaje = 2.1530629810884587%\n",
            "archivo guardado: porcentaje = 2.214543934289157%\n",
            "archivo guardado: porcentaje = 2.2760248874898554%\n",
            "archivo guardado: porcentaje = 2.3375058406905542%\n",
            "archivo guardado: porcentaje = 2.3989867938912526%\n",
            "archivo guardado: porcentaje = 2.460467747091951%\n",
            "archivo guardado: porcentaje = 2.5219487002926493%\n",
            "archivo guardado: porcentaje = 2.5834296534933476%\n",
            "archivo guardado: porcentaje = 2.644910606694046%\n",
            "archivo guardado: porcentaje = 2.706391559894745%\n",
            "archivo guardado: porcentaje = 2.767872513095443%\n",
            "archivo guardado: porcentaje = 2.8293534662961415%\n",
            "archivo guardado: porcentaje = 2.89083441949684%\n",
            "archivo guardado: porcentaje = 2.952315372697538%\n",
            "archivo guardado: porcentaje = 3.0137963258982365%\n",
            "archivo guardado: porcentaje = 3.0752772790989353%\n",
            "archivo guardado: porcentaje = 3.1367582322996337%\n",
            "archivo guardado: porcentaje = 3.198239185500332%\n",
            "archivo guardado: porcentaje = 3.2597201387010304%\n",
            "archivo guardado: porcentaje = 3.3212010919017287%\n",
            "archivo guardado: porcentaje = 3.382682045102427%\n",
            "archivo guardado: porcentaje = 3.444162998303126%\n",
            "archivo guardado: porcentaje = 3.5056439515038242%\n",
            "archivo guardado: porcentaje = 3.5671249047045226%\n",
            "archivo guardado: porcentaje = 3.628605857905221%\n",
            "archivo guardado: porcentaje = 3.6900868111059193%\n",
            "archivo guardado: porcentaje = 3.7515677643066176%\n",
            "archivo guardado: porcentaje = 3.8130487175073164%\n",
            "archivo guardado: porcentaje = 3.874529670708015%\n",
            "archivo guardado: porcentaje = 3.936010623908713%\n",
            "archivo guardado: porcentaje = 3.9974915771094115%\n",
            "archivo guardado: porcentaje = 4.05897253031011%\n",
            "archivo guardado: porcentaje = 4.120453483510809%\n",
            "archivo guardado: porcentaje = 4.181934436711507%\n",
            "archivo guardado: porcentaje = 4.243415389912205%\n",
            "archivo guardado: porcentaje = 4.304896343112904%\n",
            "archivo guardado: porcentaje = 4.366377296313602%\n",
            "archivo guardado: porcentaje = 4.4278582495143%\n",
            "archivo guardado: porcentaje = 4.489339202714999%\n",
            "archivo guardado: porcentaje = 4.550820155915697%\n",
            "archivo guardado: porcentaje = 4.6123011091163955%\n",
            "archivo guardado: porcentaje = 4.673782062317094%\n",
            "archivo guardado: porcentaje = 4.735263015517792%\n",
            "archivo guardado: porcentaje = 4.796743968718491%\n",
            "archivo guardado: porcentaje = 4.85822492191919%\n",
            "archivo guardado: porcentaje = 4.919705875119888%\n",
            "archivo guardado: porcentaje = 4.9811868283205865%\n",
            "archivo guardado: porcentaje = 5.042667781521285%\n"
          ]
        }
      ]
    }
  ]
}