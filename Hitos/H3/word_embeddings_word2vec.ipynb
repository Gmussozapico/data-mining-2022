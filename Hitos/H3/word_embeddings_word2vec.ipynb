{
 "cells": [
  {
   "cell_type": "code",
   "execution_count": 1,
   "metadata": {},
   "outputs": [
    {
     "name": "stdout",
     "output_type": "stream",
     "text": [
      "Requirement already satisfied: gensim in c:\\users\\felip\\anaconda3\\lib\\site-packages (4.2.0)\n",
      "Requirement already satisfied: Cython==0.29.28 in c:\\users\\felip\\anaconda3\\lib\\site-packages (from gensim) (0.29.28)\n",
      "Requirement already satisfied: numpy>=1.17.0 in c:\\users\\felip\\anaconda3\\lib\\site-packages (from gensim) (1.20.3)\n",
      "Requirement already satisfied: smart-open>=1.8.1 in c:\\users\\felip\\anaconda3\\lib\\site-packages (from gensim) (5.2.1)\n",
      "Requirement already satisfied: scipy>=0.18.1 in c:\\users\\felip\\anaconda3\\lib\\site-packages (from gensim) (1.6.2)\n"
     ]
    }
   ],
   "source": [
    "!pip install gensim"
   ]
  },
  {
   "cell_type": "code",
   "execution_count": 2,
   "metadata": {},
   "outputs": [],
   "source": [
    "import re  \n",
    "import pandas as pd \n",
    "from time import time  \n",
    "from collections import defaultdict \n",
    "import string \n",
    "import multiprocessing\n",
    "import os\n",
    "import gensim\n",
    "import sklearn\n",
    "from sklearn import linear_model\n",
    "from collections import Counter\n",
    "import numpy as np\n",
    "import scipy\n",
    "from sklearn.metrics import accuracy_score, precision_score, recall_score, f1_score, roc_auc_score, confusion_matrix, cohen_kappa_score, classification_report\n",
    "from nltk.tokenize import word_tokenize\n",
    "\n",
    "# word2vec\n",
    "from gensim.models import Word2Vec, KeyedVectors, FastText\n",
    "from gensim.models.phrases import Phrases, Phraser\n",
    "from sklearn.model_selection import train_test_split\n",
    "import logging\n",
    "\n",
    "logging.basicConfig(format='%(asctime)s : %(levelname)s : %(message)s', level=logging.INFO)\n",
    "logger = logging.getLogger(__name__)"
   ]
  },
  {
   "cell_type": "code",
   "execution_count": 3,
   "metadata": {},
   "outputs": [],
   "source": [
    "from collections import Counter\n",
    "\n",
    "punctuation = string.punctuation + \"«»“”‘’…—\"\n",
    "\n",
    "stopwords_spanish = pd.read_csv(\n",
    "    'https://raw.githubusercontent.com/Alir3z4/stop-words/master/spanish.txt'\n",
    ").values\n",
    "stopwords_spanish = Counter(stopwords_spanish.flatten().tolist())\n",
    "\n",
    "stopwords_english = pd.read_csv(\n",
    "    'https://raw.githubusercontent.com/Alir3z4/stop-words/master/english.txt'\n",
    ").values\n",
    "stopwords_english = Counter(stopwords_english.flatten().tolist())\n",
    "\n",
    "def simple_tokenizer(doc, stopwords, lower=False):\n",
    "    if lower:\n",
    "        tokenized_doc = doc.translate(str.maketrans(\n",
    "            '', '', punctuation)).lower().split()\n",
    "\n",
    "    tokenized_doc = doc.translate(str.maketrans('', '', punctuation)).split()\n",
    "\n",
    "    tokenized_doc = [\n",
    "        token for token in tokenized_doc if token.lower() not in stopwords\n",
    "    ]\n",
    "    return tokenized_doc"
   ]
  },
  {
   "cell_type": "code",
   "execution_count": 5,
   "metadata": {},
   "outputs": [],
   "source": [
    "import pickle\n",
    "\n",
    "path =  \"../../Data/train/df_us_train.pickle\"\n",
    "df_us_train = pickle.load(open(path, \"rb\"))"
   ]
  },
  {
   "cell_type": "code",
   "execution_count": 10,
   "metadata": {},
   "outputs": [
    {
     "name": "stderr",
     "output_type": "stream",
     "text": [
      "2022-06-15 16:58:30,081 : INFO : Word2Vec lifecycle event {'params': 'Word2Vec<vocab=0, vector_size=200, alpha=0.03>', 'datetime': '2022-06-15T16:58:30.081955', 'gensim': '4.2.0', 'python': '3.8.12 (default, Oct 12 2021, 03:01:40) [MSC v.1916 64 bit (AMD64)]', 'platform': 'Windows-10-10.0.19044-SP0', 'event': 'created'}\n",
      "2022-06-15 16:58:34,982 : INFO : collecting all words and their counts\n",
      "2022-06-15 16:58:34,982 : INFO : PROGRESS: at sentence #0, processed 0 words and 0 word types\n",
      "2022-06-15 16:58:35,027 : INFO : PROGRESS: at sentence #5000, processed 29821 words and 36340 word types\n",
      "2022-06-15 16:58:35,069 : INFO : PROGRESS: at sentence #10000, processed 59723 words and 67133 word types\n",
      "2022-06-15 16:58:35,129 : INFO : PROGRESS: at sentence #15000, processed 89629 words and 96385 word types\n",
      "2022-06-15 16:58:35,182 : INFO : PROGRESS: at sentence #20000, processed 119889 words and 124696 word types\n",
      "2022-06-15 16:58:35,255 : INFO : PROGRESS: at sentence #25000, processed 149690 words and 151701 word types\n",
      "2022-06-15 16:58:35,315 : INFO : PROGRESS: at sentence #30000, processed 179903 words and 178348 word types\n",
      "2022-06-15 16:58:35,370 : INFO : PROGRESS: at sentence #35000, processed 209937 words and 204152 word types\n",
      "2022-06-15 16:58:35,424 : INFO : PROGRESS: at sentence #40000, processed 239768 words and 229387 word types\n",
      "2022-06-15 16:58:35,476 : INFO : PROGRESS: at sentence #45000, processed 269501 words and 254192 word types\n",
      "2022-06-15 16:58:35,530 : INFO : PROGRESS: at sentence #50000, processed 299491 words and 278555 word types\n",
      "2022-06-15 16:58:35,585 : INFO : PROGRESS: at sentence #55000, processed 329123 words and 302442 word types\n",
      "2022-06-15 16:58:35,639 : INFO : PROGRESS: at sentence #60000, processed 358815 words and 326024 word types\n",
      "2022-06-15 16:58:35,706 : INFO : PROGRESS: at sentence #65000, processed 388561 words and 349827 word types\n",
      "2022-06-15 16:58:35,752 : INFO : PROGRESS: at sentence #70000, processed 418452 words and 373000 word types\n",
      "2022-06-15 16:58:35,803 : INFO : PROGRESS: at sentence #75000, processed 448435 words and 396568 word types\n",
      "2022-06-15 16:58:35,853 : INFO : PROGRESS: at sentence #80000, processed 478447 words and 419738 word types\n",
      "2022-06-15 16:58:35,904 : INFO : PROGRESS: at sentence #85000, processed 508458 words and 442702 word types\n",
      "2022-06-15 16:58:35,959 : INFO : PROGRESS: at sentence #90000, processed 538325 words and 465368 word types\n",
      "2022-06-15 16:58:36,019 : INFO : PROGRESS: at sentence #95000, processed 568391 words and 488175 word types\n",
      "2022-06-15 16:58:36,086 : INFO : PROGRESS: at sentence #100000, processed 598149 words and 510646 word types\n",
      "2022-06-15 16:58:36,143 : INFO : PROGRESS: at sentence #105000, processed 628195 words and 532864 word types\n",
      "2022-06-15 16:58:36,212 : INFO : PROGRESS: at sentence #110000, processed 658152 words and 554901 word types\n",
      "2022-06-15 16:58:36,284 : INFO : PROGRESS: at sentence #115000, processed 687982 words and 576564 word types\n",
      "2022-06-15 16:58:36,335 : INFO : PROGRESS: at sentence #120000, processed 718002 words and 598212 word types\n",
      "2022-06-15 16:58:36,398 : INFO : PROGRESS: at sentence #125000, processed 747858 words and 619562 word types\n",
      "2022-06-15 16:58:36,452 : INFO : PROGRESS: at sentence #130000, processed 777833 words and 641094 word types\n",
      "2022-06-15 16:58:36,506 : INFO : PROGRESS: at sentence #135000, processed 807834 words and 662604 word types\n",
      "2022-06-15 16:58:36,563 : INFO : PROGRESS: at sentence #140000, processed 837667 words and 683937 word types\n",
      "2022-06-15 16:58:36,668 : INFO : PROGRESS: at sentence #145000, processed 867400 words and 704902 word types\n",
      "2022-06-15 16:58:36,725 : INFO : PROGRESS: at sentence #150000, processed 897281 words and 725859 word types\n",
      "2022-06-15 16:58:36,779 : INFO : PROGRESS: at sentence #155000, processed 927317 words and 747073 word types\n",
      "2022-06-15 16:58:36,836 : INFO : PROGRESS: at sentence #160000, processed 956963 words and 767471 word types\n",
      "2022-06-15 16:58:36,904 : INFO : PROGRESS: at sentence #165000, processed 987086 words and 788316 word types\n",
      "2022-06-15 16:58:36,961 : INFO : PROGRESS: at sentence #170000, processed 1017091 words and 809059 word types\n",
      "2022-06-15 16:58:37,021 : INFO : PROGRESS: at sentence #175000, processed 1046887 words and 829640 word types\n",
      "2022-06-15 16:58:37,073 : INFO : PROGRESS: at sentence #180000, processed 1076816 words and 850016 word types\n",
      "2022-06-15 16:58:37,133 : INFO : PROGRESS: at sentence #185000, processed 1106774 words and 870344 word types\n",
      "2022-06-15 16:58:37,188 : INFO : PROGRESS: at sentence #190000, processed 1136741 words and 890528 word types\n",
      "2022-06-15 16:58:37,245 : INFO : PROGRESS: at sentence #195000, processed 1166616 words and 910649 word types\n",
      "2022-06-15 16:58:37,303 : INFO : PROGRESS: at sentence #200000, processed 1196589 words and 930900 word types\n",
      "2022-06-15 16:58:37,357 : INFO : PROGRESS: at sentence #205000, processed 1226681 words and 951296 word types\n",
      "2022-06-15 16:58:37,412 : INFO : PROGRESS: at sentence #210000, processed 1256740 words and 971329 word types\n",
      "2022-06-15 16:58:37,463 : INFO : PROGRESS: at sentence #215000, processed 1286616 words and 991091 word types\n",
      "2022-06-15 16:58:37,512 : INFO : PROGRESS: at sentence #220000, processed 1316483 words and 1011057 word types\n",
      "2022-06-15 16:58:37,564 : INFO : PROGRESS: at sentence #225000, processed 1346385 words and 1030791 word types\n",
      "2022-06-15 16:58:37,615 : INFO : PROGRESS: at sentence #230000, processed 1376427 words and 1050757 word types\n",
      "2022-06-15 16:58:37,667 : INFO : PROGRESS: at sentence #235000, processed 1406495 words and 1070558 word types\n",
      "2022-06-15 16:58:37,732 : INFO : PROGRESS: at sentence #240000, processed 1436339 words and 1090205 word types\n",
      "2022-06-15 16:58:37,794 : INFO : PROGRESS: at sentence #245000, processed 1466282 words and 1109834 word types\n",
      "2022-06-15 16:58:37,848 : INFO : PROGRESS: at sentence #250000, processed 1496098 words and 1129510 word types\n",
      "2022-06-15 16:58:37,903 : INFO : PROGRESS: at sentence #255000, processed 1526021 words and 1148966 word types\n",
      "2022-06-15 16:58:37,957 : INFO : PROGRESS: at sentence #260000, processed 1555744 words and 1168249 word types\n",
      "2022-06-15 16:58:38,009 : INFO : PROGRESS: at sentence #265000, processed 1585756 words and 1187699 word types\n",
      "2022-06-15 16:58:38,079 : INFO : PROGRESS: at sentence #270000, processed 1615803 words and 1207385 word types\n",
      "2022-06-15 16:58:38,139 : INFO : PROGRESS: at sentence #275000, processed 1645378 words and 1226291 word types\n",
      "2022-06-15 16:58:38,203 : INFO : PROGRESS: at sentence #280000, processed 1675026 words and 1245223 word types\n",
      "2022-06-15 16:58:38,267 : INFO : PROGRESS: at sentence #285000, processed 1704866 words and 1263996 word types\n",
      "2022-06-15 16:58:38,324 : INFO : PROGRESS: at sentence #290000, processed 1734967 words and 1283113 word types\n",
      "2022-06-15 16:58:38,376 : INFO : PROGRESS: at sentence #295000, processed 1764809 words and 1302142 word types\n",
      "2022-06-15 16:58:38,436 : INFO : PROGRESS: at sentence #300000, processed 1794695 words and 1321038 word types\n",
      "2022-06-15 16:58:38,491 : INFO : PROGRESS: at sentence #305000, processed 1824734 words and 1340287 word types\n",
      "2022-06-15 16:58:38,548 : INFO : PROGRESS: at sentence #310000, processed 1854602 words and 1359084 word types\n",
      "2022-06-15 16:58:38,600 : INFO : PROGRESS: at sentence #315000, processed 1884377 words and 1377845 word types\n",
      "2022-06-15 16:58:38,657 : INFO : PROGRESS: at sentence #320000, processed 1914212 words and 1396458 word types\n",
      "2022-06-15 16:58:38,776 : INFO : PROGRESS: at sentence #325000, processed 1944071 words and 1415395 word types\n",
      "2022-06-15 16:58:38,834 : INFO : PROGRESS: at sentence #330000, processed 1974216 words and 1434132 word types\n",
      "2022-06-15 16:58:38,883 : INFO : PROGRESS: at sentence #335000, processed 2004053 words and 1452617 word types\n",
      "2022-06-15 16:58:38,940 : INFO : PROGRESS: at sentence #340000, processed 2033822 words and 1471132 word types\n",
      "2022-06-15 16:58:38,999 : INFO : PROGRESS: at sentence #345000, processed 2063591 words and 1489496 word types\n",
      "2022-06-15 16:58:39,053 : INFO : PROGRESS: at sentence #350000, processed 2093367 words and 1508074 word types\n",
      "2022-06-15 16:58:39,113 : INFO : PROGRESS: at sentence #355000, processed 2123593 words and 1526622 word types\n"
     ]
    },
    {
     "name": "stderr",
     "output_type": "stream",
     "text": [
      "2022-06-15 16:58:39,163 : INFO : PROGRESS: at sentence #360000, processed 2153424 words and 1545014 word types\n",
      "2022-06-15 16:58:39,215 : INFO : PROGRESS: at sentence #365000, processed 2183479 words and 1563543 word types\n",
      "2022-06-15 16:58:39,260 : INFO : PROGRESS: at sentence #370000, processed 2213300 words and 1581910 word types\n",
      "2022-06-15 16:58:39,311 : INFO : PROGRESS: at sentence #375000, processed 2243347 words and 1600485 word types\n",
      "2022-06-15 16:58:39,365 : INFO : PROGRESS: at sentence #380000, processed 2273268 words and 1619180 word types\n",
      "2022-06-15 16:58:39,416 : INFO : PROGRESS: at sentence #385000, processed 2303285 words and 1637550 word types\n",
      "2022-06-15 16:58:39,440 : INFO : collected 1645907 token types (unigram + bigrams) from a corpus of 2317037 words and 387292 sentences\n",
      "2022-06-15 16:58:39,440 : INFO : merged Phrases<1645907 vocab, min_count=150, threshold=10.0, max_vocab_size=40000000>\n",
      "2022-06-15 16:58:39,440 : INFO : Phrases lifecycle event {'msg': 'built Phrases<1645907 vocab, min_count=150, threshold=10.0, max_vocab_size=40000000> in 4.46s', 'datetime': '2022-06-15T16:58:39.440582', 'gensim': '4.2.0', 'python': '3.8.12 (default, Oct 12 2021, 03:01:40) [MSC v.1916 64 bit (AMD64)]', 'platform': 'Windows-10-10.0.19044-SP0', 'event': 'created'}\n",
      "2022-06-15 16:58:39,443 : INFO : exporting phrases from Phrases<1645907 vocab, min_count=150, threshold=10.0, max_vocab_size=40000000>\n",
      "2022-06-15 16:58:43,159 : INFO : FrozenPhrases lifecycle event {'msg': 'exported FrozenPhrases<146 phrases, min_count=150, threshold=10.0> from Phrases<1645907 vocab, min_count=150, threshold=10.0, max_vocab_size=40000000> in 3.72s', 'datetime': '2022-06-15T16:58:43.159212', 'gensim': '4.2.0', 'python': '3.8.12 (default, Oct 12 2021, 03:01:40) [MSC v.1916 64 bit (AMD64)]', 'platform': 'Windows-10-10.0.19044-SP0', 'event': 'created'}\n",
      "2022-06-15 16:58:43,159 : INFO : collecting all words and their counts\n",
      "2022-06-15 16:58:43,159 : INFO : PROGRESS: at sentence #0, processed 0 words, keeping 0 word types\n",
      "2022-06-15 16:58:43,262 : INFO : PROGRESS: at sentence #10000, processed 58349 words, keeping 22422 word types\n",
      "2022-06-15 16:58:43,356 : INFO : PROGRESS: at sentence #20000, processed 117077 words, keeping 37646 word types\n",
      "2022-06-15 16:58:43,456 : INFO : PROGRESS: at sentence #30000, processed 175685 words, keeping 50663 word types\n",
      "2022-06-15 16:58:43,550 : INFO : PROGRESS: at sentence #40000, processed 234156 words, keeping 62436 word types\n",
      "2022-06-15 16:58:43,647 : INFO : PROGRESS: at sentence #50000, processed 292455 words, keeping 73274 word types\n",
      "2022-06-15 16:58:43,763 : INFO : PROGRESS: at sentence #60000, processed 350387 words, keeping 83418 word types\n",
      "2022-06-15 16:58:43,866 : INFO : PROGRESS: at sentence #70000, processed 408598 words, keeping 93341 word types\n",
      "2022-06-15 16:58:43,974 : INFO : PROGRESS: at sentence #80000, processed 467232 words, keeping 103099 word types\n",
      "2022-06-15 16:58:44,078 : INFO : PROGRESS: at sentence #90000, processed 525688 words, keeping 112285 word types\n",
      "2022-06-15 16:58:44,177 : INFO : PROGRESS: at sentence #100000, processed 584047 words, keeping 121434 word types\n",
      "2022-06-15 16:58:44,267 : INFO : PROGRESS: at sentence #110000, processed 642585 words, keeping 130176 word types\n",
      "2022-06-15 16:58:44,366 : INFO : PROGRESS: at sentence #120000, processed 700957 words, keeping 138464 word types\n",
      "2022-06-15 16:58:44,465 : INFO : PROGRESS: at sentence #130000, processed 759261 words, keeping 146749 word types\n",
      "2022-06-15 16:58:44,562 : INFO : PROGRESS: at sentence #140000, processed 817692 words, keeping 154939 word types\n",
      "2022-06-15 16:58:44,665 : INFO : PROGRESS: at sentence #150000, processed 875883 words, keeping 162776 word types\n",
      "2022-06-15 16:58:44,768 : INFO : PROGRESS: at sentence #160000, processed 934175 words, keeping 170594 word types\n",
      "2022-06-15 16:58:44,871 : INFO : PROGRESS: at sentence #170000, processed 992815 words, keeping 178298 word types\n",
      "2022-06-15 16:58:44,959 : INFO : PROGRESS: at sentence #180000, processed 1051098 words, keeping 185899 word types\n",
      "2022-06-15 16:58:45,059 : INFO : PROGRESS: at sentence #190000, processed 1109612 words, keeping 193181 word types\n",
      "2022-06-15 16:58:45,153 : INFO : PROGRESS: at sentence #200000, processed 1168032 words, keeping 200459 word types\n",
      "2022-06-15 16:58:45,253 : INFO : PROGRESS: at sentence #210000, processed 1226751 words, keeping 207710 word types\n",
      "2022-06-15 16:58:45,350 : INFO : PROGRESS: at sentence #220000, processed 1285103 words, keeping 214831 word types\n",
      "2022-06-15 16:58:45,445 : INFO : PROGRESS: at sentence #230000, processed 1343618 words, keeping 221943 word types\n",
      "2022-06-15 16:58:45,551 : INFO : PROGRESS: at sentence #240000, processed 1402162 words, keeping 228800 word types\n",
      "2022-06-15 16:58:45,659 : INFO : PROGRESS: at sentence #250000, processed 1460544 words, keeping 235644 word types\n",
      "2022-06-15 16:58:45,765 : INFO : PROGRESS: at sentence #260000, processed 1518809 words, keeping 242409 word types\n",
      "2022-06-15 16:58:45,893 : INFO : PROGRESS: at sentence #270000, processed 1577458 words, keeping 249238 word types\n",
      "2022-06-15 16:58:46,002 : INFO : PROGRESS: at sentence #280000, processed 1635267 words, keeping 255791 word types\n",
      "2022-06-15 16:58:46,114 : INFO : PROGRESS: at sentence #290000, processed 1693710 words, keeping 262236 word types\n",
      "2022-06-15 16:58:46,241 : INFO : PROGRESS: at sentence #300000, processed 1752026 words, keeping 268791 word types\n",
      "2022-06-15 16:58:46,350 : INFO : PROGRESS: at sentence #310000, processed 1810606 words, keeping 275311 word types\n",
      "2022-06-15 16:58:46,468 : INFO : PROGRESS: at sentence #320000, processed 1868771 words, keeping 281665 word types\n",
      "2022-06-15 16:58:46,583 : INFO : PROGRESS: at sentence #330000, processed 1927387 words, keeping 288142 word types\n",
      "2022-06-15 16:58:46,690 : INFO : PROGRESS: at sentence #340000, processed 1985551 words, keeping 294418 word types\n",
      "2022-06-15 16:58:46,797 : INFO : PROGRESS: at sentence #350000, processed 2043633 words, keeping 300679 word types\n",
      "2022-06-15 16:58:46,903 : INFO : PROGRESS: at sentence #360000, processed 2102238 words, keeping 306859 word types\n",
      "2022-06-15 16:58:47,006 : INFO : PROGRESS: at sentence #370000, processed 2160702 words, keeping 313042 word types\n",
      "2022-06-15 16:58:47,109 : INFO : PROGRESS: at sentence #380000, processed 2219281 words, keeping 319242 word types\n",
      "2022-06-15 16:58:47,184 : INFO : collected 323625 word types from a corpus of 2262016 raw words and 387292 sentences\n",
      "2022-06-15 16:58:47,187 : INFO : Creating a fresh vocabulary\n",
      "2022-06-15 16:58:47,337 : INFO : Word2Vec lifecycle event {'msg': 'effective_min_count=200 retains 1509 unique words (0.47% of original 323625, drops 322116)', 'datetime': '2022-06-15T16:58:47.337058', 'gensim': '4.2.0', 'python': '3.8.12 (default, Oct 12 2021, 03:01:40) [MSC v.1916 64 bit (AMD64)]', 'platform': 'Windows-10-10.0.19044-SP0', 'event': 'prepare_vocab'}\n",
      "2022-06-15 16:58:47,337 : INFO : Word2Vec lifecycle event {'msg': 'effective_min_count=200 leaves 1108155 word corpus (48.99% of original 2262016, drops 1153861)', 'datetime': '2022-06-15T16:58:47.337058', 'gensim': '4.2.0', 'python': '3.8.12 (default, Oct 12 2021, 03:01:40) [MSC v.1916 64 bit (AMD64)]', 'platform': 'Windows-10-10.0.19044-SP0', 'event': 'prepare_vocab'}\n",
      "2022-06-15 16:58:47,352 : INFO : deleting the raw counts dictionary of 323625 items\n",
      "2022-06-15 16:58:47,358 : INFO : sample=6e-05 downsamples 1509 most-common words\n",
      "2022-06-15 16:58:47,360 : INFO : Word2Vec lifecycle event {'msg': 'downsampling leaves estimated 387232.66999843885 word corpus (34.9%% of prior 1108155)', 'datetime': '2022-06-15T16:58:47.360993', 'gensim': '4.2.0', 'python': '3.8.12 (default, Oct 12 2021, 03:01:40) [MSC v.1916 64 bit (AMD64)]', 'platform': 'Windows-10-10.0.19044-SP0', 'event': 'prepare_vocab'}\n",
      "2022-06-15 16:58:47,427 : INFO : estimated required memory for 1509 words and 200 dimensions: 3168900 bytes\n",
      "2022-06-15 16:58:47,427 : INFO : resetting layer weights\n",
      "2022-06-15 16:58:47,460 : INFO : Word2Vec lifecycle event {'update': False, 'trim_rule': 'None', 'datetime': '2022-06-15T16:58:47.460544', 'gensim': '4.2.0', 'python': '3.8.12 (default, Oct 12 2021, 03:01:40) [MSC v.1916 64 bit (AMD64)]', 'platform': 'Windows-10-10.0.19044-SP0', 'event': 'build_vocab'}\n"
     ]
    },
    {
     "name": "stderr",
     "output_type": "stream",
     "text": [
      "2022-06-15 16:58:47,463 : INFO : Word2Vec lifecycle event {'msg': 'training model with 8 workers on 1509 vocabulary and 200 features, using sg=0 hs=0 sample=6e-05 negative=20 window=4 shrink_windows=True', 'datetime': '2022-06-15T16:58:47.463561', 'gensim': '4.2.0', 'python': '3.8.12 (default, Oct 12 2021, 03:01:40) [MSC v.1916 64 bit (AMD64)]', 'platform': 'Windows-10-10.0.19044-SP0', 'event': 'train'}\n",
      "2022-06-15 16:58:48,481 : INFO : EPOCH 0 - PROGRESS: at 9.70% examples, 37285 words/s, in_qsize 14, out_qsize 1\n",
      "2022-06-15 16:58:52,343 : INFO : EPOCH 0: training on 2262016 raw words (386809 effective words) took 4.9s, 79462 effective words/s\n",
      "2022-06-15 16:58:53,567 : INFO : EPOCH 1 - PROGRESS: at 14.13% examples, 45103 words/s, in_qsize 13, out_qsize 1\n",
      "2022-06-15 16:58:56,917 : INFO : EPOCH 1: training on 2262016 raw words (387200 effective words) took 4.6s, 84859 effective words/s\n",
      "2022-06-15 16:58:57,976 : INFO : EPOCH 2 - PROGRESS: at 11.03% examples, 41992 words/s, in_qsize 13, out_qsize 4\n",
      "2022-06-15 16:59:01,630 : INFO : EPOCH 2: training on 2262016 raw words (387098 effective words) took 4.7s, 82866 effective words/s\n",
      "2022-06-15 16:59:02,744 : INFO : EPOCH 3 - PROGRESS: at 20.34% examples, 71329 words/s, in_qsize 7, out_qsize 1\n",
      "2022-06-15 16:59:06,140 : INFO : EPOCH 3: training on 2262016 raw words (387243 effective words) took 4.5s, 86188 effective words/s\n",
      "2022-06-15 16:59:07,203 : INFO : EPOCH 4 - PROGRESS: at 15.46% examples, 57007 words/s, in_qsize 8, out_qsize 0\n",
      "2022-06-15 16:59:11,203 : INFO : EPOCH 4: training on 2262016 raw words (386625 effective words) took 5.1s, 76537 effective words/s\n",
      "2022-06-15 16:59:12,300 : INFO : EPOCH 5 - PROGRESS: at 14.58% examples, 52450 words/s, in_qsize 12, out_qsize 4\n",
      "2022-06-15 16:59:15,784 : INFO : EPOCH 5: training on 2262016 raw words (387072 effective words) took 4.6s, 84911 effective words/s\n",
      "2022-06-15 16:59:16,871 : INFO : EPOCH 6 - PROGRESS: at 19.45% examples, 70105 words/s, in_qsize 2, out_qsize 0\n",
      "2022-06-15 16:59:20,300 : INFO : EPOCH 6: training on 2262016 raw words (387509 effective words) took 4.5s, 86081 effective words/s\n",
      "2022-06-15 16:59:21,457 : INFO : EPOCH 7 - PROGRESS: at 20.33% examples, 68587 words/s, in_qsize 15, out_qsize 0\n",
      "2022-06-15 16:59:24,802 : INFO : EPOCH 7: training on 2262016 raw words (387126 effective words) took 4.5s, 86219 effective words/s\n",
      "2022-06-15 16:59:25,862 : INFO : EPOCH 8 - PROGRESS: at 10.14% examples, 38024 words/s, in_qsize 14, out_qsize 1\n",
      "2022-06-15 16:59:29,499 : INFO : EPOCH 8: training on 2262016 raw words (386937 effective words) took 4.7s, 82889 effective words/s\n",
      "2022-06-15 16:59:30,552 : INFO : EPOCH 9 - PROGRESS: at 15.91% examples, 59428 words/s, in_qsize 14, out_qsize 2\n",
      "2022-06-15 16:59:33,994 : INFO : EPOCH 9: training on 2262016 raw words (387109 effective words) took 4.5s, 86505 effective words/s\n",
      "2022-06-15 16:59:35,098 : INFO : EPOCH 10 - PROGRESS: at 11.47% examples, 40902 words/s, in_qsize 14, out_qsize 1\n",
      "2022-06-15 16:59:38,504 : INFO : EPOCH 10: training on 2262016 raw words (387211 effective words) took 4.5s, 86105 effective words/s\n",
      "2022-06-15 16:59:39,717 : INFO : EPOCH 11 - PROGRESS: at 14.14% examples, 45518 words/s, in_qsize 15, out_qsize 0\n",
      "2022-06-15 16:59:43,704 : INFO : EPOCH 11: training on 2262016 raw words (387200 effective words) took 5.2s, 74676 effective words/s\n",
      "2022-06-15 16:59:44,864 : INFO : EPOCH 12 - PROGRESS: at 16.81% examples, 57219 words/s, in_qsize 11, out_qsize 0\n",
      "2022-06-15 16:59:48,504 : INFO : EPOCH 12: training on 2262016 raw words (386953 effective words) took 4.8s, 81017 effective words/s\n",
      "2022-06-15 16:59:49,626 : INFO : EPOCH 13 - PROGRESS: at 8.81% examples, 31616 words/s, in_qsize 16, out_qsize 0\n",
      "2022-06-15 16:59:53,462 : INFO : EPOCH 13: training on 2262016 raw words (387463 effective words) took 4.9s, 78737 effective words/s\n",
      "2022-06-15 16:59:54,511 : INFO : EPOCH 14 - PROGRESS: at 21.21% examples, 79061 words/s, in_qsize 9, out_qsize 0\n",
      "2022-06-15 16:59:58,070 : INFO : EPOCH 14: training on 2262016 raw words (387382 effective words) took 4.6s, 84350 effective words/s\n",
      "2022-06-15 16:59:58,070 : INFO : Word2Vec lifecycle event {'msg': 'training on 33930240 raw words (5806937 effective words) took 70.6s, 82242 effective words/s', 'datetime': '2022-06-15T16:59:58.070898', 'gensim': '4.2.0', 'python': '3.8.12 (default, Oct 12 2021, 03:01:40) [MSC v.1916 64 bit (AMD64)]', 'platform': 'Windows-10-10.0.19044-SP0', 'event': 'train'}\n",
      "<ipython-input-10-baca99570813>:22: DeprecationWarning: Call to deprecated `init_sims` (Gensim 4.0.0 implemented internal optimizations that make calls to init_sims() unnecessary. init_sims() is now obsoleted and will be completely removed in future versions. See https://github.com/RaRe-Technologies/gensim/wiki/Migrating-from-Gensim-3.x-to-4).\n",
      "  us_emoji_w2v.init_sims(replace=True)\n",
      "2022-06-15 16:59:58,087 : WARNING : destructive init_sims(replace=True) deprecated & no longer required for space-efficiency\n"
     ]
    },
    {
     "name": "stdout",
     "output_type": "stream",
     "text": [
      "Time to train the model: 1.18 mins\n"
     ]
    }
   ],
   "source": [
    "us_emoji_w2v = Word2Vec(min_count=200,\n",
    "                      window=4,\n",
    "                      vector_size=200,\n",
    "                      sample=6e-5,\n",
    "                      alpha=0.03,\n",
    "                      min_alpha=0.0007,\n",
    "                      negative=20,\n",
    "                      workers=multiprocessing.cpu_count())\n",
    "\n",
    "content = df_us_train[\"text\"]\n",
    "cleaned_content = [simple_tokenizer(doc, stopwords=stopwords_english) for doc in content.values]\n",
    "phrases = Phrases(cleaned_content, min_count=150, progress_per=5000) \n",
    "bigram = Phraser(phrases)\n",
    "sentences = bigram[cleaned_content]\n",
    "\n",
    "us_emoji_w2v.build_vocab(sentences, progress_per=10000)\n",
    "\n",
    "t = time()\n",
    "us_emoji_w2v.train(sentences, total_examples=us_emoji_w2v.corpus_count, epochs=15, report_delay=10)\n",
    "print('Time to train the model: {} mins'.format(round((time() - t) / 60, 2)))\n",
    "\n",
    "us_emoji_w2v.init_sims(replace=True)"
   ]
  },
  {
   "cell_type": "code",
   "execution_count": 25,
   "metadata": {},
   "outputs": [
    {
     "data": {
      "text/plain": [
       "{'user': 0,\n",
       " 'love': 1,\n",
       " 'amp': 2,\n",
       " 'day': 3,\n",
       " 'night': 4,\n",
       " 'time': 5,\n",
       " 'Park': 6,\n",
       " 'Love': 7,\n",
       " 'University': 8,\n",
       " 'California': 9,\n",
       " 'beautiful': 10,\n",
       " 'Happy': 11,\n",
       " 'Beach': 12,\n",
       " 'happy': 13,\n",
       " 'fun': 14,\n",
       " 'Center': 15,\n",
       " 'Christmas': 16,\n",
       " 'family': 17,\n",
       " 'favorite': 18,\n",
       " 'City': 19,\n",
       " 'life': 20,\n",
       " 'friends': 21,\n",
       " 'tonight': 22,\n",
       " 'weekend': 23,\n",
       " 'amazing': 24,\n",
       " 'girl': 25,\n",
       " 'morning': 26,\n",
       " 'School': 27,\n",
       " 'Lake': 28,\n",
       " 'York': 29,\n",
       " 'friend': 30,\n",
       " 'Day': 31,\n",
       " 'NYC': 32,\n",
       " '2': 33,\n",
       " 'people': 34,\n",
       " 'Florida': 35,\n",
       " 'Texas': 36,\n",
       " 'birthday': 37,\n",
       " 'girls': 38,\n",
       " 'week': 39,\n",
       " 'Los_Angeles': 40,\n",
       " 'baby': 41,\n",
       " 'days': 42,\n",
       " 'Repost': 43,\n",
       " 'Miami': 44,\n",
       " 'heart': 45,\n",
       " 'Chicago': 46,\n",
       " 'Stadium': 47,\n",
       " 'House': 48,\n",
       " 'wait': 49,\n",
       " 'Downtown': 50,\n",
       " 'York_York': 51,\n",
       " 'pretty': 52,\n",
       " 'lol': 53,\n",
       " 'Island': 54,\n",
       " 'ready': 55,\n",
       " 'picture': 56,\n",
       " '2016': 57,\n",
       " 'game': 58,\n",
       " 'guys': 59,\n",
       " 'tbt': 60,\n",
       " 'nyc': 61,\n",
       " 'Hotel': 62,\n",
       " 'Bar': 63,\n",
       " 'view': 64,\n",
       " 'Sunday': 65,\n",
       " '1': 66,\n",
       " 'guy': 67,\n",
       " 'summer': 68,\n",
       " 'beach': 69,\n",
       " 'College': 70,\n",
       " 'South': 71,\n",
       " 'pic': 72,\n",
       " 'photo': 73,\n",
       " 'Club': 74,\n",
       " 'West': 75,\n",
       " 'dinner': 76,\n",
       " 'party': 77,\n",
       " 'NY': 78,\n",
       " 'sweet': 79,\n",
       " 'North': 80,\n",
       " 'lit': 81,\n",
       " 'city': 82,\n",
       " 'coming': 83,\n",
       " 'Family': 84,\n",
       " 'cute': 85,\n",
       " '3': 86,\n",
       " 'Friday': 87,\n",
       " 'Restaurant': 88,\n",
       " 'Las_Vegas': 89,\n",
       " 'perfect': 90,\n",
       " 'boy': 91,\n",
       " 'awesome': 92,\n",
       " 'Resort': 93,\n",
       " 'hair': 94,\n",
       " 'yall': 95,\n",
       " 'Street': 96,\n",
       " 'Church': 97,\n",
       " 'Disney': 98,\n",
       " 'Merry_Christmas': 99,\n",
       " 'selfie': 100,\n",
       " 'Saturday': 101,\n",
       " 'ya': 102,\n",
       " 'Happy_birthday': 103,\n",
       " 'Hollywood': 104,\n",
       " 'Brooklyn': 105,\n",
       " 'food': 106,\n",
       " 'thankful': 107,\n",
       " 'Ohio': 108,\n",
       " 'live': 109,\n",
       " 'East': 110,\n",
       " 'real': 111,\n",
       " 'mom': 112,\n",
       " 'Jersey': 113,\n",
       " 'excited': 114,\n",
       " 'wedding': 115,\n",
       " 'Washington': 116,\n",
       " 'season': 117,\n",
       " 'County': 118,\n",
       " 'Michigan': 119,\n",
       " 'Georgia': 120,\n",
       " 'sister': 121,\n",
       " 'International_Airport': 122,\n",
       " 'Beautiful': 123,\n",
       " 'National': 124,\n",
       " 'cool': 125,\n",
       " 'Happy_Birthday': 126,\n",
       " 'Cafe': 127,\n",
       " 'Hall': 128,\n",
       " 'yesterday': 129,\n",
       " 'finally': 130,\n",
       " 'music': 131,\n",
       " 'feel': 132,\n",
       " 'trip': 133,\n",
       " 'Atlanta': 134,\n",
       " 'blessed': 135,\n",
       " 'ladies': 136,\n",
       " 'usa': 137,\n",
       " 'tomorrow': 138,\n",
       " 'sunset': 139,\n",
       " 'Life': 140,\n",
       " '4': 141,\n",
       " 'San_Francisco': 142,\n",
       " 'hot': 143,\n",
       " 'boys': 144,\n",
       " 'Arena': 145,\n",
       " 'lovely': 146,\n",
       " '•': 147,\n",
       " 'Valley': 148,\n",
       " 'loves': 149,\n",
       " 'Night': 150,\n",
       " 'Monday': 151,\n",
       " 'post': 152,\n",
       " 'Lounge': 153,\n",
       " 'smile': 154,\n",
       " 'Grand': 155,\n",
       " 'nice': 156,\n",
       " 'River': 157,\n",
       " 'wonderful': 158,\n",
       " 'Theatre': 159,\n",
       " 'Time': 160,\n",
       " 'start': 161,\n",
       " 'beauty': 162,\n",
       " 'lunch': 163,\n",
       " 'Grill': 164,\n",
       " 'LOVE': 165,\n",
       " '5': 166,\n",
       " 'team': 167,\n",
       " 'kids': 168,\n",
       " 'crazy': 169,\n",
       " 'God': 170,\n",
       " 'hope': 171,\n",
       " 'USA': 172,\n",
       " 'school': 173,\n",
       " 'shit': 174,\n",
       " 'glad': 175,\n",
       " 'gonna': 176,\n",
       " 'Museum': 177,\n",
       " 'fam': 178,\n",
       " 'Rock': 179,\n",
       " 'sun': 180,\n",
       " 'Field': 181,\n",
       " 'Art': 182,\n",
       " 'Virginia': 183,\n",
       " 'gorgeous': 184,\n",
       " 'Red': 185,\n",
       " 'times': 186,\n",
       " 'Bay': 187,\n",
       " 'bad': 188,\n",
       " 'America': 189,\n",
       " 'North_Carolina': 190,\n",
       " 'hard': 191,\n",
       " 'Mountain': 192,\n",
       " 'meet': 193,\n",
       " 'art': 194,\n",
       " 'Birthday': 195,\n",
       " 'newyork': 196,\n",
       " 'Music': 197,\n",
       " 'Disneyland': 198,\n",
       " 'moment': 199,\n",
       " 'Boston': 200,\n",
       " 'Market': 201,\n",
       " 'Houston': 202,\n",
       " 'Morning': 203,\n",
       " '2017': 204,\n",
       " 'Hill': 205,\n",
       " 'Square': 206,\n",
       " 'travel': 207,\n",
       " 'special': 208,\n",
       " 'Orlando': 209,\n",
       " 'shot': 210,\n",
       " 'Memorial': 211,\n",
       " 'Mall': 212,\n",
       " 'lil': 213,\n",
       " 'holiday': 214,\n",
       " 'FL': 215,\n",
       " 'fall': 216,\n",
       " 'San_Diego': 217,\n",
       " 'play': 218,\n",
       " 'Creek': 219,\n",
       " 'Kingdom': 220,\n",
       " 'house': 221,\n",
       " 'visit': 222,\n",
       " 'Village': 223,\n",
       " 'Finally': 224,\n",
       " 'class': 225,\n",
       " 'Garden': 226,\n",
       " 'American': 227,\n",
       " 'Dallas': 228,\n",
       " 'babe': 229,\n",
       " 'christmas': 230,\n",
       " 'South_Beach': 231,\n",
       " 'spend': 232,\n",
       " 'weather': 233,\n",
       " 'Studio': 234,\n",
       " 'set': 235,\n",
       " 'Disneys_Magic': 236,\n",
       " 'Dinner': 237,\n",
       " 'Thankful': 238,\n",
       " 'Coffee': 239,\n",
       " 'coffee': 240,\n",
       " 'Tennessee': 241,\n",
       " 'Lol': 242,\n",
       " 'video': 243,\n",
       " 'nights': 244,\n",
       " 'Town': 245,\n",
       " 'Fun': 246,\n",
       " 'San': 247,\n",
       " 'York_City': 248,\n",
       " 'Times_Square': 249,\n",
       " 'Blue': 250,\n",
       " 'TX': 251,\n",
       " 'dance': 252,\n",
       " 'Toronto': 253,\n",
       " 'person': 254,\n",
       " 'Manhattan': 255,\n",
       " 'Santa': 256,\n",
       " 'Hills': 257,\n",
       " 'brother': 258,\n",
       " 'Hey': 259,\n",
       " 'Indiana': 260,\n",
       " 'Pennsylvania': 261,\n",
       " 'Fort': 262,\n",
       " 'tho': 263,\n",
       " 'Kentucky': 264,\n",
       " 'lot': 265,\n",
       " 'dad': 266,\n",
       " 'lady': 267,\n",
       " 'breakfast': 268,\n",
       " 'United': 269,\n",
       " 'Philadelphia': 270,\n",
       " 'Bridge': 271,\n",
       " 'Check': 272,\n",
       " 'job': 273,\n",
       " 'Live': 274,\n",
       " 'check': 275,\n",
       " 'Studios': 276,\n",
       " 'ass': 277,\n",
       " 'South_Carolina': 278,\n",
       " 'Missing': 279,\n",
       " 'Arizona': 280,\n",
       " 'Hope': 281,\n",
       " 'York_NY': 282,\n",
       " 'Farm': 283,\n",
       " 'couple': 284,\n",
       " 'style': 285,\n",
       " 'Springs': 286,\n",
       " 'Photo': 287,\n",
       " 'Baby': 288,\n",
       " 'Fitness': 289,\n",
       " 'bro': 290,\n",
       " 'Colorado': 291,\n",
       " 'walk': 292,\n",
       " 'shoot': 293,\n",
       " 'light': 294,\n",
       " 'pictures': 295,\n",
       " 'missed': 296,\n",
       " 'Zoo': 297,\n",
       " '6': 298,\n",
       " 'fav': 299,\n",
       " 'funny': 300,\n",
       " 'feeling': 301,\n",
       " 'bae': 302,\n",
       " 'Party': 303,\n",
       " 'dog': 304,\n",
       " 'loved': 305,\n",
       " 'gift': 306,\n",
       " 'District': 307,\n",
       " 'break': 308,\n",
       " 'Nashville': 309,\n",
       " 'Tonight': 310,\n",
       " 'months': 311,\n",
       " 'Vegas': 312,\n",
       " 'vacation': 313,\n",
       " 'Central_Park': 314,\n",
       " 'watch': 315,\n",
       " 'lights': 316,\n",
       " 'Alabama': 317,\n",
       " 'Summer': 318,\n",
       " 'Miami_Beach': 319,\n",
       " 'sisters': 320,\n",
       " 'nofilter': 321,\n",
       " 'Black': 322,\n",
       " 'true': 323,\n",
       " 'left': 324,\n",
       " 'Central': 325,\n",
       " 'sunshine': 326,\n",
       " 'ride': 327,\n",
       " 'Ocean': 328,\n",
       " 'town': 329,\n",
       " 'Austin': 330,\n",
       " 'Salon': 331,\n",
       " 'Lunch': 332,\n",
       " 'handsome': 333,\n",
       " 'Halloween': 334,\n",
       " 'stay': 335,\n",
       " 'Seattle': 336,\n",
       " 'super': 337,\n",
       " 'guess': 338,\n",
       " 'kid': 339,\n",
       " 'color': 340,\n",
       " 'tree': 341,\n",
       " 'Pier': 342,\n",
       " 'lucky': 343,\n",
       " 'Starbucks': 344,\n",
       " 'watching': 345,\n",
       " 'Falls': 346,\n",
       " 'fashion': 347,\n",
       " 'Inn': 348,\n",
       " 'grateful': 349,\n",
       " 'hours': 350,\n",
       " 'happy_birthday': 351,\n",
       " 'met': 352,\n",
       " 'Holiday': 353,\n",
       " 'california': 354,\n",
       " 'concert': 355,\n",
       " 'playing': 356,\n",
       " 'weeks': 357,\n",
       " 'holidays': 358,\n",
       " 'Columbia': 359,\n",
       " 'Ready': 360,\n",
       " 'red': 361,\n",
       " 'Loving': 362,\n",
       " 'Hair': 363,\n",
       " 'Spring': 364,\n",
       " 'Illinois': 365,\n",
       " 'wanna': 366,\n",
       " '1st': 367,\n",
       " 'win': 368,\n",
       " 'Station': 369,\n",
       " 'blue': 370,\n",
       " 'Sweet': 371,\n",
       " 'cold': 372,\n",
       " 'support': 373,\n",
       " 'dream': 374,\n",
       " 'memories': 375,\n",
       " 'Beach_Florida': 376,\n",
       " 'gotta': 377,\n",
       " 'squad': 378,\n",
       " 'missing': 379,\n",
       " 'brunch': 380,\n",
       " 'TBT': 381,\n",
       " 'wcw': 382,\n",
       " 'song': 383,\n",
       " 'Chicago_Illinois': 384,\n",
       " 'Perfect': 385,\n",
       " 'eat': 386,\n",
       " 'Saint': 387,\n",
       " 'miami': 388,\n",
       " 'Celebrating': 389,\n",
       " 'Fair': 390,\n",
       " 'Congrats': 391,\n",
       " 'month': 392,\n",
       " 'White': 393,\n",
       " 'forget': 394,\n",
       " 'loving': 395,\n",
       " 'white': 396,\n",
       " 'vibes': 397,\n",
       " 'Shop': 398,\n",
       " '7': 399,\n",
       " 'Mom': 400,\n",
       " 'Ontario': 401,\n",
       " 'Maryland': 402,\n",
       " 'dress': 403,\n",
       " 'shopping': 404,\n",
       " 'bday': 405,\n",
       " 'crew': 406,\n",
       " 'Arts': 407,\n",
       " 'Amazing': 408,\n",
       " 'eyes': 409,\n",
       " 'DC': 410,\n",
       " 'snow': 411,\n",
       " 'enjoy': 412,\n",
       " 'waiting': 413,\n",
       " 'Enjoying': 414,\n",
       " 'office': 415,\n",
       " 'model': 416,\n",
       " 'photography': 417,\n",
       " 'Detroit': 418,\n",
       " 'late': 419,\n",
       " 'Festival': 420,\n",
       " 'woman': 421,\n",
       " 'car': 422,\n",
       " 'evening': 423,\n",
       " 'adventure': 424,\n",
       " 'hit': 425,\n",
       " 'Community': 426,\n",
       " 'bit': 427,\n",
       " 'Green': 428,\n",
       " 'losangeles': 429,\n",
       " 'Plaza': 430,\n",
       " 'Thursday': 431,\n",
       " 'Tuesday': 432,\n",
       " 'pics': 433,\n",
       " 'Sunset': 434,\n",
       " 'babies': 435,\n",
       " 'Theater': 436,\n",
       " 'Country_Club': 437,\n",
       " 'afternoon': 438,\n",
       " 'feels': 439,\n",
       " 'latergram': 440,\n",
       " 'celebrate': 441,\n",
       " 'Heights': 442,\n",
       " 'Orleans': 443,\n",
       " 'Minnesota': 444,\n",
       " 'Carolina': 445,\n",
       " 'Gardens': 446,\n",
       " '20': 447,\n",
       " 'mcm': 448,\n",
       " 'chicago': 449,\n",
       " 'worth': 450,\n",
       " 'Pub': 451,\n",
       " 'vote': 452,\n",
       " 'blast': 453,\n",
       " 'photos': 454,\n",
       " 'shop': 455,\n",
       " 'head': 456,\n",
       " 'warm': 457,\n",
       " 'Ice': 458,\n",
       " 'follow': 459,\n",
       " 'magic': 460,\n",
       " 'Atlanta_Georgia': 461,\n",
       " 'Hilton': 462,\n",
       " 'Grove': 463,\n",
       " 'Pizza': 464,\n",
       " 'Wednesday': 465,\n",
       " 'Kitchen': 466,\n",
       " 'El': 467,\n",
       " 'Yall': 468,\n",
       " 'share': 469,\n",
       " 'Wisconsin': 470,\n",
       " 'winter': 471,\n",
       " 'Denver': 472,\n",
       " 'Hot': 473,\n",
       " 'spent': 474,\n",
       " 'Lincoln': 475,\n",
       " 'throwback': 476,\n",
       " 'workout': 477,\n",
       " 'black': 478,\n",
       " 'celebrating': 479,\n",
       " 'remember': 480,\n",
       " 'event': 481,\n",
       " 'leave': 482,\n",
       " 'sky': 483,\n",
       " 'Portland': 484,\n",
       " 'Friends': 485,\n",
       " 'everyday': 486,\n",
       " 'Disneys': 487,\n",
       " 'Camp': 488,\n",
       " 'park': 489,\n",
       " 'spring': 490,\n",
       " 'Tampa': 491,\n",
       " 'Dance': 492,\n",
       " 'Missouri': 493,\n",
       " 'Super': 494,\n",
       " 'Avenue': 495,\n",
       " 'Iowa': 496,\n",
       " 'Oregon': 497,\n",
       " 'Lit': 498,\n",
       " 'soul': 499,\n",
       " 'Harbor': 500,\n",
       " 'Oklahoma': 501,\n",
       " 'started': 502,\n",
       " 'future': 503,\n",
       " 'mind': 504,\n",
       " 'makeup': 505,\n",
       " 'lost': 506,\n",
       " '12': 507,\n",
       " 'San_Antonio': 508,\n",
       " 'International': 509,\n",
       " 'thanksgiving': 510,\n",
       " '8': 511,\n",
       " 'Airport': 512,\n",
       " 'happiness': 513,\n",
       " 'boo': 514,\n",
       " 'Massachusetts': 515,\n",
       " 'Louis': 516,\n",
       " 'water': 517,\n",
       " 'Santa_Monica': 518,\n",
       " 'hour': 519,\n",
       " 'nature': 520,\n",
       " 'Bar_amp': 521,\n",
       " 'Breakfast': 522,\n",
       " 'John': 523,\n",
       " 'cousin': 524,\n",
       " 'Thanksgiving': 525,\n",
       " 'Charlotte': 526,\n",
       " 'TONIGHT': 527,\n",
       " 'magical': 528,\n",
       " 'beer': 529,\n",
       " 'Tavern': 530,\n",
       " 'Nightclub': 531,\n",
       " 'View': 532,\n",
       " 'bff': 533,\n",
       " 'King': 534,\n",
       " '2015': 535,\n",
       " 'sis': 536,\n",
       " 'Union': 537,\n",
       " 'Country': 538,\n",
       " 'Houston_Texas': 539,\n",
       " 'Food': 540,\n",
       " 'RT': 541,\n",
       " 'Washington_DC': 542,\n",
       " 'son': 543,\n",
       " 'college': 544,\n",
       " 'Hospital': 545,\n",
       " 'NJ': 546,\n",
       " 'Feeling': 547,\n",
       " 'wit': 548,\n",
       " 'Phoenix': 549,\n",
       " 'cousins': 550,\n",
       " 'bar': 551,\n",
       " 'Convention_Center': 552,\n",
       " 'store': 553,\n",
       " 'stage': 554,\n",
       " 'favorite_people': 555,\n",
       " 'Beauty': 556,\n",
       " 'Blessed': 557,\n",
       " 'Fall': 558,\n",
       " 'care': 559,\n",
       " 'bestie': 560,\n",
       " 'LIT': 561,\n",
       " 'Lights': 562,\n",
       " 'meeting': 563,\n",
       " 'Apartments': 564,\n",
       " 'Centre': 565,\n",
       " 'Universal_Studios': 566,\n",
       " 'delicious': 567,\n",
       " 'Philly': 568,\n",
       " 'enjoying': 569,\n",
       " 'fan': 570,\n",
       " 'babes': 571,\n",
       " 'florida': 572,\n",
       " 'hand': 573,\n",
       " 'rock': 574,\n",
       " 'drink': 575,\n",
       " 'snapchat': 576,\n",
       " 'Todays': 577,\n",
       " 'anniversary': 578,\n",
       " 'Tower': 579,\n",
       " 'Canyon': 580,\n",
       " 'movie': 581,\n",
       " 'Newport': 582,\n",
       " 'Academy': 583,\n",
       " 'boyfriend': 584,\n",
       " 'wear': 585,\n",
       " 'Pretty': 586,\n",
       " 'Casino': 587,\n",
       " 'adventures': 588,\n",
       " 'absolutely': 589,\n",
       " 'running': 590,\n",
       " 'joy': 591,\n",
       " 'nigga': 592,\n",
       " 'studio': 593,\n",
       " 'Girls': 594,\n",
       " 'Tree': 595,\n",
       " 'country': 596,\n",
       " '16': 597,\n",
       " 'Nevada': 598,\n",
       " 'wine': 599,\n",
       " 'gym': 600,\n",
       " 'laugh': 601,\n",
       " 'Epcot_Walt': 602,\n",
       " 'experience': 603,\n",
       " 'Congratulations': 604,\n",
       " 'repost': 605,\n",
       " 'bring': 606,\n",
       " 'Walt_Disney': 607,\n",
       " 'Mount': 608,\n",
       " 'Liberty': 609,\n",
       " 'tour': 610,\n",
       " 'Glad': 611,\n",
       " 'Southern': 612,\n",
       " 'Throwback': 613,\n",
       " 'happened': 614,\n",
       " 'change': 615,\n",
       " 'Dad': 616,\n",
       " 'Orange': 617,\n",
       " 'Gotta': 618,\n",
       " 'daughter': 619,\n",
       " 'spot': 620,\n",
       " 'views': 621,\n",
       " 'fresh': 622,\n",
       " 'damn': 623,\n",
       " 'Brooklyn_Bridge': 624,\n",
       " 'National_Park': 625,\n",
       " 'homie': 626,\n",
       " 'Austin_Texas': 627,\n",
       " 'Ranch': 628,\n",
       " 'catch': 629,\n",
       " 'Tour': 630,\n",
       " 'husband': 631,\n",
       " 'Store': 632,\n",
       " 'hate': 633,\n",
       " 'living': 634,\n",
       " 'book': 635,\n",
       " 'yoga': 636,\n",
       " 'Team': 637,\n",
       " 'incredible': 638,\n",
       " 'success': 639,\n",
       " 'lake': 640,\n",
       " 'hanging': 641,\n",
       " 'Forest': 642,\n",
       " 'downtown': 643,\n",
       " 'close': 644,\n",
       " 'wearing': 645,\n",
       " 'foodporn': 646,\n",
       " 'told': 647,\n",
       " 'Adventure': 648,\n",
       " 'Fashion': 649,\n",
       " 'James': 650,\n",
       " 'surprise': 651,\n",
       " 'Alpha': 652,\n",
       " 'Sports': 653,\n",
       " 'drive': 654,\n",
       " '4th': 655,\n",
       " 'Winter': 656,\n",
       " 'stuff': 657,\n",
       " 'cutie': 658,\n",
       " 'prom': 659,\n",
       " 'Mississippi': 660,\n",
       " 'dreams': 661,\n",
       " 'Cleveland': 662,\n",
       " '15': 663,\n",
       " 'dude': 664,\n",
       " 'mama': 665,\n",
       " 'Louisiana': 666,\n",
       " 'em': 667,\n",
       " 'phone': 668,\n",
       " 'niece': 669,\n",
       " 'momma': 670,\n",
       " 'sanfrancisco': 671,\n",
       " 'Hanging': 672,\n",
       " 'Brunch': 673,\n",
       " 'Steakhouse': 674,\n",
       " 'Delta': 675,\n",
       " 'Palace': 676,\n",
       " 'kinda': 677,\n",
       " 'football': 678,\n",
       " 'wife': 679,\n",
       " 'da': 680,\n",
       " 'Connecticut': 681,\n",
       " 'chocolate': 682,\n",
       " 'Game': 683,\n",
       " 'session': 684,\n",
       " 'quality': 685,\n",
       " 'Trail': 686,\n",
       " 'fitness': 687,\n",
       " 'Arkansas': 688,\n",
       " 'goals': 689,\n",
       " 'Golf': 690,\n",
       " 'Drive': 691,\n",
       " 'piece': 692,\n",
       " 'sunny': 693,\n",
       " 'Ridge': 694,\n",
       " 'Loved': 695,\n",
       " 'Reunited': 696,\n",
       " 'talk': 697,\n",
       " 'Columbus': 698,\n",
       " 'Charleston': 699,\n",
       " 'cut': 700,\n",
       " 'spending': 701,\n",
       " 'fuck': 702,\n",
       " 'smiles': 703,\n",
       " 'Sushi': 704,\n",
       " 'takes': 705,\n",
       " 'Follow': 706,\n",
       " 'sleep': 707,\n",
       " 'honor': 708,\n",
       " 'disney': 709,\n",
       " 'lots': 710,\n",
       " 'Port': 711,\n",
       " 'women': 712,\n",
       " 'BBQ': 713,\n",
       " 'blog': 714,\n",
       " 'looked': 715,\n",
       " 'Christmas_tree': 716,\n",
       " 'extra': 717,\n",
       " 'Real': 718,\n",
       " 'friendship': 719,\n",
       " 'ur': 720,\n",
       " 'cutest': 721,\n",
       " 'senior': 722,\n",
       " 'Senior': 723,\n",
       " 'hey': 724,\n",
       " 'Oakland': 725,\n",
       " 'favorites': 726,\n",
       " 'photoshoot': 727,\n",
       " 'Bowl': 728,\n",
       " 'sundayfunday': 729,\n",
       " 'Stay': 730,\n",
       " 'chicken': 731,\n",
       " 'Nice': 732,\n",
       " 'camera': 733,\n",
       " 'HAPPY': 734,\n",
       " 'Wedding': 735,\n",
       " 'Oak': 736,\n",
       " 'moments': 737,\n",
       " 'Pittsburgh': 738,\n",
       " 'ft': 739,\n",
       " 'Queen': 740,\n",
       " 'Kansas': 741,\n",
       " 'Washington_District': 742,\n",
       " 'reason': 743,\n",
       " 'Awesome': 744,\n",
       " 'bitch': 745,\n",
       " 'cake': 746,\n",
       " 'newyorkcity': 747,\n",
       " 'Wine': 748,\n",
       " 'Sun': 749,\n",
       " 'bc': 750,\n",
       " 'strong': 751,\n",
       " 'shirt': 752,\n",
       " 'church': 753,\n",
       " '2nd': 754,\n",
       " 'bout': 755,\n",
       " 'Ave': 756,\n",
       " 'Bank': 757,\n",
       " 'Los': 758,\n",
       " 'Magic': 759,\n",
       " 'Late': 760,\n",
       " 'Heart': 761,\n",
       " 'Happy_Mothers': 762,\n",
       " 'Road': 763,\n",
       " 'officially': 764,\n",
       " 'parents': 765,\n",
       " 'yo': 766,\n",
       " 'George': 767,\n",
       " '30': 768,\n",
       " 'bed': 769,\n",
       " 'road': 770,\n",
       " '9': 771,\n",
       " 'Capitol': 772,\n",
       " 'dope': 773,\n",
       " 'hear': 774,\n",
       " 'Company': 775,\n",
       " 'rest': 776,\n",
       " 'filter': 777,\n",
       " 'brought': 778,\n",
       " 'sunrise': 779,\n",
       " 'beat': 780,\n",
       " 'Christian': 781,\n",
       " 'Lil': 782,\n",
       " 'starting': 783,\n",
       " 'pink': 784,\n",
       " 'Cheers': 785,\n",
       " 'Malibu': 786,\n",
       " 'single': 787,\n",
       " 'Event': 788,\n",
       " 'Golden_Gate': 789,\n",
       " 'Building': 790,\n",
       " 'buddy': 791,\n",
       " 'Jacksonville': 792,\n",
       " 'Beverly_Hills': 793,\n",
       " 'White_House': 794,\n",
       " 'Royal': 795,\n",
       " 'matter': 796,\n",
       " 'rain': 797,\n",
       " 'flowers': 798,\n",
       " 'minute': 799,\n",
       " 'Mexican': 800,\n",
       " 'ny': 801,\n",
       " 'nephew': 802,\n",
       " 'artist': 803,\n",
       " 'Meet': 804,\n",
       " 'happiest': 805,\n",
       " 'shooting': 806,\n",
       " '21': 807,\n",
       " 'Campus': 808,\n",
       " 'bride': 809,\n",
       " 'Madison': 810,\n",
       " 'hike': 811,\n",
       " 'pool': 812,\n",
       " 'Eve': 813,\n",
       " 'adorable': 814,\n",
       " 'Air': 815,\n",
       " 'Marriott': 816,\n",
       " 'Drinking': 817,\n",
       " 'instagood': 818,\n",
       " 'Toronto_Ontario': 819,\n",
       " 'merrychristmas': 820,\n",
       " 'Dallas_Texas': 821,\n",
       " 'Squad': 822,\n",
       " 'Girl': 823,\n",
       " 'Head': 824,\n",
       " 'December': 825,\n",
       " 'link_bio': 826,\n",
       " 'hang': 827,\n",
       " 'pizza': 828,\n",
       " 'Louisville': 829,\n",
       " 'lmao': 830,\n",
       " 'heaven': 831,\n",
       " 'Cali': 832,\n",
       " 'bestfriend': 833,\n",
       " 'Memphis': 834,\n",
       " 'mood': 835,\n",
       " 'eating': 836,\n",
       " 'earth': 837,\n",
       " 'Baltimore': 838,\n",
       " 'Wishing': 839,\n",
       " 'SF': 840,\n",
       " 'Coast': 841,\n",
       " 'Chicken': 842,\n",
       " 'Monument': 843,\n",
       " '100': 844,\n",
       " 'Magic_Kingdom': 845,\n",
       " 'talented': 846,\n",
       " 'Jackson': 847,\n",
       " 'foodie': 848,\n",
       " 'Nashville_Tennessee': 849,\n",
       " 'tea': 850,\n",
       " 'Star': 851,\n",
       " 'fave': 852,\n",
       " 'Football': 853,\n",
       " 'Strip': 854,\n",
       " 'swear': 855,\n",
       " 'cheese': 856,\n",
       " 'literally': 857,\n",
       " 'luck': 858,\n",
       " 'Rockefeller_Center': 859,\n",
       " 'company': 860,\n",
       " 'Happy_Friday': 861,\n",
       " 'bright': 862,\n",
       " 'selfies': 863,\n",
       " 'Guess': 864,\n",
       " 'spirit': 865,\n",
       " 'Phi': 866,\n",
       " 'Photography': 867,\n",
       " 'building': 868,\n",
       " 'fabulous': 869,\n",
       " 'Kansas_City': 870,\n",
       " 'Post': 871,\n",
       " 'band': 872,\n",
       " 'sign': 873,\n",
       " 'daddy': 874,\n",
       " 'ball': 875,\n",
       " 'Public': 876,\n",
       " 'NewYork': 877,\n",
       " 'photographer': 878,\n",
       " '24': 879,\n",
       " 'Pool': 880,\n",
       " 'mad': 881,\n",
       " 'Utah': 882,\n",
       " 'Palm': 883,\n",
       " 'Queens': 884,\n",
       " 'Broadway': 885,\n",
       " 'Apple': 886,\n",
       " 'ATL': 887,\n",
       " 'Easter': 888,\n",
       " 'sexy': 889,\n",
       " 'story': 890,\n",
       " 'Universal': 891,\n",
       " 'hiking': 892,\n",
       " 'business': 893,\n",
       " 'Castle': 894,\n",
       " 'service': 895,\n",
       " 'drinks': 896,\n",
       " 'body': 897,\n",
       " 'Christmas_Eve': 898,\n",
       " 'gold': 899,\n",
       " 'French': 900,\n",
       " 'clean': 901,\n",
       " 'Weekend': 902,\n",
       " 'mother': 903,\n",
       " 'Light': 904,\n",
       " 'Steak': 905,\n",
       " 'Jesus': 906,\n",
       " 'Happy_Fathers': 907,\n",
       " 'fucking': 908,\n",
       " 'fine': 909,\n",
       " 'Selfie': 910,\n",
       " 'Baptist_Church': 911,\n",
       " 'Indianapolis': 912,\n",
       " 'Myrtle_Beach': 913,\n",
       " 'Spa': 914,\n",
       " 'cred': 915,\n",
       " 'ootd': 916,\n",
       " 'puppy': 917,\n",
       " 'Factory': 918,\n",
       " 'Bear': 919,\n",
       " '911': 920,\n",
       " 'brothers': 921,\n",
       " 'fans': 922,\n",
       " 'talking': 923,\n",
       " 'money': 924,\n",
       " 'lasvegas': 925,\n",
       " 'quick': 926,\n",
       " 'Golden': 927,\n",
       " 'Western': 928,\n",
       " 'LOL': 929,\n",
       " 'Happy_Thanksgiving': 930,\n",
       " 'Dog': 931,\n",
       " 'Burger': 932,\n",
       " 'Water': 933,\n",
       " 'Canada': 934,\n",
       " 'yummy': 935,\n",
       " 'Raleigh': 936,\n",
       " 'Waiting': 937,\n",
       " 'complete': 938,\n",
       " 'Library': 939,\n",
       " 'Williamsburg': 940,\n",
       " 'Vista': 941,\n",
       " 'caught': 942,\n",
       " 'Venice_Beach': 943,\n",
       " 'Atlantic': 944,\n",
       " 'straight': 945,\n",
       " 'natural': 946,\n",
       " 'Historic': 947,\n",
       " 'Gallery': 948,\n",
       " 'Winery': 949,\n",
       " 'disneyland': 950,\n",
       " 'cuz': 951,\n",
       " 'easy': 952,\n",
       " 'laughing': 953,\n",
       " 'Cove': 954,\n",
       " 'wrong': 955,\n",
       " 'miles': 956,\n",
       " 'Anniversary': 957,\n",
       " 'idea': 958,\n",
       " 'toronto': 959,\n",
       " 'clients': 960,\n",
       " '25': 961,\n",
       " 'partner': 962,\n",
       " 'hat': 963,\n",
       " 'reunited': 964,\n",
       " 'Buffalo': 965,\n",
       " 'album': 966,\n",
       " 'ocean': 967,\n",
       " 'shots': 968,\n",
       " 'DAY': 969,\n",
       " 'short': 970,\n",
       " 'yeah': 971,\n",
       " 'safe': 972,\n",
       " 'fit': 973,\n",
       " 'Ballroom': 974,\n",
       " 'brooklyn': 975,\n",
       " 'heat': 976,\n",
       " 'Gorgeous': 977,\n",
       " 'Christmas_Tree': 978,\n",
       " 'pick': 979,\n",
       " 'vegas': 980,\n",
       " 'Miami_Florida': 981,\n",
       " 'OMG': 982,\n",
       " 'happen': 983,\n",
       " 'married': 984,\n",
       " 'dancing': 985,\n",
       " 'roadtrip': 986,\n",
       " 'Watching': 987,\n",
       " 'girlfriend': 988,\n",
       " 'Lakes': 989,\n",
       " 'Paul': 990,\n",
       " 'walking': 991,\n",
       " 'Casa': 992,\n",
       " 'Rose': 993,\n",
       " 'credit': 994,\n",
       " 'July': 995,\n",
       " 'Yeah': 996,\n",
       " 'Dr': 997,\n",
       " 'Farms': 998,\n",
       " 'princess': 999,\n",
       " ...}"
      ]
     },
     "execution_count": 25,
     "metadata": {},
     "output_type": "execute_result"
    }
   ],
   "source": [
    "us_emoji_w2v.wv.key_to_index"
   ]
  },
  {
   "cell_type": "code",
   "execution_count": 28,
   "metadata": {},
   "outputs": [
    {
     "data": {
      "text/plain": [
       "[('christmas', 0.7948068380355835),\n",
       " ('happyholidays', 0.7622090578079224),\n",
       " ('christmastree', 0.7594813108444214),\n",
       " ('Xmas', 0.745563805103302),\n",
       " ('merrychristmas', 0.7280957102775574),\n",
       " ('lot_Christmas', 0.7279301285743713),\n",
       " ('holidays', 0.7263860702514648),\n",
       " ('Christmas_tree', 0.7261241674423218),\n",
       " ('merry', 0.7209651470184326),\n",
       " ('Merry', 0.7163508534431458)]"
      ]
     },
     "execution_count": 28,
     "metadata": {},
     "output_type": "execute_result"
    }
   ],
   "source": [
    "us_emoji_w2v.wv.most_similar(positive=[\"Christmas\"])"
   ]
  },
  {
   "cell_type": "code",
   "execution_count": 30,
   "metadata": {},
   "outputs": [
    {
     "data": {
      "text/plain": [
       "[('funny', 0.8770618438720703),\n",
       " ('lmao', 0.8752225041389465),\n",
       " ('Lol', 0.8519217371940613),\n",
       " ('haha', 0.8450767397880554),\n",
       " ('hilarious', 0.8235787153244019),\n",
       " ('told', 0.8166170120239258),\n",
       " ('dead', 0.8078774213790894),\n",
       " ('tho', 0.8038719892501831),\n",
       " ('mad', 0.7963632345199585),\n",
       " ('swear', 0.7932891249656677)]"
      ]
     },
     "execution_count": 30,
     "metadata": {},
     "output_type": "execute_result"
    }
   ],
   "source": [
    "us_emoji_w2v.wv.most_similar(positive=[\"lol\"])"
   ]
  },
  {
   "cell_type": "code",
   "execution_count": 35,
   "metadata": {},
   "outputs": [
    {
     "data": {
      "text/plain": [
       "[('newyork', 0.9547122716903687),\n",
       " ('ny', 0.9420251846313477),\n",
       " ('manhattan', 0.9400611519813538),\n",
       " ('newyorkcity', 0.9347207546234131),\n",
       " ('brooklyn', 0.8718341588973999),\n",
       " ('NewYork', 0.8151965737342834),\n",
       " ('Empire_Building', 0.8134568929672241),\n",
       " ('Manhattan_York', 0.812926709651947),\n",
       " ('Brooklyn_Bridge', 0.8073521256446838),\n",
       " ('NYC', 0.8068370819091797)]"
      ]
     },
     "execution_count": 35,
     "metadata": {},
     "output_type": "execute_result"
    }
   ],
   "source": [
    "us_emoji_w2v.wv.most_similar(positive=[\"nyc\"])"
   ]
  },
  {
   "cell_type": "code",
   "execution_count": 118,
   "metadata": {},
   "outputs": [],
   "source": [
    "def sentence_embedding(doc, w2v):\n",
    "    pre_tokens = simple_tokenizer(doc, stopwords_english, lower=False)\n",
    "    sentence_vect = np.zeros(w2v.vector_size)\n",
    "    m = 0\n",
    "    for token in pre_tokens:\n",
    "        if token in w2v.wv:\n",
    "            sentence_vect += w2v.wv[token]\n",
    "            m += 1\n",
    "    sentence_vect *= 1/m if m>0 else 1\n",
    "    return sentence_vect"
   ]
  },
  {
   "cell_type": "code",
   "execution_count": 119,
   "metadata": {},
   "outputs": [
    {
     "data": {
      "text/plain": [
       "array([ 0.05258413, -0.05869599,  0.07374898,  0.05271254,  0.10018036,\n",
       "        0.10197563,  0.04695616,  0.08050372,  0.11423416,  0.06558054,\n",
       "       -0.01431429, -0.0670277 ,  0.00197182,  0.0047567 , -0.05848593,\n",
       "       -0.05764413, -0.08735098, -0.04672073,  0.05703964, -0.0642032 ,\n",
       "        0.06155309, -0.05893533, -0.0165066 ,  0.01464991,  0.05360454,\n",
       "        0.02000251,  0.08777064, -0.03402002, -0.03354172,  0.0610544 ,\n",
       "        0.06087575, -0.00920816,  0.09910131, -0.04011815,  0.17804979,\n",
       "       -0.06459375, -0.01501393, -0.02038939,  0.00767087,  0.00352707,\n",
       "        0.01339428,  0.13464119, -0.04553435,  0.07318062,  0.12162764,\n",
       "       -0.04713735,  0.03409766, -0.09665535,  0.03297074, -0.02260041,\n",
       "        0.06641608, -0.07184253,  0.05569032, -0.03323142,  0.00063829,\n",
       "       -0.02382268,  0.03002416, -0.108971  , -0.18713465, -0.05489816,\n",
       "       -0.06531326,  0.05204288, -0.05940802,  0.0856853 , -0.05804159,\n",
       "        0.05194528, -0.14928423, -0.05097568,  0.05409653, -0.03231223,\n",
       "        0.03043431,  0.07636064,  0.09633543,  0.0154692 , -0.06834824,\n",
       "       -0.10815617,  0.12966093,  0.00038756,  0.02916038, -0.06981444,\n",
       "        0.01529222, -0.01780373,  0.01550734,  0.0036778 , -0.11288456,\n",
       "        0.07314836,  0.00872929, -0.07486209,  0.04647917, -0.00823761,\n",
       "        0.00475288,  0.07469189,  0.05347804,  0.06108983, -0.07074144,\n",
       "       -0.06279669, -0.01486977, -0.04763911, -0.05028157, -0.04465851,\n",
       "       -0.0010415 , -0.03098237,  0.02453502,  0.01495637,  0.13521186,\n",
       "       -0.08722711,  0.13163491,  0.1046478 ,  0.10192121, -0.09921814,\n",
       "       -0.00100849, -0.03148195,  0.04042088, -0.00561034,  0.16642693,\n",
       "       -0.10426472,  0.00677612,  0.03824769,  0.00900329, -0.00463478,\n",
       "        0.03309816, -0.01014741,  0.05515542, -0.11510579,  0.10245486,\n",
       "        0.0672102 , -0.11050101, -0.00141861,  0.06321177, -0.16413751,\n",
       "       -0.17451246,  0.05959141, -0.01252854,  0.0882457 , -0.01506837,\n",
       "        0.04455767, -0.01834725,  0.09582845,  0.00927006, -0.10918425,\n",
       "        0.13996202,  0.02700577, -0.07415129,  0.06787631,  0.05771775,\n",
       "       -0.10003234, -0.06828574, -0.003452  , -0.0699949 ,  0.0166022 ,\n",
       "       -0.01693618, -0.08366827, -0.02205032, -0.05750496,  0.01907399,\n",
       "       -0.0579976 , -0.05287685,  0.00274371,  0.05938933, -0.00793383,\n",
       "       -0.08533382,  0.05282914, -0.13186112,  0.03827126, -0.21994136,\n",
       "       -0.02263295, -0.05437143,  0.02064627,  0.05699012,  0.00588739,\n",
       "       -0.02416781, -0.01352471,  0.01584869,  0.03478669,  0.09789318,\n",
       "        0.10387801,  0.01704095,  0.05136208,  0.0342332 ,  0.09081175,\n",
       "        0.02317479,  0.00297099, -0.06899818, -0.01207213, -0.04698992,\n",
       "       -0.09520414,  0.12249668, -0.08641045,  0.12132235, -0.01415022,\n",
       "        0.04906464,  0.02017995,  0.0725233 , -0.09859753,  0.06963582,\n",
       "       -0.00810314, -0.02131128, -0.07858252,  0.11356413, -0.00433382])"
      ]
     },
     "execution_count": 119,
     "metadata": {},
     "output_type": "execute_result"
    }
   ],
   "source": [
    "text = 'Selfies for summatime @ Drexel University '\n",
    "sentence_embedding(text, us_emoji_w2v)"
   ]
  },
  {
   "cell_type": "code",
   "execution_count": 57,
   "metadata": {},
   "outputs": [
    {
     "name": "stderr",
     "output_type": "stream",
     "text": [
      "2022-06-15 17:40:46,975 : INFO : Word2Vec lifecycle event {'fname_or_handle': 'us_emoji_w2v.model', 'separately': 'None', 'sep_limit': 10485760, 'ignore': frozenset(), 'datetime': '2022-06-15T17:40:46.975360', 'gensim': '4.2.0', 'python': '3.8.12 (default, Oct 12 2021, 03:01:40) [MSC v.1916 64 bit (AMD64)]', 'platform': 'Windows-10-10.0.19044-SP0', 'event': 'saving'}\n",
      "2022-06-15 17:40:46,977 : INFO : not storing attribute cum_table\n",
      "2022-06-15 17:40:46,987 : INFO : saved us_emoji_w2v.model\n"
     ]
    }
   ],
   "source": [
    "us_emoji_w2v.save(\"us_emoji_w2v.model\")"
   ]
  },
  {
   "cell_type": "code",
   "execution_count": 137,
   "metadata": {
    "scrolled": true
   },
   "outputs": [
    {
     "name": "stdout",
     "output_type": "stream",
     "text": [
      "Wall time: 26.4 s\n"
     ]
    }
   ],
   "source": [
    "%%time\n",
    "us_train_sentence_embedding = pd.DataFrame(np.array(\n",
    "    [ sentence_embedding(doc, us_emoji_w2v) for doc in df_us_train[\"text\"]]\n",
    "))\n",
    "us_train_sentence_embedding[\"id\"] = df_us_train[\"id\"]"
   ]
  },
  {
   "cell_type": "code",
   "execution_count": 143,
   "metadata": {},
   "outputs": [],
   "source": [
    "us_train_sentence_embedding[\"label\"] = df_us_train[\"label\"]"
   ]
  },
  {
   "cell_type": "code",
   "execution_count": 151,
   "metadata": {},
   "outputs": [],
   "source": [
    "X = us_train_sentence_embedding.drop(columns=[\"label\", \"id\"])"
   ]
  },
  {
   "cell_type": "code",
   "execution_count": 149,
   "metadata": {},
   "outputs": [],
   "source": [
    "n_labels = us_train_sentence_embedding[\"label\"].unique().shape[0]"
   ]
  },
  {
   "cell_type": "code",
   "execution_count": 148,
   "metadata": {},
   "outputs": [],
   "source": [
    "from sklearn.cluster import KMeans"
   ]
  },
  {
   "cell_type": "code",
   "execution_count": 152,
   "metadata": {},
   "outputs": [],
   "source": [
    "%%time\n",
    "kmeans = KMeans(n_clusters=n_labels, random_state=0).fit(X)"
   ]
  },
  {
   "cell_type": "code",
   "execution_count": 153,
   "metadata": {},
   "outputs": [],
   "source": [
    "us_train_sentence_embedding[\"kmeans\"] = kmeans.labels_"
   ]
  },
  {
   "cell_type": "code",
   "execution_count": 154,
   "metadata": {},
   "outputs": [],
   "source": [
    "from sklearn.metrics.cluster import v_measure_score"
   ]
  },
  {
   "cell_type": "code",
   "execution_count": 155,
   "metadata": {
    "scrolled": true
   },
   "outputs": [
    {
     "data": {
      "text/plain": [
       "0.04851481180375604"
      ]
     },
     "execution_count": 155,
     "metadata": {},
     "output_type": "execute_result"
    }
   ],
   "source": [
    "v_measure_score(us_train_sentence_embedding[\"label\"], us_train_sentence_embedding[\"kmeans\"])"
   ]
  },
  {
   "cell_type": "code",
   "execution_count": 156,
   "metadata": {},
   "outputs": [],
   "source": [
    "from sklearn.metrics.cluster import rand_score"
   ]
  },
  {
   "cell_type": "code",
   "execution_count": 157,
   "metadata": {},
   "outputs": [
    {
     "data": {
      "text/plain": [
       "0.8648050610680522"
      ]
     },
     "execution_count": 157,
     "metadata": {},
     "output_type": "execute_result"
    }
   ],
   "source": [
    "rand_score(us_train_sentence_embedding[\"label\"], us_train_sentence_embedding[\"kmeans\"])"
   ]
  },
  {
   "cell_type": "code",
   "execution_count": 190,
   "metadata": {},
   "outputs": [
    {
     "name": "stdout",
     "output_type": "stream",
     "text": [
      "Wall time: 12.8 ms\n"
     ]
    },
    {
     "data": {
      "text/plain": [
       "0     7663\n",
       "3     2316\n",
       "1     2145\n",
       "9     1668\n",
       "5     1187\n",
       "2     1094\n",
       "8      940\n",
       "13     851\n",
       "14     478\n",
       "7      439\n",
       "16     415\n",
       "6      406\n",
       "19     374\n",
       "11     290\n",
       "15     254\n",
       "4      219\n",
       "17     196\n",
       "12     167\n",
       "10     164\n",
       "18     118\n",
       "Name: label, dtype: int64"
      ]
     },
     "execution_count": 190,
     "metadata": {},
     "output_type": "execute_result"
    }
   ],
   "source": [
    "%%time\n",
    "df_us_train[\n",
    "    us_train_sentence_embedding[\"kmeans\"] == 13\n",
    "][\"label\"].value_counts()"
   ]
  },
  {
   "cell_type": "code",
   "execution_count": 197,
   "metadata": {},
   "outputs": [
    {
     "name": "stdout",
     "output_type": "stream",
     "text": [
      "Wall time: 204 ms\n"
     ]
    },
    {
     "data": {
      "text/html": [
       "<div>\n",
       "<style scoped>\n",
       "    .dataframe tbody tr th:only-of-type {\n",
       "        vertical-align: middle;\n",
       "    }\n",
       "\n",
       "    .dataframe tbody tr th {\n",
       "        vertical-align: top;\n",
       "    }\n",
       "\n",
       "    .dataframe thead th {\n",
       "        text-align: right;\n",
       "    }\n",
       "</style>\n",
       "<table border=\"1\" class=\"dataframe\">\n",
       "  <thead>\n",
       "    <tr style=\"text-align: right;\">\n",
       "      <th>label</th>\n",
       "      <th>0</th>\n",
       "      <th>1</th>\n",
       "      <th>10</th>\n",
       "      <th>11</th>\n",
       "      <th>12</th>\n",
       "      <th>13</th>\n",
       "      <th>14</th>\n",
       "      <th>15</th>\n",
       "      <th>16</th>\n",
       "      <th>17</th>\n",
       "      <th>18</th>\n",
       "      <th>19</th>\n",
       "      <th>2</th>\n",
       "      <th>3</th>\n",
       "      <th>4</th>\n",
       "      <th>5</th>\n",
       "      <th>6</th>\n",
       "      <th>7</th>\n",
       "      <th>8</th>\n",
       "      <th>9</th>\n",
       "    </tr>\n",
       "    <tr>\n",
       "      <th>kmeans</th>\n",
       "      <th></th>\n",
       "      <th></th>\n",
       "      <th></th>\n",
       "      <th></th>\n",
       "      <th></th>\n",
       "      <th></th>\n",
       "      <th></th>\n",
       "      <th></th>\n",
       "      <th></th>\n",
       "      <th></th>\n",
       "      <th></th>\n",
       "      <th></th>\n",
       "      <th></th>\n",
       "      <th></th>\n",
       "      <th></th>\n",
       "      <th></th>\n",
       "      <th></th>\n",
       "      <th></th>\n",
       "      <th></th>\n",
       "      <th></th>\n",
       "    </tr>\n",
       "  </thead>\n",
       "  <tbody>\n",
       "    <tr>\n",
       "      <th>0</th>\n",
       "      <td>2641</td>\n",
       "      <td>1359</td>\n",
       "      <td>281</td>\n",
       "      <td>502</td>\n",
       "      <td>2257</td>\n",
       "      <td>246</td>\n",
       "      <td>301</td>\n",
       "      <td>278</td>\n",
       "      <td>276</td>\n",
       "      <td>139</td>\n",
       "      <td>266</td>\n",
       "      <td>315</td>\n",
       "      <td>881</td>\n",
       "      <td>649</td>\n",
       "      <td>429</td>\n",
       "      <td>541</td>\n",
       "      <td>1273</td>\n",
       "      <td>422</td>\n",
       "      <td>654</td>\n",
       "      <td>361</td>\n",
       "    </tr>\n",
       "    <tr>\n",
       "      <th>1</th>\n",
       "      <td>3403</td>\n",
       "      <td>1827</td>\n",
       "      <td>569</td>\n",
       "      <td>337</td>\n",
       "      <td>174</td>\n",
       "      <td>502</td>\n",
       "      <td>549</td>\n",
       "      <td>647</td>\n",
       "      <td>499</td>\n",
       "      <td>261</td>\n",
       "      <td>496</td>\n",
       "      <td>561</td>\n",
       "      <td>1580</td>\n",
       "      <td>840</td>\n",
       "      <td>2828</td>\n",
       "      <td>757</td>\n",
       "      <td>1140</td>\n",
       "      <td>857</td>\n",
       "      <td>560</td>\n",
       "      <td>601</td>\n",
       "    </tr>\n",
       "    <tr>\n",
       "      <th>2</th>\n",
       "      <td>6661</td>\n",
       "      <td>3697</td>\n",
       "      <td>3574</td>\n",
       "      <td>673</td>\n",
       "      <td>326</td>\n",
       "      <td>757</td>\n",
       "      <td>1123</td>\n",
       "      <td>1235</td>\n",
       "      <td>1103</td>\n",
       "      <td>320</td>\n",
       "      <td>2981</td>\n",
       "      <td>917</td>\n",
       "      <td>4678</td>\n",
       "      <td>1217</td>\n",
       "      <td>3925</td>\n",
       "      <td>1679</td>\n",
       "      <td>1491</td>\n",
       "      <td>1227</td>\n",
       "      <td>768</td>\n",
       "      <td>1340</td>\n",
       "    </tr>\n",
       "    <tr>\n",
       "      <th>3</th>\n",
       "      <td>3096</td>\n",
       "      <td>1315</td>\n",
       "      <td>451</td>\n",
       "      <td>1242</td>\n",
       "      <td>232</td>\n",
       "      <td>206</td>\n",
       "      <td>235</td>\n",
       "      <td>289</td>\n",
       "      <td>291</td>\n",
       "      <td>203</td>\n",
       "      <td>387</td>\n",
       "      <td>251</td>\n",
       "      <td>801</td>\n",
       "      <td>423</td>\n",
       "      <td>419</td>\n",
       "      <td>429</td>\n",
       "      <td>542</td>\n",
       "      <td>586</td>\n",
       "      <td>297</td>\n",
       "      <td>288</td>\n",
       "    </tr>\n",
       "    <tr>\n",
       "      <th>4</th>\n",
       "      <td>2246</td>\n",
       "      <td>1670</td>\n",
       "      <td>382</td>\n",
       "      <td>268</td>\n",
       "      <td>146</td>\n",
       "      <td>332</td>\n",
       "      <td>934</td>\n",
       "      <td>1323</td>\n",
       "      <td>757</td>\n",
       "      <td>123</td>\n",
       "      <td>397</td>\n",
       "      <td>867</td>\n",
       "      <td>7804</td>\n",
       "      <td>572</td>\n",
       "      <td>1415</td>\n",
       "      <td>923</td>\n",
       "      <td>1115</td>\n",
       "      <td>488</td>\n",
       "      <td>387</td>\n",
       "      <td>512</td>\n",
       "    </tr>\n",
       "    <tr>\n",
       "      <th>5</th>\n",
       "      <td>1779</td>\n",
       "      <td>576</td>\n",
       "      <td>124</td>\n",
       "      <td>77</td>\n",
       "      <td>51</td>\n",
       "      <td>115</td>\n",
       "      <td>166</td>\n",
       "      <td>92</td>\n",
       "      <td>181</td>\n",
       "      <td>5094</td>\n",
       "      <td>79</td>\n",
       "      <td>129</td>\n",
       "      <td>488</td>\n",
       "      <td>248</td>\n",
       "      <td>159</td>\n",
       "      <td>347</td>\n",
       "      <td>181</td>\n",
       "      <td>333</td>\n",
       "      <td>151</td>\n",
       "      <td>184</td>\n",
       "    </tr>\n",
       "    <tr>\n",
       "      <th>6</th>\n",
       "      <td>1642</td>\n",
       "      <td>929</td>\n",
       "      <td>88</td>\n",
       "      <td>141</td>\n",
       "      <td>96</td>\n",
       "      <td>169</td>\n",
       "      <td>127</td>\n",
       "      <td>87</td>\n",
       "      <td>208</td>\n",
       "      <td>137</td>\n",
       "      <td>73</td>\n",
       "      <td>131</td>\n",
       "      <td>482</td>\n",
       "      <td>400</td>\n",
       "      <td>129</td>\n",
       "      <td>281</td>\n",
       "      <td>275</td>\n",
       "      <td>1076</td>\n",
       "      <td>315</td>\n",
       "      <td>128</td>\n",
       "    </tr>\n",
       "    <tr>\n",
       "      <th>7</th>\n",
       "      <td>4400</td>\n",
       "      <td>3030</td>\n",
       "      <td>907</td>\n",
       "      <td>996</td>\n",
       "      <td>2891</td>\n",
       "      <td>437</td>\n",
       "      <td>782</td>\n",
       "      <td>327</td>\n",
       "      <td>690</td>\n",
       "      <td>257</td>\n",
       "      <td>530</td>\n",
       "      <td>604</td>\n",
       "      <td>1558</td>\n",
       "      <td>1032</td>\n",
       "      <td>598</td>\n",
       "      <td>1707</td>\n",
       "      <td>1516</td>\n",
       "      <td>911</td>\n",
       "      <td>730</td>\n",
       "      <td>600</td>\n",
       "    </tr>\n",
       "    <tr>\n",
       "      <th>8</th>\n",
       "      <td>6384</td>\n",
       "      <td>1876</td>\n",
       "      <td>327</td>\n",
       "      <td>775</td>\n",
       "      <td>351</td>\n",
       "      <td>1124</td>\n",
       "      <td>649</td>\n",
       "      <td>1008</td>\n",
       "      <td>539</td>\n",
       "      <td>382</td>\n",
       "      <td>310</td>\n",
       "      <td>573</td>\n",
       "      <td>1832</td>\n",
       "      <td>2131</td>\n",
       "      <td>1094</td>\n",
       "      <td>1000</td>\n",
       "      <td>1047</td>\n",
       "      <td>642</td>\n",
       "      <td>1715</td>\n",
       "      <td>799</td>\n",
       "    </tr>\n",
       "    <tr>\n",
       "      <th>9</th>\n",
       "      <td>1586</td>\n",
       "      <td>777</td>\n",
       "      <td>375</td>\n",
       "      <td>322</td>\n",
       "      <td>502</td>\n",
       "      <td>153</td>\n",
       "      <td>168</td>\n",
       "      <td>175</td>\n",
       "      <td>191</td>\n",
       "      <td>178</td>\n",
       "      <td>344</td>\n",
       "      <td>151</td>\n",
       "      <td>703</td>\n",
       "      <td>350</td>\n",
       "      <td>269</td>\n",
       "      <td>300</td>\n",
       "      <td>502</td>\n",
       "      <td>368</td>\n",
       "      <td>273</td>\n",
       "      <td>188</td>\n",
       "    </tr>\n",
       "    <tr>\n",
       "      <th>10</th>\n",
       "      <td>3458</td>\n",
       "      <td>2050</td>\n",
       "      <td>497</td>\n",
       "      <td>524</td>\n",
       "      <td>249</td>\n",
       "      <td>427</td>\n",
       "      <td>606</td>\n",
       "      <td>981</td>\n",
       "      <td>527</td>\n",
       "      <td>219</td>\n",
       "      <td>402</td>\n",
       "      <td>594</td>\n",
       "      <td>3246</td>\n",
       "      <td>605</td>\n",
       "      <td>1339</td>\n",
       "      <td>752</td>\n",
       "      <td>938</td>\n",
       "      <td>713</td>\n",
       "      <td>478</td>\n",
       "      <td>448</td>\n",
       "    </tr>\n",
       "    <tr>\n",
       "      <th>11</th>\n",
       "      <td>6164</td>\n",
       "      <td>3134</td>\n",
       "      <td>871</td>\n",
       "      <td>2866</td>\n",
       "      <td>557</td>\n",
       "      <td>699</td>\n",
       "      <td>717</td>\n",
       "      <td>1012</td>\n",
       "      <td>941</td>\n",
       "      <td>715</td>\n",
       "      <td>744</td>\n",
       "      <td>753</td>\n",
       "      <td>2701</td>\n",
       "      <td>1212</td>\n",
       "      <td>1256</td>\n",
       "      <td>1412</td>\n",
       "      <td>1594</td>\n",
       "      <td>1167</td>\n",
       "      <td>994</td>\n",
       "      <td>808</td>\n",
       "    </tr>\n",
       "    <tr>\n",
       "      <th>12</th>\n",
       "      <td>6737</td>\n",
       "      <td>2285</td>\n",
       "      <td>213</td>\n",
       "      <td>130</td>\n",
       "      <td>150</td>\n",
       "      <td>723</td>\n",
       "      <td>234</td>\n",
       "      <td>234</td>\n",
       "      <td>260</td>\n",
       "      <td>95</td>\n",
       "      <td>138</td>\n",
       "      <td>190</td>\n",
       "      <td>903</td>\n",
       "      <td>1663</td>\n",
       "      <td>149</td>\n",
       "      <td>631</td>\n",
       "      <td>223</td>\n",
       "      <td>394</td>\n",
       "      <td>757</td>\n",
       "      <td>775</td>\n",
       "    </tr>\n",
       "    <tr>\n",
       "      <th>13</th>\n",
       "      <td>7663</td>\n",
       "      <td>2145</td>\n",
       "      <td>164</td>\n",
       "      <td>290</td>\n",
       "      <td>167</td>\n",
       "      <td>851</td>\n",
       "      <td>478</td>\n",
       "      <td>254</td>\n",
       "      <td>415</td>\n",
       "      <td>196</td>\n",
       "      <td>118</td>\n",
       "      <td>374</td>\n",
       "      <td>1094</td>\n",
       "      <td>2316</td>\n",
       "      <td>219</td>\n",
       "      <td>1187</td>\n",
       "      <td>406</td>\n",
       "      <td>439</td>\n",
       "      <td>940</td>\n",
       "      <td>1668</td>\n",
       "    </tr>\n",
       "    <tr>\n",
       "      <th>14</th>\n",
       "      <td>4655</td>\n",
       "      <td>2132</td>\n",
       "      <td>511</td>\n",
       "      <td>788</td>\n",
       "      <td>1121</td>\n",
       "      <td>539</td>\n",
       "      <td>407</td>\n",
       "      <td>441</td>\n",
       "      <td>431</td>\n",
       "      <td>445</td>\n",
       "      <td>400</td>\n",
       "      <td>434</td>\n",
       "      <td>1439</td>\n",
       "      <td>1075</td>\n",
       "      <td>641</td>\n",
       "      <td>865</td>\n",
       "      <td>987</td>\n",
       "      <td>581</td>\n",
       "      <td>819</td>\n",
       "      <td>519</td>\n",
       "    </tr>\n",
       "    <tr>\n",
       "      <th>15</th>\n",
       "      <td>3063</td>\n",
       "      <td>1524</td>\n",
       "      <td>436</td>\n",
       "      <td>585</td>\n",
       "      <td>375</td>\n",
       "      <td>434</td>\n",
       "      <td>638</td>\n",
       "      <td>518</td>\n",
       "      <td>782</td>\n",
       "      <td>322</td>\n",
       "      <td>347</td>\n",
       "      <td>600</td>\n",
       "      <td>2010</td>\n",
       "      <td>725</td>\n",
       "      <td>1162</td>\n",
       "      <td>1062</td>\n",
       "      <td>839</td>\n",
       "      <td>743</td>\n",
       "      <td>478</td>\n",
       "      <td>491</td>\n",
       "    </tr>\n",
       "    <tr>\n",
       "      <th>16</th>\n",
       "      <td>2804</td>\n",
       "      <td>2643</td>\n",
       "      <td>882</td>\n",
       "      <td>247</td>\n",
       "      <td>223</td>\n",
       "      <td>508</td>\n",
       "      <td>550</td>\n",
       "      <td>348</td>\n",
       "      <td>405</td>\n",
       "      <td>159</td>\n",
       "      <td>774</td>\n",
       "      <td>454</td>\n",
       "      <td>1377</td>\n",
       "      <td>841</td>\n",
       "      <td>754</td>\n",
       "      <td>728</td>\n",
       "      <td>685</td>\n",
       "      <td>1163</td>\n",
       "      <td>456</td>\n",
       "      <td>476</td>\n",
       "    </tr>\n",
       "    <tr>\n",
       "      <th>17</th>\n",
       "      <td>1655</td>\n",
       "      <td>1000</td>\n",
       "      <td>1237</td>\n",
       "      <td>162</td>\n",
       "      <td>63</td>\n",
       "      <td>212</td>\n",
       "      <td>416</td>\n",
       "      <td>449</td>\n",
       "      <td>318</td>\n",
       "      <td>74</td>\n",
       "      <td>1038</td>\n",
       "      <td>279</td>\n",
       "      <td>2189</td>\n",
       "      <td>283</td>\n",
       "      <td>1498</td>\n",
       "      <td>580</td>\n",
       "      <td>415</td>\n",
       "      <td>280</td>\n",
       "      <td>208</td>\n",
       "      <td>392</td>\n",
       "    </tr>\n",
       "    <tr>\n",
       "      <th>18</th>\n",
       "      <td>5368</td>\n",
       "      <td>3531</td>\n",
       "      <td>386</td>\n",
       "      <td>417</td>\n",
       "      <td>204</td>\n",
       "      <td>491</td>\n",
       "      <td>668</td>\n",
       "      <td>516</td>\n",
       "      <td>712</td>\n",
       "      <td>245</td>\n",
       "      <td>280</td>\n",
       "      <td>676</td>\n",
       "      <td>1779</td>\n",
       "      <td>1147</td>\n",
       "      <td>1066</td>\n",
       "      <td>1292</td>\n",
       "      <td>862</td>\n",
       "      <td>569</td>\n",
       "      <td>534</td>\n",
       "      <td>829</td>\n",
       "    </tr>\n",
       "    <tr>\n",
       "      <th>19</th>\n",
       "      <td>8206</td>\n",
       "      <td>3434</td>\n",
       "      <td>760</td>\n",
       "      <td>416</td>\n",
       "      <td>380</td>\n",
       "      <td>973</td>\n",
       "      <td>941</td>\n",
       "      <td>520</td>\n",
       "      <td>948</td>\n",
       "      <td>405</td>\n",
       "      <td>617</td>\n",
       "      <td>829</td>\n",
       "      <td>2851</td>\n",
       "      <td>2262</td>\n",
       "      <td>693</td>\n",
       "      <td>2020</td>\n",
       "      <td>1096</td>\n",
       "      <td>931</td>\n",
       "      <td>1148</td>\n",
       "      <td>1264</td>\n",
       "    </tr>\n",
       "  </tbody>\n",
       "</table>\n",
       "</div>"
      ],
      "text/plain": [
       "label      0     1    10    11    12    13    14    15    16    17    18   19  \\\n",
       "kmeans                                                                          \n",
       "0       2641  1359   281   502  2257   246   301   278   276   139   266  315   \n",
       "1       3403  1827   569   337   174   502   549   647   499   261   496  561   \n",
       "2       6661  3697  3574   673   326   757  1123  1235  1103   320  2981  917   \n",
       "3       3096  1315   451  1242   232   206   235   289   291   203   387  251   \n",
       "4       2246  1670   382   268   146   332   934  1323   757   123   397  867   \n",
       "5       1779   576   124    77    51   115   166    92   181  5094    79  129   \n",
       "6       1642   929    88   141    96   169   127    87   208   137    73  131   \n",
       "7       4400  3030   907   996  2891   437   782   327   690   257   530  604   \n",
       "8       6384  1876   327   775   351  1124   649  1008   539   382   310  573   \n",
       "9       1586   777   375   322   502   153   168   175   191   178   344  151   \n",
       "10      3458  2050   497   524   249   427   606   981   527   219   402  594   \n",
       "11      6164  3134   871  2866   557   699   717  1012   941   715   744  753   \n",
       "12      6737  2285   213   130   150   723   234   234   260    95   138  190   \n",
       "13      7663  2145   164   290   167   851   478   254   415   196   118  374   \n",
       "14      4655  2132   511   788  1121   539   407   441   431   445   400  434   \n",
       "15      3063  1524   436   585   375   434   638   518   782   322   347  600   \n",
       "16      2804  2643   882   247   223   508   550   348   405   159   774  454   \n",
       "17      1655  1000  1237   162    63   212   416   449   318    74  1038  279   \n",
       "18      5368  3531   386   417   204   491   668   516   712   245   280  676   \n",
       "19      8206  3434   760   416   380   973   941   520   948   405   617  829   \n",
       "\n",
       "label      2     3     4     5     6     7     8     9  \n",
       "kmeans                                                  \n",
       "0        881   649   429   541  1273   422   654   361  \n",
       "1       1580   840  2828   757  1140   857   560   601  \n",
       "2       4678  1217  3925  1679  1491  1227   768  1340  \n",
       "3        801   423   419   429   542   586   297   288  \n",
       "4       7804   572  1415   923  1115   488   387   512  \n",
       "5        488   248   159   347   181   333   151   184  \n",
       "6        482   400   129   281   275  1076   315   128  \n",
       "7       1558  1032   598  1707  1516   911   730   600  \n",
       "8       1832  2131  1094  1000  1047   642  1715   799  \n",
       "9        703   350   269   300   502   368   273   188  \n",
       "10      3246   605  1339   752   938   713   478   448  \n",
       "11      2701  1212  1256  1412  1594  1167   994   808  \n",
       "12       903  1663   149   631   223   394   757   775  \n",
       "13      1094  2316   219  1187   406   439   940  1668  \n",
       "14      1439  1075   641   865   987   581   819   519  \n",
       "15      2010   725  1162  1062   839   743   478   491  \n",
       "16      1377   841   754   728   685  1163   456   476  \n",
       "17      2189   283  1498   580   415   280   208   392  \n",
       "18      1779  1147  1066  1292   862   569   534   829  \n",
       "19      2851  2262   693  2020  1096   931  1148  1264  "
      ]
     },
     "execution_count": 197,
     "metadata": {},
     "output_type": "execute_result"
    }
   ],
   "source": [
    "%%time\n",
    "us_train_sentence_embedding.groupby(\"kmeans\")[\"label\"].value_counts().unstack(fill_value=0)"
   ]
  },
  {
   "cell_type": "code",
   "execution_count": 198,
   "metadata": {},
   "outputs": [],
   "source": [
    "import plotly.express as px"
   ]
  },
  {
   "cell_type": "code",
   "execution_count": 204,
   "metadata": {},
   "outputs": [
    {
     "data": {
      "application/vnd.plotly.v1+json": {
       "config": {
        "plotlyServerURL": "https://plot.ly"
       },
       "data": [
        {
         "coloraxis": "coloraxis",
         "hovertemplate": "label: %{x}<br>kmeans: %{y}<br>color: %{z}<extra></extra>",
         "name": "0",
         "texttemplate": "%{z}",
         "type": "heatmap",
         "x": [
          "0",
          "1",
          "10",
          "11",
          "12",
          "13",
          "14",
          "15",
          "16",
          "17",
          "18",
          "19",
          "2",
          "3",
          "4",
          "5",
          "6",
          "7",
          "8",
          "9"
         ],
         "xaxis": "x",
         "y": [
          0,
          1,
          2,
          3,
          4,
          5,
          6,
          7,
          8,
          9,
          10,
          11,
          12,
          13,
          14,
          15,
          16,
          17,
          18,
          19
         ],
         "yaxis": "y",
         "z": [
          [
           2641,
           1359,
           281,
           502,
           2257,
           246,
           301,
           278,
           276,
           139,
           266,
           315,
           881,
           649,
           429,
           541,
           1273,
           422,
           654,
           361
          ],
          [
           3403,
           1827,
           569,
           337,
           174,
           502,
           549,
           647,
           499,
           261,
           496,
           561,
           1580,
           840,
           2828,
           757,
           1140,
           857,
           560,
           601
          ],
          [
           6661,
           3697,
           3574,
           673,
           326,
           757,
           1123,
           1235,
           1103,
           320,
           2981,
           917,
           4678,
           1217,
           3925,
           1679,
           1491,
           1227,
           768,
           1340
          ],
          [
           3096,
           1315,
           451,
           1242,
           232,
           206,
           235,
           289,
           291,
           203,
           387,
           251,
           801,
           423,
           419,
           429,
           542,
           586,
           297,
           288
          ],
          [
           2246,
           1670,
           382,
           268,
           146,
           332,
           934,
           1323,
           757,
           123,
           397,
           867,
           7804,
           572,
           1415,
           923,
           1115,
           488,
           387,
           512
          ],
          [
           1779,
           576,
           124,
           77,
           51,
           115,
           166,
           92,
           181,
           5094,
           79,
           129,
           488,
           248,
           159,
           347,
           181,
           333,
           151,
           184
          ],
          [
           1642,
           929,
           88,
           141,
           96,
           169,
           127,
           87,
           208,
           137,
           73,
           131,
           482,
           400,
           129,
           281,
           275,
           1076,
           315,
           128
          ],
          [
           4400,
           3030,
           907,
           996,
           2891,
           437,
           782,
           327,
           690,
           257,
           530,
           604,
           1558,
           1032,
           598,
           1707,
           1516,
           911,
           730,
           600
          ],
          [
           6384,
           1876,
           327,
           775,
           351,
           1124,
           649,
           1008,
           539,
           382,
           310,
           573,
           1832,
           2131,
           1094,
           1000,
           1047,
           642,
           1715,
           799
          ],
          [
           1586,
           777,
           375,
           322,
           502,
           153,
           168,
           175,
           191,
           178,
           344,
           151,
           703,
           350,
           269,
           300,
           502,
           368,
           273,
           188
          ],
          [
           3458,
           2050,
           497,
           524,
           249,
           427,
           606,
           981,
           527,
           219,
           402,
           594,
           3246,
           605,
           1339,
           752,
           938,
           713,
           478,
           448
          ],
          [
           6164,
           3134,
           871,
           2866,
           557,
           699,
           717,
           1012,
           941,
           715,
           744,
           753,
           2701,
           1212,
           1256,
           1412,
           1594,
           1167,
           994,
           808
          ],
          [
           6737,
           2285,
           213,
           130,
           150,
           723,
           234,
           234,
           260,
           95,
           138,
           190,
           903,
           1663,
           149,
           631,
           223,
           394,
           757,
           775
          ],
          [
           7663,
           2145,
           164,
           290,
           167,
           851,
           478,
           254,
           415,
           196,
           118,
           374,
           1094,
           2316,
           219,
           1187,
           406,
           439,
           940,
           1668
          ],
          [
           4655,
           2132,
           511,
           788,
           1121,
           539,
           407,
           441,
           431,
           445,
           400,
           434,
           1439,
           1075,
           641,
           865,
           987,
           581,
           819,
           519
          ],
          [
           3063,
           1524,
           436,
           585,
           375,
           434,
           638,
           518,
           782,
           322,
           347,
           600,
           2010,
           725,
           1162,
           1062,
           839,
           743,
           478,
           491
          ],
          [
           2804,
           2643,
           882,
           247,
           223,
           508,
           550,
           348,
           405,
           159,
           774,
           454,
           1377,
           841,
           754,
           728,
           685,
           1163,
           456,
           476
          ],
          [
           1655,
           1000,
           1237,
           162,
           63,
           212,
           416,
           449,
           318,
           74,
           1038,
           279,
           2189,
           283,
           1498,
           580,
           415,
           280,
           208,
           392
          ],
          [
           5368,
           3531,
           386,
           417,
           204,
           491,
           668,
           516,
           712,
           245,
           280,
           676,
           1779,
           1147,
           1066,
           1292,
           862,
           569,
           534,
           829
          ],
          [
           8206,
           3434,
           760,
           416,
           380,
           973,
           941,
           520,
           948,
           405,
           617,
           829,
           2851,
           2262,
           693,
           2020,
           1096,
           931,
           1148,
           1264
          ]
         ]
        }
       ],
       "layout": {
        "coloraxis": {
         "colorscale": [
          [
           0,
           "#0d0887"
          ],
          [
           0.1111111111111111,
           "#46039f"
          ],
          [
           0.2222222222222222,
           "#7201a8"
          ],
          [
           0.3333333333333333,
           "#9c179e"
          ],
          [
           0.4444444444444444,
           "#bd3786"
          ],
          [
           0.5555555555555556,
           "#d8576b"
          ],
          [
           0.6666666666666666,
           "#ed7953"
          ],
          [
           0.7777777777777778,
           "#fb9f3a"
          ],
          [
           0.8888888888888888,
           "#fdca26"
          ],
          [
           1,
           "#f0f921"
          ]
         ]
        },
        "margin": {
         "t": 60
        },
        "template": {
         "data": {
          "bar": [
           {
            "error_x": {
             "color": "#2a3f5f"
            },
            "error_y": {
             "color": "#2a3f5f"
            },
            "marker": {
             "line": {
              "color": "#E5ECF6",
              "width": 0.5
             },
             "pattern": {
              "fillmode": "overlay",
              "size": 10,
              "solidity": 0.2
             }
            },
            "type": "bar"
           }
          ],
          "barpolar": [
           {
            "marker": {
             "line": {
              "color": "#E5ECF6",
              "width": 0.5
             },
             "pattern": {
              "fillmode": "overlay",
              "size": 10,
              "solidity": 0.2
             }
            },
            "type": "barpolar"
           }
          ],
          "carpet": [
           {
            "aaxis": {
             "endlinecolor": "#2a3f5f",
             "gridcolor": "white",
             "linecolor": "white",
             "minorgridcolor": "white",
             "startlinecolor": "#2a3f5f"
            },
            "baxis": {
             "endlinecolor": "#2a3f5f",
             "gridcolor": "white",
             "linecolor": "white",
             "minorgridcolor": "white",
             "startlinecolor": "#2a3f5f"
            },
            "type": "carpet"
           }
          ],
          "choropleth": [
           {
            "colorbar": {
             "outlinewidth": 0,
             "ticks": ""
            },
            "type": "choropleth"
           }
          ],
          "contour": [
           {
            "colorbar": {
             "outlinewidth": 0,
             "ticks": ""
            },
            "colorscale": [
             [
              0,
              "#0d0887"
             ],
             [
              0.1111111111111111,
              "#46039f"
             ],
             [
              0.2222222222222222,
              "#7201a8"
             ],
             [
              0.3333333333333333,
              "#9c179e"
             ],
             [
              0.4444444444444444,
              "#bd3786"
             ],
             [
              0.5555555555555556,
              "#d8576b"
             ],
             [
              0.6666666666666666,
              "#ed7953"
             ],
             [
              0.7777777777777778,
              "#fb9f3a"
             ],
             [
              0.8888888888888888,
              "#fdca26"
             ],
             [
              1,
              "#f0f921"
             ]
            ],
            "type": "contour"
           }
          ],
          "contourcarpet": [
           {
            "colorbar": {
             "outlinewidth": 0,
             "ticks": ""
            },
            "type": "contourcarpet"
           }
          ],
          "heatmap": [
           {
            "colorbar": {
             "outlinewidth": 0,
             "ticks": ""
            },
            "colorscale": [
             [
              0,
              "#0d0887"
             ],
             [
              0.1111111111111111,
              "#46039f"
             ],
             [
              0.2222222222222222,
              "#7201a8"
             ],
             [
              0.3333333333333333,
              "#9c179e"
             ],
             [
              0.4444444444444444,
              "#bd3786"
             ],
             [
              0.5555555555555556,
              "#d8576b"
             ],
             [
              0.6666666666666666,
              "#ed7953"
             ],
             [
              0.7777777777777778,
              "#fb9f3a"
             ],
             [
              0.8888888888888888,
              "#fdca26"
             ],
             [
              1,
              "#f0f921"
             ]
            ],
            "type": "heatmap"
           }
          ],
          "heatmapgl": [
           {
            "colorbar": {
             "outlinewidth": 0,
             "ticks": ""
            },
            "colorscale": [
             [
              0,
              "#0d0887"
             ],
             [
              0.1111111111111111,
              "#46039f"
             ],
             [
              0.2222222222222222,
              "#7201a8"
             ],
             [
              0.3333333333333333,
              "#9c179e"
             ],
             [
              0.4444444444444444,
              "#bd3786"
             ],
             [
              0.5555555555555556,
              "#d8576b"
             ],
             [
              0.6666666666666666,
              "#ed7953"
             ],
             [
              0.7777777777777778,
              "#fb9f3a"
             ],
             [
              0.8888888888888888,
              "#fdca26"
             ],
             [
              1,
              "#f0f921"
             ]
            ],
            "type": "heatmapgl"
           }
          ],
          "histogram": [
           {
            "marker": {
             "pattern": {
              "fillmode": "overlay",
              "size": 10,
              "solidity": 0.2
             }
            },
            "type": "histogram"
           }
          ],
          "histogram2d": [
           {
            "colorbar": {
             "outlinewidth": 0,
             "ticks": ""
            },
            "colorscale": [
             [
              0,
              "#0d0887"
             ],
             [
              0.1111111111111111,
              "#46039f"
             ],
             [
              0.2222222222222222,
              "#7201a8"
             ],
             [
              0.3333333333333333,
              "#9c179e"
             ],
             [
              0.4444444444444444,
              "#bd3786"
             ],
             [
              0.5555555555555556,
              "#d8576b"
             ],
             [
              0.6666666666666666,
              "#ed7953"
             ],
             [
              0.7777777777777778,
              "#fb9f3a"
             ],
             [
              0.8888888888888888,
              "#fdca26"
             ],
             [
              1,
              "#f0f921"
             ]
            ],
            "type": "histogram2d"
           }
          ],
          "histogram2dcontour": [
           {
            "colorbar": {
             "outlinewidth": 0,
             "ticks": ""
            },
            "colorscale": [
             [
              0,
              "#0d0887"
             ],
             [
              0.1111111111111111,
              "#46039f"
             ],
             [
              0.2222222222222222,
              "#7201a8"
             ],
             [
              0.3333333333333333,
              "#9c179e"
             ],
             [
              0.4444444444444444,
              "#bd3786"
             ],
             [
              0.5555555555555556,
              "#d8576b"
             ],
             [
              0.6666666666666666,
              "#ed7953"
             ],
             [
              0.7777777777777778,
              "#fb9f3a"
             ],
             [
              0.8888888888888888,
              "#fdca26"
             ],
             [
              1,
              "#f0f921"
             ]
            ],
            "type": "histogram2dcontour"
           }
          ],
          "mesh3d": [
           {
            "colorbar": {
             "outlinewidth": 0,
             "ticks": ""
            },
            "type": "mesh3d"
           }
          ],
          "parcoords": [
           {
            "line": {
             "colorbar": {
              "outlinewidth": 0,
              "ticks": ""
             }
            },
            "type": "parcoords"
           }
          ],
          "pie": [
           {
            "automargin": true,
            "type": "pie"
           }
          ],
          "scatter": [
           {
            "fillpattern": {
             "fillmode": "overlay",
             "size": 10,
             "solidity": 0.2
            },
            "type": "scatter"
           }
          ],
          "scatter3d": [
           {
            "line": {
             "colorbar": {
              "outlinewidth": 0,
              "ticks": ""
             }
            },
            "marker": {
             "colorbar": {
              "outlinewidth": 0,
              "ticks": ""
             }
            },
            "type": "scatter3d"
           }
          ],
          "scattercarpet": [
           {
            "marker": {
             "colorbar": {
              "outlinewidth": 0,
              "ticks": ""
             }
            },
            "type": "scattercarpet"
           }
          ],
          "scattergeo": [
           {
            "marker": {
             "colorbar": {
              "outlinewidth": 0,
              "ticks": ""
             }
            },
            "type": "scattergeo"
           }
          ],
          "scattergl": [
           {
            "marker": {
             "colorbar": {
              "outlinewidth": 0,
              "ticks": ""
             }
            },
            "type": "scattergl"
           }
          ],
          "scattermapbox": [
           {
            "marker": {
             "colorbar": {
              "outlinewidth": 0,
              "ticks": ""
             }
            },
            "type": "scattermapbox"
           }
          ],
          "scatterpolar": [
           {
            "marker": {
             "colorbar": {
              "outlinewidth": 0,
              "ticks": ""
             }
            },
            "type": "scatterpolar"
           }
          ],
          "scatterpolargl": [
           {
            "marker": {
             "colorbar": {
              "outlinewidth": 0,
              "ticks": ""
             }
            },
            "type": "scatterpolargl"
           }
          ],
          "scatterternary": [
           {
            "marker": {
             "colorbar": {
              "outlinewidth": 0,
              "ticks": ""
             }
            },
            "type": "scatterternary"
           }
          ],
          "surface": [
           {
            "colorbar": {
             "outlinewidth": 0,
             "ticks": ""
            },
            "colorscale": [
             [
              0,
              "#0d0887"
             ],
             [
              0.1111111111111111,
              "#46039f"
             ],
             [
              0.2222222222222222,
              "#7201a8"
             ],
             [
              0.3333333333333333,
              "#9c179e"
             ],
             [
              0.4444444444444444,
              "#bd3786"
             ],
             [
              0.5555555555555556,
              "#d8576b"
             ],
             [
              0.6666666666666666,
              "#ed7953"
             ],
             [
              0.7777777777777778,
              "#fb9f3a"
             ],
             [
              0.8888888888888888,
              "#fdca26"
             ],
             [
              1,
              "#f0f921"
             ]
            ],
            "type": "surface"
           }
          ],
          "table": [
           {
            "cells": {
             "fill": {
              "color": "#EBF0F8"
             },
             "line": {
              "color": "white"
             }
            },
            "header": {
             "fill": {
              "color": "#C8D4E3"
             },
             "line": {
              "color": "white"
             }
            },
            "type": "table"
           }
          ]
         },
         "layout": {
          "annotationdefaults": {
           "arrowcolor": "#2a3f5f",
           "arrowhead": 0,
           "arrowwidth": 1
          },
          "autotypenumbers": "strict",
          "coloraxis": {
           "colorbar": {
            "outlinewidth": 0,
            "ticks": ""
           }
          },
          "colorscale": {
           "diverging": [
            [
             0,
             "#8e0152"
            ],
            [
             0.1,
             "#c51b7d"
            ],
            [
             0.2,
             "#de77ae"
            ],
            [
             0.3,
             "#f1b6da"
            ],
            [
             0.4,
             "#fde0ef"
            ],
            [
             0.5,
             "#f7f7f7"
            ],
            [
             0.6,
             "#e6f5d0"
            ],
            [
             0.7,
             "#b8e186"
            ],
            [
             0.8,
             "#7fbc41"
            ],
            [
             0.9,
             "#4d9221"
            ],
            [
             1,
             "#276419"
            ]
           ],
           "sequential": [
            [
             0,
             "#0d0887"
            ],
            [
             0.1111111111111111,
             "#46039f"
            ],
            [
             0.2222222222222222,
             "#7201a8"
            ],
            [
             0.3333333333333333,
             "#9c179e"
            ],
            [
             0.4444444444444444,
             "#bd3786"
            ],
            [
             0.5555555555555556,
             "#d8576b"
            ],
            [
             0.6666666666666666,
             "#ed7953"
            ],
            [
             0.7777777777777778,
             "#fb9f3a"
            ],
            [
             0.8888888888888888,
             "#fdca26"
            ],
            [
             1,
             "#f0f921"
            ]
           ],
           "sequentialminus": [
            [
             0,
             "#0d0887"
            ],
            [
             0.1111111111111111,
             "#46039f"
            ],
            [
             0.2222222222222222,
             "#7201a8"
            ],
            [
             0.3333333333333333,
             "#9c179e"
            ],
            [
             0.4444444444444444,
             "#bd3786"
            ],
            [
             0.5555555555555556,
             "#d8576b"
            ],
            [
             0.6666666666666666,
             "#ed7953"
            ],
            [
             0.7777777777777778,
             "#fb9f3a"
            ],
            [
             0.8888888888888888,
             "#fdca26"
            ],
            [
             1,
             "#f0f921"
            ]
           ]
          },
          "colorway": [
           "#636efa",
           "#EF553B",
           "#00cc96",
           "#ab63fa",
           "#FFA15A",
           "#19d3f3",
           "#FF6692",
           "#B6E880",
           "#FF97FF",
           "#FECB52"
          ],
          "font": {
           "color": "#2a3f5f"
          },
          "geo": {
           "bgcolor": "white",
           "lakecolor": "white",
           "landcolor": "#E5ECF6",
           "showlakes": true,
           "showland": true,
           "subunitcolor": "white"
          },
          "hoverlabel": {
           "align": "left"
          },
          "hovermode": "closest",
          "mapbox": {
           "style": "light"
          },
          "paper_bgcolor": "white",
          "plot_bgcolor": "#E5ECF6",
          "polar": {
           "angularaxis": {
            "gridcolor": "white",
            "linecolor": "white",
            "ticks": ""
           },
           "bgcolor": "#E5ECF6",
           "radialaxis": {
            "gridcolor": "white",
            "linecolor": "white",
            "ticks": ""
           }
          },
          "scene": {
           "xaxis": {
            "backgroundcolor": "#E5ECF6",
            "gridcolor": "white",
            "gridwidth": 2,
            "linecolor": "white",
            "showbackground": true,
            "ticks": "",
            "zerolinecolor": "white"
           },
           "yaxis": {
            "backgroundcolor": "#E5ECF6",
            "gridcolor": "white",
            "gridwidth": 2,
            "linecolor": "white",
            "showbackground": true,
            "ticks": "",
            "zerolinecolor": "white"
           },
           "zaxis": {
            "backgroundcolor": "#E5ECF6",
            "gridcolor": "white",
            "gridwidth": 2,
            "linecolor": "white",
            "showbackground": true,
            "ticks": "",
            "zerolinecolor": "white"
           }
          },
          "shapedefaults": {
           "line": {
            "color": "#2a3f5f"
           }
          },
          "ternary": {
           "aaxis": {
            "gridcolor": "white",
            "linecolor": "white",
            "ticks": ""
           },
           "baxis": {
            "gridcolor": "white",
            "linecolor": "white",
            "ticks": ""
           },
           "bgcolor": "#E5ECF6",
           "caxis": {
            "gridcolor": "white",
            "linecolor": "white",
            "ticks": ""
           }
          },
          "title": {
           "x": 0.05
          },
          "xaxis": {
           "automargin": true,
           "gridcolor": "white",
           "linecolor": "white",
           "ticks": "",
           "title": {
            "standoff": 15
           },
           "zerolinecolor": "white",
           "zerolinewidth": 2
          },
          "yaxis": {
           "automargin": true,
           "gridcolor": "white",
           "linecolor": "white",
           "ticks": "",
           "title": {
            "standoff": 15
           },
           "zerolinecolor": "white",
           "zerolinewidth": 2
          }
         }
        },
        "xaxis": {
         "anchor": "y",
         "domain": [
          0,
          1
         ],
         "title": {
          "text": "label"
         }
        },
        "yaxis": {
         "anchor": "x",
         "autorange": "reversed",
         "domain": [
          0,
          1
         ],
         "title": {
          "text": "kmeans"
         }
        }
       }
      },
      "text/html": [
       "<div>                            <div id=\"717c766a-36bb-48ad-89a1-24ea11b1c46a\" class=\"plotly-graph-div\" style=\"height:525px; width:100%;\"></div>            <script type=\"text/javascript\">                require([\"plotly\"], function(Plotly) {                    window.PLOTLYENV=window.PLOTLYENV || {};                                    if (document.getElementById(\"717c766a-36bb-48ad-89a1-24ea11b1c46a\")) {                    Plotly.newPlot(                        \"717c766a-36bb-48ad-89a1-24ea11b1c46a\",                        [{\"coloraxis\":\"coloraxis\",\"name\":\"0\",\"texttemplate\":\"%{z}\",\"x\":[\"0\",\"1\",\"10\",\"11\",\"12\",\"13\",\"14\",\"15\",\"16\",\"17\",\"18\",\"19\",\"2\",\"3\",\"4\",\"5\",\"6\",\"7\",\"8\",\"9\"],\"y\":[0,1,2,3,4,5,6,7,8,9,10,11,12,13,14,15,16,17,18,19],\"z\":[[2641,1359,281,502,2257,246,301,278,276,139,266,315,881,649,429,541,1273,422,654,361],[3403,1827,569,337,174,502,549,647,499,261,496,561,1580,840,2828,757,1140,857,560,601],[6661,3697,3574,673,326,757,1123,1235,1103,320,2981,917,4678,1217,3925,1679,1491,1227,768,1340],[3096,1315,451,1242,232,206,235,289,291,203,387,251,801,423,419,429,542,586,297,288],[2246,1670,382,268,146,332,934,1323,757,123,397,867,7804,572,1415,923,1115,488,387,512],[1779,576,124,77,51,115,166,92,181,5094,79,129,488,248,159,347,181,333,151,184],[1642,929,88,141,96,169,127,87,208,137,73,131,482,400,129,281,275,1076,315,128],[4400,3030,907,996,2891,437,782,327,690,257,530,604,1558,1032,598,1707,1516,911,730,600],[6384,1876,327,775,351,1124,649,1008,539,382,310,573,1832,2131,1094,1000,1047,642,1715,799],[1586,777,375,322,502,153,168,175,191,178,344,151,703,350,269,300,502,368,273,188],[3458,2050,497,524,249,427,606,981,527,219,402,594,3246,605,1339,752,938,713,478,448],[6164,3134,871,2866,557,699,717,1012,941,715,744,753,2701,1212,1256,1412,1594,1167,994,808],[6737,2285,213,130,150,723,234,234,260,95,138,190,903,1663,149,631,223,394,757,775],[7663,2145,164,290,167,851,478,254,415,196,118,374,1094,2316,219,1187,406,439,940,1668],[4655,2132,511,788,1121,539,407,441,431,445,400,434,1439,1075,641,865,987,581,819,519],[3063,1524,436,585,375,434,638,518,782,322,347,600,2010,725,1162,1062,839,743,478,491],[2804,2643,882,247,223,508,550,348,405,159,774,454,1377,841,754,728,685,1163,456,476],[1655,1000,1237,162,63,212,416,449,318,74,1038,279,2189,283,1498,580,415,280,208,392],[5368,3531,386,417,204,491,668,516,712,245,280,676,1779,1147,1066,1292,862,569,534,829],[8206,3434,760,416,380,973,941,520,948,405,617,829,2851,2262,693,2020,1096,931,1148,1264]],\"type\":\"heatmap\",\"xaxis\":\"x\",\"yaxis\":\"y\",\"hovertemplate\":\"label: %{x}<br>kmeans: %{y}<br>color: %{z}<extra></extra>\"}],                        {\"template\":{\"data\":{\"histogram2dcontour\":[{\"type\":\"histogram2dcontour\",\"colorbar\":{\"outlinewidth\":0,\"ticks\":\"\"},\"colorscale\":[[0.0,\"#0d0887\"],[0.1111111111111111,\"#46039f\"],[0.2222222222222222,\"#7201a8\"],[0.3333333333333333,\"#9c179e\"],[0.4444444444444444,\"#bd3786\"],[0.5555555555555556,\"#d8576b\"],[0.6666666666666666,\"#ed7953\"],[0.7777777777777778,\"#fb9f3a\"],[0.8888888888888888,\"#fdca26\"],[1.0,\"#f0f921\"]]}],\"choropleth\":[{\"type\":\"choropleth\",\"colorbar\":{\"outlinewidth\":0,\"ticks\":\"\"}}],\"histogram2d\":[{\"type\":\"histogram2d\",\"colorbar\":{\"outlinewidth\":0,\"ticks\":\"\"},\"colorscale\":[[0.0,\"#0d0887\"],[0.1111111111111111,\"#46039f\"],[0.2222222222222222,\"#7201a8\"],[0.3333333333333333,\"#9c179e\"],[0.4444444444444444,\"#bd3786\"],[0.5555555555555556,\"#d8576b\"],[0.6666666666666666,\"#ed7953\"],[0.7777777777777778,\"#fb9f3a\"],[0.8888888888888888,\"#fdca26\"],[1.0,\"#f0f921\"]]}],\"heatmap\":[{\"type\":\"heatmap\",\"colorbar\":{\"outlinewidth\":0,\"ticks\":\"\"},\"colorscale\":[[0.0,\"#0d0887\"],[0.1111111111111111,\"#46039f\"],[0.2222222222222222,\"#7201a8\"],[0.3333333333333333,\"#9c179e\"],[0.4444444444444444,\"#bd3786\"],[0.5555555555555556,\"#d8576b\"],[0.6666666666666666,\"#ed7953\"],[0.7777777777777778,\"#fb9f3a\"],[0.8888888888888888,\"#fdca26\"],[1.0,\"#f0f921\"]]}],\"heatmapgl\":[{\"type\":\"heatmapgl\",\"colorbar\":{\"outlinewidth\":0,\"ticks\":\"\"},\"colorscale\":[[0.0,\"#0d0887\"],[0.1111111111111111,\"#46039f\"],[0.2222222222222222,\"#7201a8\"],[0.3333333333333333,\"#9c179e\"],[0.4444444444444444,\"#bd3786\"],[0.5555555555555556,\"#d8576b\"],[0.6666666666666666,\"#ed7953\"],[0.7777777777777778,\"#fb9f3a\"],[0.8888888888888888,\"#fdca26\"],[1.0,\"#f0f921\"]]}],\"contourcarpet\":[{\"type\":\"contourcarpet\",\"colorbar\":{\"outlinewidth\":0,\"ticks\":\"\"}}],\"contour\":[{\"type\":\"contour\",\"colorbar\":{\"outlinewidth\":0,\"ticks\":\"\"},\"colorscale\":[[0.0,\"#0d0887\"],[0.1111111111111111,\"#46039f\"],[0.2222222222222222,\"#7201a8\"],[0.3333333333333333,\"#9c179e\"],[0.4444444444444444,\"#bd3786\"],[0.5555555555555556,\"#d8576b\"],[0.6666666666666666,\"#ed7953\"],[0.7777777777777778,\"#fb9f3a\"],[0.8888888888888888,\"#fdca26\"],[1.0,\"#f0f921\"]]}],\"surface\":[{\"type\":\"surface\",\"colorbar\":{\"outlinewidth\":0,\"ticks\":\"\"},\"colorscale\":[[0.0,\"#0d0887\"],[0.1111111111111111,\"#46039f\"],[0.2222222222222222,\"#7201a8\"],[0.3333333333333333,\"#9c179e\"],[0.4444444444444444,\"#bd3786\"],[0.5555555555555556,\"#d8576b\"],[0.6666666666666666,\"#ed7953\"],[0.7777777777777778,\"#fb9f3a\"],[0.8888888888888888,\"#fdca26\"],[1.0,\"#f0f921\"]]}],\"mesh3d\":[{\"type\":\"mesh3d\",\"colorbar\":{\"outlinewidth\":0,\"ticks\":\"\"}}],\"scatter\":[{\"fillpattern\":{\"fillmode\":\"overlay\",\"size\":10,\"solidity\":0.2},\"type\":\"scatter\"}],\"parcoords\":[{\"type\":\"parcoords\",\"line\":{\"colorbar\":{\"outlinewidth\":0,\"ticks\":\"\"}}}],\"scatterpolargl\":[{\"type\":\"scatterpolargl\",\"marker\":{\"colorbar\":{\"outlinewidth\":0,\"ticks\":\"\"}}}],\"bar\":[{\"error_x\":{\"color\":\"#2a3f5f\"},\"error_y\":{\"color\":\"#2a3f5f\"},\"marker\":{\"line\":{\"color\":\"#E5ECF6\",\"width\":0.5},\"pattern\":{\"fillmode\":\"overlay\",\"size\":10,\"solidity\":0.2}},\"type\":\"bar\"}],\"scattergeo\":[{\"type\":\"scattergeo\",\"marker\":{\"colorbar\":{\"outlinewidth\":0,\"ticks\":\"\"}}}],\"scatterpolar\":[{\"type\":\"scatterpolar\",\"marker\":{\"colorbar\":{\"outlinewidth\":0,\"ticks\":\"\"}}}],\"histogram\":[{\"marker\":{\"pattern\":{\"fillmode\":\"overlay\",\"size\":10,\"solidity\":0.2}},\"type\":\"histogram\"}],\"scattergl\":[{\"type\":\"scattergl\",\"marker\":{\"colorbar\":{\"outlinewidth\":0,\"ticks\":\"\"}}}],\"scatter3d\":[{\"type\":\"scatter3d\",\"line\":{\"colorbar\":{\"outlinewidth\":0,\"ticks\":\"\"}},\"marker\":{\"colorbar\":{\"outlinewidth\":0,\"ticks\":\"\"}}}],\"scattermapbox\":[{\"type\":\"scattermapbox\",\"marker\":{\"colorbar\":{\"outlinewidth\":0,\"ticks\":\"\"}}}],\"scatterternary\":[{\"type\":\"scatterternary\",\"marker\":{\"colorbar\":{\"outlinewidth\":0,\"ticks\":\"\"}}}],\"scattercarpet\":[{\"type\":\"scattercarpet\",\"marker\":{\"colorbar\":{\"outlinewidth\":0,\"ticks\":\"\"}}}],\"carpet\":[{\"aaxis\":{\"endlinecolor\":\"#2a3f5f\",\"gridcolor\":\"white\",\"linecolor\":\"white\",\"minorgridcolor\":\"white\",\"startlinecolor\":\"#2a3f5f\"},\"baxis\":{\"endlinecolor\":\"#2a3f5f\",\"gridcolor\":\"white\",\"linecolor\":\"white\",\"minorgridcolor\":\"white\",\"startlinecolor\":\"#2a3f5f\"},\"type\":\"carpet\"}],\"table\":[{\"cells\":{\"fill\":{\"color\":\"#EBF0F8\"},\"line\":{\"color\":\"white\"}},\"header\":{\"fill\":{\"color\":\"#C8D4E3\"},\"line\":{\"color\":\"white\"}},\"type\":\"table\"}],\"barpolar\":[{\"marker\":{\"line\":{\"color\":\"#E5ECF6\",\"width\":0.5},\"pattern\":{\"fillmode\":\"overlay\",\"size\":10,\"solidity\":0.2}},\"type\":\"barpolar\"}],\"pie\":[{\"automargin\":true,\"type\":\"pie\"}]},\"layout\":{\"autotypenumbers\":\"strict\",\"colorway\":[\"#636efa\",\"#EF553B\",\"#00cc96\",\"#ab63fa\",\"#FFA15A\",\"#19d3f3\",\"#FF6692\",\"#B6E880\",\"#FF97FF\",\"#FECB52\"],\"font\":{\"color\":\"#2a3f5f\"},\"hovermode\":\"closest\",\"hoverlabel\":{\"align\":\"left\"},\"paper_bgcolor\":\"white\",\"plot_bgcolor\":\"#E5ECF6\",\"polar\":{\"bgcolor\":\"#E5ECF6\",\"angularaxis\":{\"gridcolor\":\"white\",\"linecolor\":\"white\",\"ticks\":\"\"},\"radialaxis\":{\"gridcolor\":\"white\",\"linecolor\":\"white\",\"ticks\":\"\"}},\"ternary\":{\"bgcolor\":\"#E5ECF6\",\"aaxis\":{\"gridcolor\":\"white\",\"linecolor\":\"white\",\"ticks\":\"\"},\"baxis\":{\"gridcolor\":\"white\",\"linecolor\":\"white\",\"ticks\":\"\"},\"caxis\":{\"gridcolor\":\"white\",\"linecolor\":\"white\",\"ticks\":\"\"}},\"coloraxis\":{\"colorbar\":{\"outlinewidth\":0,\"ticks\":\"\"}},\"colorscale\":{\"sequential\":[[0.0,\"#0d0887\"],[0.1111111111111111,\"#46039f\"],[0.2222222222222222,\"#7201a8\"],[0.3333333333333333,\"#9c179e\"],[0.4444444444444444,\"#bd3786\"],[0.5555555555555556,\"#d8576b\"],[0.6666666666666666,\"#ed7953\"],[0.7777777777777778,\"#fb9f3a\"],[0.8888888888888888,\"#fdca26\"],[1.0,\"#f0f921\"]],\"sequentialminus\":[[0.0,\"#0d0887\"],[0.1111111111111111,\"#46039f\"],[0.2222222222222222,\"#7201a8\"],[0.3333333333333333,\"#9c179e\"],[0.4444444444444444,\"#bd3786\"],[0.5555555555555556,\"#d8576b\"],[0.6666666666666666,\"#ed7953\"],[0.7777777777777778,\"#fb9f3a\"],[0.8888888888888888,\"#fdca26\"],[1.0,\"#f0f921\"]],\"diverging\":[[0,\"#8e0152\"],[0.1,\"#c51b7d\"],[0.2,\"#de77ae\"],[0.3,\"#f1b6da\"],[0.4,\"#fde0ef\"],[0.5,\"#f7f7f7\"],[0.6,\"#e6f5d0\"],[0.7,\"#b8e186\"],[0.8,\"#7fbc41\"],[0.9,\"#4d9221\"],[1,\"#276419\"]]},\"xaxis\":{\"gridcolor\":\"white\",\"linecolor\":\"white\",\"ticks\":\"\",\"title\":{\"standoff\":15},\"zerolinecolor\":\"white\",\"automargin\":true,\"zerolinewidth\":2},\"yaxis\":{\"gridcolor\":\"white\",\"linecolor\":\"white\",\"ticks\":\"\",\"title\":{\"standoff\":15},\"zerolinecolor\":\"white\",\"automargin\":true,\"zerolinewidth\":2},\"scene\":{\"xaxis\":{\"backgroundcolor\":\"#E5ECF6\",\"gridcolor\":\"white\",\"linecolor\":\"white\",\"showbackground\":true,\"ticks\":\"\",\"zerolinecolor\":\"white\",\"gridwidth\":2},\"yaxis\":{\"backgroundcolor\":\"#E5ECF6\",\"gridcolor\":\"white\",\"linecolor\":\"white\",\"showbackground\":true,\"ticks\":\"\",\"zerolinecolor\":\"white\",\"gridwidth\":2},\"zaxis\":{\"backgroundcolor\":\"#E5ECF6\",\"gridcolor\":\"white\",\"linecolor\":\"white\",\"showbackground\":true,\"ticks\":\"\",\"zerolinecolor\":\"white\",\"gridwidth\":2}},\"shapedefaults\":{\"line\":{\"color\":\"#2a3f5f\"}},\"annotationdefaults\":{\"arrowcolor\":\"#2a3f5f\",\"arrowhead\":0,\"arrowwidth\":1},\"geo\":{\"bgcolor\":\"white\",\"landcolor\":\"#E5ECF6\",\"subunitcolor\":\"white\",\"showland\":true,\"showlakes\":true,\"lakecolor\":\"white\"},\"title\":{\"x\":0.05},\"mapbox\":{\"style\":\"light\"}}},\"xaxis\":{\"anchor\":\"y\",\"domain\":[0.0,1.0],\"title\":{\"text\":\"label\"}},\"yaxis\":{\"anchor\":\"x\",\"domain\":[0.0,1.0],\"autorange\":\"reversed\",\"title\":{\"text\":\"kmeans\"}},\"coloraxis\":{\"colorscale\":[[0.0,\"#0d0887\"],[0.1111111111111111,\"#46039f\"],[0.2222222222222222,\"#7201a8\"],[0.3333333333333333,\"#9c179e\"],[0.4444444444444444,\"#bd3786\"],[0.5555555555555556,\"#d8576b\"],[0.6666666666666666,\"#ed7953\"],[0.7777777777777778,\"#fb9f3a\"],[0.8888888888888888,\"#fdca26\"],[1.0,\"#f0f921\"]]},\"margin\":{\"t\":60}},                        {\"responsive\": true}                    ).then(function(){\n",
       "                            \n",
       "var gd = document.getElementById('717c766a-36bb-48ad-89a1-24ea11b1c46a');\n",
       "var x = new MutationObserver(function (mutations, observer) {{\n",
       "        var display = window.getComputedStyle(gd).display;\n",
       "        if (!display || display === 'none') {{\n",
       "            console.log([gd, 'removed!']);\n",
       "            Plotly.purge(gd);\n",
       "            observer.disconnect();\n",
       "        }}\n",
       "}});\n",
       "\n",
       "// Listen for the removal of the full notebook cells\n",
       "var notebookContainer = gd.closest('#notebook-container');\n",
       "if (notebookContainer) {{\n",
       "    x.observe(notebookContainer, {childList: true});\n",
       "}}\n",
       "\n",
       "// Listen for the clearing of the current output cell\n",
       "var outputEl = gd.closest('.output');\n",
       "if (outputEl) {{\n",
       "    x.observe(outputEl, {childList: true});\n",
       "}}\n",
       "\n",
       "                        })                };                });            </script>        </div>"
      ]
     },
     "metadata": {},
     "output_type": "display_data"
    },
    {
     "name": "stdout",
     "output_type": "stream",
     "text": [
      "Wall time: 802 ms\n"
     ]
    }
   ],
   "source": [
    "%%time\n",
    "fig = px.imshow(\n",
    "    us_train_sentence_embedding.groupby(\"kmeans\")[\"label\"].value_counts().unstack(fill_value=0),\n",
    "    text_auto=True, aspect='sdf')\n",
    "fig.show()"
   ]
  }
 ],
 "metadata": {
  "kernelspec": {
   "display_name": "Python 3",
   "language": "python",
   "name": "python3"
  },
  "language_info": {
   "codemirror_mode": {
    "name": "ipython",
    "version": 3
   },
   "file_extension": ".py",
   "mimetype": "text/x-python",
   "name": "python",
   "nbconvert_exporter": "python",
   "pygments_lexer": "ipython3",
   "version": "3.8.12"
  }
 },
 "nbformat": 4,
 "nbformat_minor": 4
}
