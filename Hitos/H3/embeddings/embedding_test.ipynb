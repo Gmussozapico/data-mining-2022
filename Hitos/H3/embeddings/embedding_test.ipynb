{
 "cells": [
  {
   "cell_type": "markdown",
   "metadata": {},
   "source": [
    "# Embeddings"
   ]
  },
  {
   "cell_type": "code",
   "execution_count": 1,
   "metadata": {},
   "outputs": [],
   "source": [
    "from transformers import AutoModelForSequenceClassification\n",
    "from transformers import AutoTokenizer\n",
    "import numpy as np"
   ]
  },
  {
   "cell_type": "code",
   "execution_count": 2,
   "metadata": {},
   "outputs": [],
   "source": [
    "# Preprocess text (username and link placeholders)\n",
    "def preprocess(text):\n",
    "    new_text = []\n",
    "    for t in text.split(\" \"):\n",
    "        t = '@user' if t.startswith('@') and len(t) > 1 else t\n",
    "        t = 'http' if t.startswith('http') else t\n",
    "        new_text.append(t)\n",
    "    return \" \".join(new_text)"
   ]
  },
  {
   "cell_type": "code",
   "execution_count": 3,
   "metadata": {},
   "outputs": [
    {
     "name": "stderr",
     "output_type": "stream",
     "text": [
      "emoji is not installed, thus not converting emoticons or emojis into text. Install emoji: pip3 install emoji==0.6.0\n"
     ]
    }
   ],
   "source": [
    "task='emoji'\n",
    "MODEL = f\"cardiffnlp/bertweet-base-{task}\"\n",
    "folder = MODEL.replace('cardiffnlp','../modelos')\n",
    "\n",
    "tokenizer = AutoTokenizer.from_pretrained(folder)\n",
    "model = AutoModelForSequenceClassification.from_pretrained(folder)"
   ]
  },
  {
   "cell_type": "code",
   "execution_count": 4,
   "metadata": {},
   "outputs": [],
   "source": [
    "def sentence_clf_output(text):\n",
    "    # retorna el SequenceClassifierOutput dado un tweet\n",
    "    text = preprocess(text)\n",
    "    encoded_input = tokenizer(text, return_tensors='pt')\n",
    "    output = model(**encoded_input, return_dict=True, output_hidden_states=True)\n",
    "    ###\n",
    "    \"\"\"ArithmeticErrorscores = output[0][0].detach().numpy()\n",
    "    scores = softmax(scores)\n",
    "    return np.argmax(scores), scores\"\"\"\n",
    "    return output"
   ]
  },
  {
   "cell_type": "code",
   "execution_count": 5,
   "metadata": {},
   "outputs": [],
   "source": [
    "example = \"Looking forward to Christmas\"\n",
    "output_obj = sentence_clf_output(example)"
   ]
  },
  {
   "cell_type": "code",
   "execution_count": 6,
   "metadata": {},
   "outputs": [
    {
     "data": {
      "text/plain": [
       "odict_keys(['logits', 'hidden_states'])"
      ]
     },
     "execution_count": 6,
     "metadata": {},
     "output_type": "execute_result"
    }
   ],
   "source": [
    "output_obj.keys()"
   ]
  },
  {
   "cell_type": "code",
   "execution_count": 7,
   "metadata": {},
   "outputs": [
    {
     "data": {
      "text/plain": [
       "torch.Size([1, 6, 768])"
      ]
     },
     "execution_count": 7,
     "metadata": {},
     "output_type": "execute_result"
    }
   ],
   "source": [
    "output_obj['hidden_states'][-1].shape"
   ]
  },
  {
   "cell_type": "code",
   "execution_count": 8,
   "metadata": {},
   "outputs": [],
   "source": [
    "def first_tok_embedding(cfl_output):\n",
    "    # retorna un numpy array correspondiente al token <s> contextualizado según el tweet\n",
    "    return cfl_output['hidden_states'][-1][0][0].detach().numpy().reshape(1,768)"
   ]
  },
  {
   "cell_type": "code",
   "execution_count": 9,
   "metadata": {},
   "outputs": [
    {
     "name": "stdout",
     "output_type": "stream",
     "text": [
      "<class 'numpy.ndarray'>\n"
     ]
    },
    {
     "data": {
      "text/plain": [
       "(1, 768)"
      ]
     },
     "execution_count": 9,
     "metadata": {},
     "output_type": "execute_result"
    }
   ],
   "source": [
    "emb1 = first_tok_embedding(output_obj)\n",
    "print(type(emb1))\n",
    "emb1.shape"
   ]
  },
  {
   "cell_type": "code",
   "execution_count": 12,
   "metadata": {},
   "outputs": [],
   "source": [
    "def sum_embedding(cfl_output):\n",
    "    # retorna un numpy array correspondiente a la suma de los vectores contextualizados\n",
    "\n",
    "    return cfl_output['hidden_states'][-1][0].detach().numpy().mean(axis=0).reshape(1,768)"
   ]
  },
  {
   "cell_type": "code",
   "execution_count": 13,
   "metadata": {},
   "outputs": [
    {
     "name": "stdout",
     "output_type": "stream",
     "text": [
      "<class 'numpy.ndarray'>\n"
     ]
    },
    {
     "data": {
      "text/plain": [
       "(1, 768)"
      ]
     },
     "execution_count": 13,
     "metadata": {},
     "output_type": "execute_result"
    }
   ],
   "source": [
    "emb2 = sum_embedding(output_obj)\n",
    "print(type(emb2))\n",
    "emb2.shape"
   ]
  },
  {
   "cell_type": "code",
   "execution_count": 12,
   "metadata": {},
   "outputs": [],
   "source": [
    "def logits_embedding(clf_output):\n",
    "    # retorna el vector de scores de clasificacion (antes de la capa softmax)\n",
    "    return clf_output['logits'][0].detach().numpy().reshape(1,20)"
   ]
  },
  {
   "cell_type": "code",
   "execution_count": 13,
   "metadata": {},
   "outputs": [
    {
     "name": "stdout",
     "output_type": "stream",
     "text": [
      "<class 'numpy.ndarray'>\n"
     ]
    },
    {
     "data": {
      "text/plain": [
       "(1, 20)"
      ]
     },
     "execution_count": 13,
     "metadata": {},
     "output_type": "execute_result"
    }
   ],
   "source": [
    "emb3 = logits_embedding(output_obj)\n",
    "print(type(emb3))\n",
    "emb3.shape"
   ]
  },
  {
   "cell_type": "code",
   "execution_count": 14,
   "metadata": {},
   "outputs": [],
   "source": [
    "import pickle\n",
    "\n",
    "path =  \"../../../Data/test/df_us_test.pickle\"\n",
    "df_us_test = pickle.load(open(path, \"rb\"))"
   ]
  },
  {
   "cell_type": "code",
   "execution_count": 15,
   "metadata": {},
   "outputs": [
    {
     "data": {
      "text/plain": [
       "50000"
      ]
     },
     "execution_count": 15,
     "metadata": {},
     "output_type": "execute_result"
    }
   ],
   "source": [
    "len(df_us_test)"
   ]
  },
  {
   "cell_type": "code",
   "execution_count": 16,
   "metadata": {},
   "outputs": [
    {
     "data": {
      "text/plain": [
       "(2, 768)"
      ]
     },
     "execution_count": 16,
     "metadata": {},
     "output_type": "execute_result"
    }
   ],
   "source": [
    "hola = np.concatenate([emb1,emb2],axis=0)\n",
    "hola.shape"
   ]
  },
  {
   "cell_type": "code",
   "execution_count": 17,
   "metadata": {},
   "outputs": [
    {
     "name": "stdout",
     "output_type": "stream",
     "text": [
      "CPU times: user 10.7 s, sys: 526 ms, total: 11.2 s\n",
      "Wall time: 1.88 s\n"
     ]
    }
   ],
   "source": [
    "%%time\n",
    "y_clf_obj = []\n",
    "\n",
    "for i, texto in enumerate(df_us_test['text']):\n",
    "    clf_obj = sentence_clf_output(texto)\n",
    "    y_clf_obj.append(clf_obj)\n",
    "    if i==50:\n",
    "        break"
   ]
  },
  {
   "cell_type": "code",
   "execution_count": 18,
   "metadata": {},
   "outputs": [],
   "source": [
    "import os\n",
    "\n",
    "folder = \"bertweet_base_emoji\""
   ]
  },
  {
   "cell_type": "code",
   "execution_count": 19,
   "metadata": {},
   "outputs": [
    {
     "name": "stdout",
     "output_type": "stream",
     "text": [
      "CPU times: user 0 ns, sys: 7.33 ms, total: 7.33 ms\n",
      "Wall time: 5.5 ms\n"
     ]
    }
   ],
   "source": [
    "%%time\n",
    "\n",
    "embedding_types = [logits_embedding, sum_embedding, first_tok_embedding]\n",
    "# array_embs = {}\n",
    "\n",
    "for emb_func in embedding_types:\n",
    "    # array_embs[emb_func.__name__] = np.concatenate([emb_func(clf_obj) for clf_obj in y_clf_obj], axis=0)\n",
    "    arr = np.concatenate([emb_func(clf_obj) for clf_obj in y_clf_obj], axis=0)\n",
    "    np.save(os.path.join(folder,'vec_{}_{}_{}'.format('test',emb_func.__name__,1)), arr)\n",
    "    "
   ]
  },
  {
   "cell_type": "markdown",
   "metadata": {},
   "source": [
    "Tiempos (approx)"
   ]
  },
  {
   "cell_type": "code",
   "execution_count": 20,
   "metadata": {},
   "outputs": [
    {
     "name": "stdout",
     "output_type": "stream",
     "text": [
      "test set: 30.833333333333332 minutos\n",
      "test set: 308.3333333333333 minutos\n"
     ]
    }
   ],
   "source": [
    "print('test set: {} minutos'.format(1.85*1000/60))\n",
    "print('test set: {} minutos'.format(1.85*10000/60))"
   ]
  },
  {
   "cell_type": "markdown",
   "metadata": {},
   "source": [
    "Tamaños (approx)"
   ]
  },
  {
   "cell_type": "code",
   "execution_count": 21,
   "metadata": {},
   "outputs": [
    {
     "name": "stdout",
     "output_type": "stream",
     "text": [
      "test set: 156.8 MB\n",
      "test set: 1568.0 MB\n"
     ]
    }
   ],
   "source": [
    "print('test set: {} MB'.format(156.8))\n",
    "print('test set: {} MB'.format(156.8*10))"
   ]
  },
  {
   "cell_type": "code",
   "execution_count": 22,
   "metadata": {},
   "outputs": [],
   "source": [
    "def guardar(y_list,idx,conjunto):\n",
    "    embedding_types = [logits_embedding, sum_embedding, first_tok_embedding]\n",
    "\n",
    "    for emb_func in embedding_types:\n",
    "        arr = np.concatenate([emb_func(clf_obj) for clf_obj in y_list], axis=0)\n",
    "        np.save(os.path.join(folder,'vec_{}_{}_{}'.format(conjunto,emb_func.__name__,idx)), arr)"
   ]
  },
  {
   "cell_type": "code",
   "execution_count": 27,
   "metadata": {},
   "outputs": [
    {
     "name": "stdout",
     "output_type": "stream",
     "text": [
      "archivo guardado: porcentaje = 0.1%\n",
      "archivo guardado: porcentaje = 0.2%\n",
      "archivo guardado: porcentaje = 0.3%\n",
      "archivo guardado: porcentaje = 0.4%\n"
     ]
    }
   ],
   "source": [
    "y_clf_obj = []\n",
    "length = len(df_us_test)\n",
    "save_rate = 50\n",
    "\n",
    "for i, texto in enumerate(df_us_test['text']):\n",
    "    idx = 0\n",
    "    clf_obj = sentence_clf_output(texto)\n",
    "    y_clf_obj.append(clf_obj)\n",
    "    if i%(save_rate)==0 and i!=0:\n",
    "        guardar(y_clf_obj,idx,'test')\n",
    "        idx += 1\n",
    "        y_clf_obj = []\n",
    "        print('archivo guardado: porcentaje = {}%'.format(100*(i)/length))\n",
    "    if i==200:\n",
    "        break"
   ]
  },
  {
   "cell_type": "markdown",
   "metadata": {},
   "source": [
    "### Memory profiler\n",
    "\n",
    "Para ejecutar necesita cambiar\n",
    "\n",
    "`folder_emb = \"bertweet_base_emoji\"`\n",
    "\n",
    "en embedding_train.py"
   ]
  },
  {
   "cell_type": "code",
   "execution_count": 1,
   "metadata": {},
   "outputs": [
    {
     "name": "stderr",
     "output_type": "stream",
     "text": [
      "emoji is not installed, thus not converting emoticons or emojis into text. Install emoji: pip3 install emoji==0.6.0\n"
     ]
    }
   ],
   "source": [
    "from embedding_train import embeddings_conjunto"
   ]
  },
  {
   "cell_type": "code",
   "execution_count": 2,
   "metadata": {},
   "outputs": [],
   "source": [
    "%load_ext memory_profiler"
   ]
  },
  {
   "cell_type": "code",
   "execution_count": 3,
   "metadata": {},
   "outputs": [],
   "source": [
    "import pickle\n",
    "\n",
    "path = \"../../../Data/train/df_us_train.pickle\"\n",
    "df_us_train = pickle.load(open(path, \"rb\"))\n",
    "\n",
    "save_rate = 10\n",
    "limit = 30  # solo para testeo"
   ]
  },
  {
   "cell_type": "code",
   "execution_count": 4,
   "metadata": {},
   "outputs": [
    {
     "name": "stdout",
     "output_type": "stream",
     "text": [
      "archivo guardado: porcentaje = 0.0025820311289672907%\n",
      "archivo guardado: porcentaje = 0.005164062257934581%\n",
      "archivo guardado: porcentaje = 0.007746093386901872%\n",
      "\n",
      "\n",
      "*** Profile printout saved to text file mprof. \n"
     ]
    },
    {
     "name": "stdout",
     "output_type": "stream",
     "text": [
      "Filename: /home/camilo/Mineria/Proyecto/data-mining-2022/Hitos/H3/embeddings/embedding_train.py\n",
      "\n",
      "Line #    Mem usage    Increment  Occurrences   Line Contents\n",
      "=============================================================\n",
      "    66    978.8 MiB    978.8 MiB           1   def embeddings_conjunto(df,save_rate,limit=None):\n",
      "    67                                             # itera sobre un df dado. genera y guarda los embeddings\n",
      "    68    978.8 MiB      0.0 MiB           1       y_clf_obj = []\n",
      "    69    978.8 MiB      0.0 MiB           1       idx = 0\n",
      "    70    978.8 MiB      0.0 MiB           1       length = len(df)\n",
      "    71   1091.1 MiB      0.4 MiB          31       for i, texto in enumerate(df['text']):\n",
      "    72   1091.1 MiB    111.9 MiB          31           clf_obj = sentence_clf_output(texto)\n",
      "    73   1091.1 MiB      0.0 MiB          31           y_clf_obj.append(clf_obj)\n",
      "    74   1091.1 MiB      0.0 MiB          31           if i%(save_rate)==0 and i!=0:\n",
      "    75   1091.1 MiB      0.0 MiB           3               guardar(y_clf_obj,idx,'train')\n",
      "    76   1091.1 MiB      0.0 MiB           3               idx += 1\n",
      "    77   1091.1 MiB      0.0 MiB           3               del y_clf_obj\n",
      "    78   1091.1 MiB      0.0 MiB           3               gc.collect()\n",
      "    79   1091.1 MiB      0.0 MiB           3               y_clf_obj = []\n",
      "    80   1091.1 MiB      0.0 MiB           3               print('archivo guardado: porcentaje = {}%'.format(100*(i)/length))\n",
      "    81   1091.1 MiB      0.0 MiB          31           if i==limit:\n",
      "    82   1091.1 MiB      0.0 MiB           1               break"
     ]
    }
   ],
   "source": [
    "%mprun -T mprof -f embeddings_conjunto embeddings_conjunto(df_us_train,save_rate=save_rate,limit=limit)"
   ]
  },
  {
   "cell_type": "markdown",
   "metadata": {},
   "source": [
    "Line    Mem usage    Increment  Occurrences   Line Contents\n",
    "\n",
    "=============================================================\n",
    "\n",
    "    66    978.8 MiB    978.8 MiB           1   def embeddings_conjunto(df,save_rate,limit=None):\n",
    "    67                                             # itera sobre un df dado. genera y guarda los embeddings\n",
    "    68    978.8 MiB      0.0 MiB           1       y_clf_obj = []\n",
    "    69    978.8 MiB      0.0 MiB           1       idx = 0\n",
    "    70    978.8 MiB      0.0 MiB           1       length = len(df)\n",
    "    71   1091.1 MiB      0.4 MiB          31       for i, texto in enumerate(df['text']):\n",
    "    72   1091.1 MiB    111.9 MiB          31           clf_obj = sentence_clf_output(texto)\n",
    "    73   1091.1 MiB      0.0 MiB          31           y_clf_obj.append(clf_obj)\n",
    "    74   1091.1 MiB      0.0 MiB          31           if i%(save_rate)==0 and i!=0:\n",
    "    75   1091.1 MiB      0.0 MiB           3               guardar(y_clf_obj,idx,'train')\n",
    "    76   1091.1 MiB      0.0 MiB           3               idx += 1\n",
    "    77   1091.1 MiB      0.0 MiB           3               del y_clf_obj\n",
    "    78   1091.1 MiB      0.0 MiB           3               gc.collect()\n",
    "    79   1091.1 MiB      0.0 MiB           3               y_clf_obj = []\n",
    "    80   1091.1 MiB      0.0 MiB           3               print('archivo guardado: porcentaje = {}%'.format(100*(i)/length))\n",
    "    81   1091.1 MiB      0.0 MiB          31           if i==limit:\n",
    "    82   1091.1 MiB      0.0 MiB           1               break"
   ]
  }
 ],
 "metadata": {
  "kernelspec": {
   "display_name": "Python 3.8.13 ('datamining_env')",
   "language": "python",
   "name": "python3"
  },
  "language_info": {
   "codemirror_mode": {
    "name": "ipython",
    "version": 3
   },
   "file_extension": ".py",
   "mimetype": "text/x-python",
   "name": "python",
   "nbconvert_exporter": "python",
   "pygments_lexer": "ipython3",
   "version": "3.8.13"
  },
  "orig_nbformat": 4,
  "vscode": {
   "interpreter": {
    "hash": "5f20c33d1910a35bd4e57e72ae45c4ccb5c2a16c01a089293cb3a6910e8ec5b3"
   }
  }
 },
 "nbformat": 4,
 "nbformat_minor": 2
}
