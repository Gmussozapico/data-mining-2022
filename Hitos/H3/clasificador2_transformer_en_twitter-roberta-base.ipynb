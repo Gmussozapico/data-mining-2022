{
 "cells": [
  {
   "cell_type": "markdown",
   "metadata": {},
   "source": [
    "# Clasificador basado en transformers\n",
    "\n",
    "[Twitter-roBERTa-base for Emoji prediction](https://huggingface.co/cardiffnlp/twitter-roberta-base-emoji)"
   ]
  },
  {
   "cell_type": "code",
   "execution_count": 1,
   "metadata": {},
   "outputs": [],
   "source": [
    "from transformers import AutoModelForSequenceClassification\n",
    "from transformers import AutoTokenizer\n",
    "import numpy as np\n",
    "from scipy.special import softmax\n",
    "import csv\n",
    "import urllib.request"
   ]
  },
  {
   "cell_type": "code",
   "execution_count": 2,
   "metadata": {},
   "outputs": [],
   "source": [
    "# Preprocess text (username and link placeholders)\n",
    "def preprocess(text):\n",
    "    new_text = []\n",
    "    for t in text.split(\" \"):\n",
    "        t = '@user' if t.startswith('@') and len(t) > 1 else t\n",
    "        t = 'http' if t.startswith('http') else t\n",
    "        new_text.append(t)\n",
    "    return \" \".join(new_text)"
   ]
  },
  {
   "cell_type": "code",
   "execution_count": 3,
   "metadata": {},
   "outputs": [],
   "source": [
    "task='emoji'\n",
    "MODEL = f\"cardiffnlp/twitter-roberta-base-{task}\"\n",
    "folder = MODEL.replace('cardiffnlp','modelos')\n",
    "\n",
    "try:\n",
    "    tokenizer = AutoTokenizer.from_pretrained(folder)\n",
    "except ValueError:\n",
    "    tokenizer = AutoTokenizer.from_pretrained(MODEL)\n",
    "    tokenizer.save_pretrained(folder)"
   ]
  },
  {
   "cell_type": "code",
   "execution_count": 4,
   "metadata": {},
   "outputs": [],
   "source": [
    "# download label mapping\n",
    "labels=[]\n",
    "mapping_link = f\"https://raw.githubusercontent.com/cardiffnlp/tweeteval/main/datasets/{task}/mapping.txt\"\n",
    "with urllib.request.urlopen(mapping_link) as f:\n",
    "    html = f.read().decode('utf-8').split(\"\\n\")\n",
    "    csvreader = csv.reader(html, delimiter='\\t')\n",
    "labels = [row[1] for row in csvreader if len(row) > 1]"
   ]
  },
  {
   "cell_type": "code",
   "execution_count": 5,
   "metadata": {},
   "outputs": [],
   "source": [
    "try:\n",
    "    model = AutoModelForSequenceClassification.from_pretrained(folder)\n",
    "except OSError:\n",
    "    model = AutoModelForSequenceClassification.from_pretrained(MODEL)\n",
    "    model.save_pretrained(folder)"
   ]
  },
  {
   "cell_type": "markdown",
   "metadata": {},
   "source": [
    "Palabras rellenar"
   ]
  },
  {
   "cell_type": "code",
   "execution_count": 6,
   "metadata": {},
   "outputs": [],
   "source": [
    "def eval_text(text):\n",
    "    # retorna el indice del emoji con mas probabilidad y los scores\n",
    "    text = preprocess(text)\n",
    "    encoded_input = tokenizer(text, return_tensors='pt')\n",
    "    output = model(**encoded_input)\n",
    "    scores = output[0][0].detach().numpy()\n",
    "    scores = softmax(scores)\n",
    "    return np.argmax(scores), scores"
   ]
  },
  {
   "cell_type": "code",
   "execution_count": 7,
   "metadata": {},
   "outputs": [],
   "source": [
    "def rank_emojis_text(text):\n",
    "    # imprime los emojis ordenados por probabilidad\n",
    "    _, scores = eval_text(text)\n",
    "    ranking = np.argsort(scores)\n",
    "    ranking = ranking[::-1]\n",
    "    for i in range(scores.shape[0]):\n",
    "        l = labels[ranking[i]]\n",
    "        s = scores[ranking[i]]\n",
    "        print(f\"{i+1}) {l} {np.round(float(s), 4)}\")"
   ]
  },
  {
   "cell_type": "code",
   "execution_count": 8,
   "metadata": {},
   "outputs": [
    {
     "name": "stdout",
     "output_type": "stream",
     "text": [
      "Looking forward to Christmas\n",
      "emoji escogido = 🎄 (17)\n"
     ]
    }
   ],
   "source": [
    "ejemplo = \"Looking forward to Christmas\"\n",
    "label, _ = eval_text(ejemplo)\n",
    "print(ejemplo+'\\nemoji escogido = {} ({})'.format(labels[label],label))"
   ]
  },
  {
   "cell_type": "code",
   "execution_count": 9,
   "metadata": {},
   "outputs": [
    {
     "name": "stdout",
     "output_type": "stream",
     "text": [
      "1) 🎄 0.5457\n",
      "2) 😊 0.1417\n",
      "3) 😁 0.0649\n",
      "4) 😍 0.0395\n",
      "5) ❤ 0.03\n",
      "6) 😜 0.028\n",
      "7) ✨ 0.0263\n",
      "8) 😉 0.0237\n",
      "9) 😂 0.0177\n",
      "10) 😎 0.0166\n",
      "11) 😘 0.0143\n",
      "12) 💕 0.014\n",
      "13) 💙 0.0076\n",
      "14) 💜 0.0068\n",
      "15) 🔥 0.0065\n",
      "16) 💯 0.004\n",
      "17) 🇺🇸 0.0037\n",
      "18) 📷 0.0034\n",
      "19) ☀ 0.0033\n",
      "20) 📸 0.0021\n"
     ]
    }
   ],
   "source": [
    "rank_emojis_text(ejemplo)"
   ]
  },
  {
   "cell_type": "markdown",
   "metadata": {},
   "source": [
    "Iteramos sobre el test set"
   ]
  },
  {
   "cell_type": "code",
   "execution_count": 15,
   "metadata": {},
   "outputs": [],
   "source": [
    "import pickle\n",
    "\n",
    "path =  \"../../Data/test/df_us_test.pickle\"\n",
    "df_us_test = pickle.load(open(path, \"rb\"))"
   ]
  },
  {
   "cell_type": "code",
   "execution_count": 16,
   "metadata": {},
   "outputs": [
    {
     "name": "stdout",
     "output_type": "stream",
     "text": [
      "CPU times: user 3h 25min 31s, sys: 1min 10s, total: 3h 26min 41s\n",
      "Wall time: 34min 28s\n"
     ]
    }
   ],
   "source": [
    "%%time\n",
    "y_pred = []\n",
    "\n",
    "for texto in df_us_test['text']:\n",
    "    label, _ = eval_text(texto)\n",
    "    y_pred.append(label)"
   ]
  },
  {
   "cell_type": "code",
   "execution_count": 18,
   "metadata": {},
   "outputs": [
    {
     "name": "stdout",
     "output_type": "stream",
     "text": [
      "              precision    recall  f1-score   support\n",
      "\n",
      "           ❤       0.74      0.86      0.80     10798\n",
      "           😍       0.32      0.44      0.37      4830\n",
      "           😂       0.45      0.53      0.49      4534\n",
      "           💕       0.28      0.14      0.18      2605\n",
      "           🔥       0.58      0.53      0.55      3716\n",
      "           😊       0.14      0.27      0.18      1613\n",
      "           😎       0.19      0.23      0.20      1996\n",
      "           ✨       0.31      0.42      0.35      2749\n",
      "           💙       0.24      0.09      0.13      1549\n",
      "           😘       0.18      0.20      0.19      1175\n",
      "           📷       0.30      0.70      0.42      1432\n",
      "          🇺🇸       0.72      0.53      0.61      1949\n",
      "           ☀       0.71      0.62      0.67      1265\n",
      "           💜       0.34      0.02      0.04      1114\n",
      "           😉       0.16      0.10      0.12      1306\n",
      "           💯       0.34      0.12      0.18      1244\n",
      "           😁       0.14      0.03      0.05      1153\n",
      "           🎄       0.64      0.77      0.70      1545\n",
      "           📸       0.47      0.03      0.05      2417\n",
      "           😜       0.10      0.01      0.02      1010\n",
      "\n",
      "    accuracy                           0.46     50000\n",
      "   macro avg       0.37      0.33      0.32     50000\n",
      "weighted avg       0.45      0.46      0.43     50000\n",
      "\n"
     ]
    }
   ],
   "source": [
    "from sklearn.metrics import classification_report\n",
    "print(classification_report(df_us_test[\"label\"].astype(int), y_pred, target_names=labels))"
   ]
  },
  {
   "cell_type": "markdown",
   "metadata": {},
   "source": [
    "Guardamos los resultados en pickle (la lista)"
   ]
  },
  {
   "cell_type": "code",
   "execution_count": 19,
   "metadata": {},
   "outputs": [],
   "source": [
    "import pickle\n",
    "\n",
    "with open('resultados_test/twitter-roberta-base.pickle', 'wb') as handle:\n",
    "    pickle.dump(y_pred, handle, protocol=pickle.HIGHEST_PROTOCOL)"
   ]
  },
  {
   "cell_type": "code",
   "execution_count": 20,
   "metadata": {},
   "outputs": [],
   "source": [
    "with open('resultados_test/twitter-roberta-base.pickle', 'rb') as handle:\n",
    "    preds = pickle.load(handle)"
   ]
  },
  {
   "cell_type": "markdown",
   "metadata": {},
   "source": [
    "Para volver a cargar la lista"
   ]
  },
  {
   "cell_type": "code",
   "execution_count": 22,
   "metadata": {},
   "outputs": [
    {
     "data": {
      "text/plain": [
       "[1, 10, 6, 1, 1, 17, 2, 10, 12, 10]"
      ]
     },
     "execution_count": 22,
     "metadata": {},
     "output_type": "execute_result"
    }
   ],
   "source": [
    "preds[:10]  # primeros 10 labels"
   ]
  }
 ],
 "metadata": {
  "interpreter": {
   "hash": "5f20c33d1910a35bd4e57e72ae45c4ccb5c2a16c01a089293cb3a6910e8ec5b3"
  },
  "kernelspec": {
   "display_name": "Python 3 (ipykernel)",
   "language": "python",
   "name": "python3"
  },
  "language_info": {
   "codemirror_mode": {
    "name": "ipython",
    "version": 3
   },
   "file_extension": ".py",
   "mimetype": "text/x-python",
   "name": "python",
   "nbconvert_exporter": "python",
   "pygments_lexer": "ipython3",
   "version": "3.8.5"
  }
 },
 "nbformat": 4,
 "nbformat_minor": 2
}
