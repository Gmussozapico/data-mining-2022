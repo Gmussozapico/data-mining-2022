{
 "cells": [
  {
   "cell_type": "markdown",
   "metadata": {
    "id": "3CnAZqDJtJAh"
   },
   "source": [
    "**Minería de Datos**\n",
    "\n",
    "*CC5205-1 - Otoño 2022*\n",
    "\n",
    "Integrantes:\n",
    "- Felipe Urrutia\n",
    "- Camilo Carvajal\n",
    "- Gianluca Musso\n",
    "- Jose Ignacio Saffie\n",
    "- Matias Lopez Roman"
   ]
  },
  {
   "cell_type": "markdown",
   "metadata": {},
   "source": [
    "## Introducción\n",
    "\n",
    "Durante los últimos años hemos vivido un aumento considerable tanto en la cantidad y acceso a grandes cantidades de datos, como también a un poder de cálculo que ha proliferado las posibilidades para procesar estos.\n",
    "En este contexto, el procesamiento de lenguaje natural ha adquirido un rol protagónico. A los métodos estadísticos y probabilísticos se le ha agregado modelos de lenguaje con impresionantes capacidades para procesar, clasificar en incluso generar texto. \n",
    "\n",
    "Una de sus tareas más populares ha sido el análisis de sentimiento, que trata de predecir el valor emocional de algún documento. Esta es una tarea difícil incluso para seres humanos, pero muy útil puesto a que sus aplicaciones son variadas. Por ejemplo, es de interés para  una empresa saber el sentimiento de los clientes hacia sus productos. Esto se puede lograr procesando grandes cantidades de tweets o de reseñas. \n",
    "En su versión más explorada, el análisis de sentimiento trata de predecir cuan positivo o negativo es un mensaje, sin embargo este proceso puede ser refinado aún más. La complejidad del lenguaje humano nos sugiere que podemos considerar modelar el valor sentimental de un mensaje en un muchas más dimensiones.\n",
    "\n",
    "El dataset **Multilingual Emoji Prediction** (Barbieri et al. 2010, descargable [con este link](https://github.com/fvancesco/Semeval2018-Task2-Emoji-Detection/blob/master/dataset/Semeval2018-Task2-EmojiPrediction.zip?raw=true)) contiene alrededor de 500k tweets, todos conteniendo un emoji, de un conjunto de 20 comúnmente usados. El desafío de base es predecir el emoji en cuestión desde el texto del tweet. Esta tarea puede ser interpretada como una de análisis de sentimiento multimodal puesto a que el emoji comúnmente denota información no verbal del mensaje o contexto, muchas veces emocional.\n",
    "\n",
    "Barbieri, F., Camacho-Collados, J., Ronzano, F., Espinosa Anke, L., Ballesteros, M., Basile, V., ... & Saggion, H. (2018). Semeval 2018 task 2: Multilingual emoji prediction. In 12th International Workshop on Semantic Evaluation (SemEval 2018) (pp. 24-33). Association for Computational Linguistics. [http://dx.doi.org/10.18653/v1/S18-1003](http://dx.doi.org/10.18653/v1/S18-1003)"
   ]
  },
  {
   "cell_type": "markdown",
   "metadata": {
    "id": "0KOFYrCitVhk"
   },
   "source": [
    "Librerias"
   ]
  },
  {
   "cell_type": "code",
   "execution_count": 1,
   "metadata": {
    "executionInfo": {
     "elapsed": 880,
     "status": "ok",
     "timestamp": 1647721339648,
     "user": {
      "displayName": "Felipe Urrutia",
      "photoUrl": "https://lh3.googleusercontent.com/a-/AOh14GiV1eq6iLuzodn7_Cycj2HH8G4-7XYUx0jPAYkvq18=s64",
      "userId": "01225021230773564798"
     },
     "user_tz": 180
    },
    "id": "CMGRRILYtUMr"
   },
   "outputs": [],
   "source": [
    "import pandas as pd\n",
    "import numpy as np\n",
    "# pd.set_option(\"max_rows\", None)\n",
    "import pickle\n",
    "from string import punctuation\n",
    "import re\n",
    "\n",
    "from sklearn.metrics import cohen_kappa_score\n",
    "import matplotlib.pyplot as plt\n",
    "import seaborn as sns\n",
    "# from astropy.visualization import hist\n",
    "sns.set_theme(style=\"whitegrid\")\n",
    "plt.rc('axes', titlesize=14)\n",
    "plt.rc('legend', fontsize=14)\n",
    "plt.rc('xtick', labelsize=12)\n",
    "plt.rc('ytick', labelsize=12)\n",
    "plt.rcParams.update({'font.size': 16})\n",
    "plt.rcParams['axes.titlesize'] = 16\n",
    "plt.rcParams[\"figure.figsize\"] = (10, 6)\n",
    "plt.rcParams.update({'lines.markeredgewidth': 1})\n",
    "plt.rcParams.update({'errorbar.capsize': 2})\n",
    "import random\n",
    "import plotly.express as px"
   ]
  },
  {
   "cell_type": "markdown",
   "metadata": {
    "id": "0DBKLLIJts8L"
   },
   "source": [
    "### Rutas"
   ]
  },
  {
   "cell_type": "markdown",
   "metadata": {
    "id": "_6u16fCJvbIl"
   },
   "source": [
    "```\n",
    "Data\n",
    "|-mapping\n",
    "|--df_es_mapping.pickle\n",
    "|--df_us_mapping.pickle\n",
    "|--es_mapping.txt\n",
    "|--us_mapping.txt\n",
    "|-test\n",
    "|--df_es_test.pickle\n",
    "|--df_us_test.pickle\n",
    "|--es_test.labels\n",
    "|--es_test.text\n",
    "|--us_test.labels\n",
    "|--us_test.text\n",
    "|-trial\n",
    "|--df_es_trial.pickle\n",
    "|--df_us_trial.pickle\n",
    "|--es_trial.labels\n",
    "|--es_trial.text\n",
    "|--us_trial.labels\n",
    "|--us_trial.text\n",
    "|--[train]\n",
    "|--df_es_train.pickle\n",
    "|--df_us_train.pickle\n",
    "```"
   ]
  },
  {
   "cell_type": "code",
   "execution_count": 14,
   "metadata": {
    "executionInfo": {
     "elapsed": 3,
     "status": "ok",
     "timestamp": 1647721340483,
     "user": {
      "displayName": "Felipe Urrutia",
      "photoUrl": "https://lh3.googleusercontent.com/a-/AOh14GiV1eq6iLuzodn7_Cycj2HH8G4-7XYUx0jPAYkvq18=s64",
      "userId": "01225021230773564798"
     },
     "user_tz": 180
    },
    "id": "gq_ToGUmwyAJ"
   },
   "outputs": [],
   "source": [
    "file_names = {\n",
    "    \"df_es_mapping\": \"../../Data/mapping/df_es_mapping.pickle\",\n",
    "    \"df_us_mapping\": \"../../Data/mapping/df_us_mapping.pickle\",\n",
    "    \n",
    "    \"df_es_test\": \"../../Data/test/df_es_test.pickle\",\n",
    "    \"df_us_test\": \"../../Data/test/df_us_test.pickle\",\n",
    "    \n",
    "    \"df_es_train\": \"../../Data/train/df_es_train.pickle\",\n",
    "    \"df_us_train\": \"../../Data/train/df_us_train.pickle\",\n",
    "    \n",
    "    \"df_es_trial\": \"../../Data/trial/df_es_trial.pickle\",\n",
    "    \"df_us_trial\": \"../../Data/trial/df_us_trial.pickle\",\n",
    "}"
   ]
  },
  {
   "cell_type": "markdown",
   "metadata": {
    "id": "TyxIKMU3wHF2"
   },
   "source": [
    "## Leer mapping"
   ]
  },
  {
   "cell_type": "markdown",
   "metadata": {},
   "source": [
    "### ES"
   ]
  },
  {
   "cell_type": "code",
   "execution_count": 11,
   "metadata": {
    "scrolled": true
   },
   "outputs": [
    {
     "data": {
      "text/html": [
       "<div>\n",
       "<style scoped>\n",
       "    .dataframe tbody tr th:only-of-type {\n",
       "        vertical-align: middle;\n",
       "    }\n",
       "\n",
       "    .dataframe tbody tr th {\n",
       "        vertical-align: top;\n",
       "    }\n",
       "\n",
       "    .dataframe thead th {\n",
       "        text-align: right;\n",
       "    }\n",
       "</style>\n",
       "<table border=\"1\" class=\"dataframe\">\n",
       "  <thead>\n",
       "    <tr style=\"text-align: right;\">\n",
       "      <th></th>\n",
       "      <th>label</th>\n",
       "      <th>emoji</th>\n",
       "      <th>name</th>\n",
       "    </tr>\n",
       "  </thead>\n",
       "  <tbody>\n",
       "    <tr>\n",
       "      <th>0</th>\n",
       "      <td>0</td>\n",
       "      <td>❤</td>\n",
       "      <td>_red_heart_</td>\n",
       "    </tr>\n",
       "    <tr>\n",
       "      <th>1</th>\n",
       "      <td>1</td>\n",
       "      <td>😍</td>\n",
       "      <td>_smiling_face_with_hearteyes_</td>\n",
       "    </tr>\n",
       "    <tr>\n",
       "      <th>2</th>\n",
       "      <td>2</td>\n",
       "      <td>😂</td>\n",
       "      <td>_face_with_tears_of_joy_</td>\n",
       "    </tr>\n",
       "    <tr>\n",
       "      <th>3</th>\n",
       "      <td>3</td>\n",
       "      <td>💕</td>\n",
       "      <td>_two_hearts_</td>\n",
       "    </tr>\n",
       "    <tr>\n",
       "      <th>4</th>\n",
       "      <td>4</td>\n",
       "      <td>😊</td>\n",
       "      <td>_smiling_face_with_smiling_eyes_</td>\n",
       "    </tr>\n",
       "    <tr>\n",
       "      <th>5</th>\n",
       "      <td>5</td>\n",
       "      <td>😘</td>\n",
       "      <td>_face_blowing_a_kiss_</td>\n",
       "    </tr>\n",
       "    <tr>\n",
       "      <th>6</th>\n",
       "      <td>6</td>\n",
       "      <td>💪</td>\n",
       "      <td>_flexed_biceps_</td>\n",
       "    </tr>\n",
       "    <tr>\n",
       "      <th>7</th>\n",
       "      <td>7</td>\n",
       "      <td>😉</td>\n",
       "      <td>_winking_face_</td>\n",
       "    </tr>\n",
       "    <tr>\n",
       "      <th>8</th>\n",
       "      <td>8</td>\n",
       "      <td>👌</td>\n",
       "      <td>_OK_hand_</td>\n",
       "    </tr>\n",
       "    <tr>\n",
       "      <th>9</th>\n",
       "      <td>9</td>\n",
       "      <td>🇪🇸</td>\n",
       "      <td>_Spain_</td>\n",
       "    </tr>\n",
       "    <tr>\n",
       "      <th>10</th>\n",
       "      <td>10</td>\n",
       "      <td>😎</td>\n",
       "      <td>_smiling_face_with_sunglasses_</td>\n",
       "    </tr>\n",
       "    <tr>\n",
       "      <th>11</th>\n",
       "      <td>11</td>\n",
       "      <td>💙</td>\n",
       "      <td>_blue_heart_</td>\n",
       "    </tr>\n",
       "    <tr>\n",
       "      <th>12</th>\n",
       "      <td>12</td>\n",
       "      <td>💜</td>\n",
       "      <td>_purple_heart_</td>\n",
       "    </tr>\n",
       "    <tr>\n",
       "      <th>13</th>\n",
       "      <td>13</td>\n",
       "      <td>😜</td>\n",
       "      <td>_winking_face_with_tongue_</td>\n",
       "    </tr>\n",
       "    <tr>\n",
       "      <th>14</th>\n",
       "      <td>14</td>\n",
       "      <td>💞</td>\n",
       "      <td>_revolving_hearts_</td>\n",
       "    </tr>\n",
       "    <tr>\n",
       "      <th>15</th>\n",
       "      <td>15</td>\n",
       "      <td>✨</td>\n",
       "      <td>_sparkles_</td>\n",
       "    </tr>\n",
       "    <tr>\n",
       "      <th>16</th>\n",
       "      <td>16</td>\n",
       "      <td>🎶</td>\n",
       "      <td>_musical_notes_</td>\n",
       "    </tr>\n",
       "    <tr>\n",
       "      <th>17</th>\n",
       "      <td>17</td>\n",
       "      <td>💘</td>\n",
       "      <td>_heart_with_arrow_</td>\n",
       "    </tr>\n",
       "    <tr>\n",
       "      <th>18</th>\n",
       "      <td>18</td>\n",
       "      <td>😁</td>\n",
       "      <td>_beaming_face_with_smiling_eyes_</td>\n",
       "    </tr>\n",
       "  </tbody>\n",
       "</table>\n",
       "</div>"
      ],
      "text/plain": [
       "   label emoji                              name\n",
       "0      0     ❤                       _red_heart_\n",
       "1      1     😍     _smiling_face_with_hearteyes_\n",
       "2      2     😂          _face_with_tears_of_joy_\n",
       "3      3     💕                      _two_hearts_\n",
       "4      4     😊  _smiling_face_with_smiling_eyes_\n",
       "5      5     😘             _face_blowing_a_kiss_\n",
       "6      6     💪                   _flexed_biceps_\n",
       "7      7     😉                    _winking_face_\n",
       "8      8     👌                         _OK_hand_\n",
       "9      9    🇪🇸                           _Spain_\n",
       "10    10     😎    _smiling_face_with_sunglasses_\n",
       "11    11     💙                      _blue_heart_\n",
       "12    12     💜                    _purple_heart_\n",
       "13    13     😜        _winking_face_with_tongue_\n",
       "14    14     💞                _revolving_hearts_\n",
       "15    15     ✨                        _sparkles_\n",
       "16    16     🎶                   _musical_notes_\n",
       "17    17     💘                _heart_with_arrow_\n",
       "18    18     😁  _beaming_face_with_smiling_eyes_"
      ]
     },
     "execution_count": 11,
     "metadata": {},
     "output_type": "execute_result"
    }
   ],
   "source": [
    "df_es_mapping = pickle.load(open(file_names[\"df_es_mapping\"], \"rb\"))\n",
    "df_es_mapping"
   ]
  },
  {
   "cell_type": "markdown",
   "metadata": {},
   "source": [
    "### US"
   ]
  },
  {
   "cell_type": "code",
   "execution_count": 12,
   "metadata": {
    "scrolled": false
   },
   "outputs": [
    {
     "data": {
      "text/html": [
       "<div>\n",
       "<style scoped>\n",
       "    .dataframe tbody tr th:only-of-type {\n",
       "        vertical-align: middle;\n",
       "    }\n",
       "\n",
       "    .dataframe tbody tr th {\n",
       "        vertical-align: top;\n",
       "    }\n",
       "\n",
       "    .dataframe thead th {\n",
       "        text-align: right;\n",
       "    }\n",
       "</style>\n",
       "<table border=\"1\" class=\"dataframe\">\n",
       "  <thead>\n",
       "    <tr style=\"text-align: right;\">\n",
       "      <th></th>\n",
       "      <th>label</th>\n",
       "      <th>emoji</th>\n",
       "      <th>name</th>\n",
       "    </tr>\n",
       "  </thead>\n",
       "  <tbody>\n",
       "    <tr>\n",
       "      <th>0</th>\n",
       "      <td>0</td>\n",
       "      <td>❤</td>\n",
       "      <td>_red_heart_</td>\n",
       "    </tr>\n",
       "    <tr>\n",
       "      <th>1</th>\n",
       "      <td>1</td>\n",
       "      <td>😍</td>\n",
       "      <td>_smiling_face_with_hearteyes_</td>\n",
       "    </tr>\n",
       "    <tr>\n",
       "      <th>2</th>\n",
       "      <td>2</td>\n",
       "      <td>😂</td>\n",
       "      <td>_face_with_tears_of_joy_</td>\n",
       "    </tr>\n",
       "    <tr>\n",
       "      <th>3</th>\n",
       "      <td>3</td>\n",
       "      <td>💕</td>\n",
       "      <td>_two_hearts_</td>\n",
       "    </tr>\n",
       "    <tr>\n",
       "      <th>4</th>\n",
       "      <td>4</td>\n",
       "      <td>🔥</td>\n",
       "      <td>_fire_</td>\n",
       "    </tr>\n",
       "    <tr>\n",
       "      <th>5</th>\n",
       "      <td>5</td>\n",
       "      <td>😊</td>\n",
       "      <td>_smiling_face_with_smiling_eyes_</td>\n",
       "    </tr>\n",
       "    <tr>\n",
       "      <th>6</th>\n",
       "      <td>6</td>\n",
       "      <td>😎</td>\n",
       "      <td>_smiling_face_with_sunglasses_</td>\n",
       "    </tr>\n",
       "    <tr>\n",
       "      <th>7</th>\n",
       "      <td>7</td>\n",
       "      <td>✨</td>\n",
       "      <td>_sparkles_</td>\n",
       "    </tr>\n",
       "    <tr>\n",
       "      <th>8</th>\n",
       "      <td>8</td>\n",
       "      <td>💙</td>\n",
       "      <td>_blue_heart_</td>\n",
       "    </tr>\n",
       "    <tr>\n",
       "      <th>9</th>\n",
       "      <td>9</td>\n",
       "      <td>😘</td>\n",
       "      <td>_face_blowing_a_kiss_</td>\n",
       "    </tr>\n",
       "    <tr>\n",
       "      <th>10</th>\n",
       "      <td>10</td>\n",
       "      <td>📷</td>\n",
       "      <td>_camera_</td>\n",
       "    </tr>\n",
       "    <tr>\n",
       "      <th>11</th>\n",
       "      <td>11</td>\n",
       "      <td>🇺🇸</td>\n",
       "      <td>_United_States_</td>\n",
       "    </tr>\n",
       "    <tr>\n",
       "      <th>12</th>\n",
       "      <td>12</td>\n",
       "      <td>☀</td>\n",
       "      <td>_sun_</td>\n",
       "    </tr>\n",
       "    <tr>\n",
       "      <th>13</th>\n",
       "      <td>13</td>\n",
       "      <td>💜</td>\n",
       "      <td>_purple_heart_</td>\n",
       "    </tr>\n",
       "    <tr>\n",
       "      <th>14</th>\n",
       "      <td>14</td>\n",
       "      <td>😉</td>\n",
       "      <td>_winking_face_</td>\n",
       "    </tr>\n",
       "    <tr>\n",
       "      <th>15</th>\n",
       "      <td>15</td>\n",
       "      <td>💯</td>\n",
       "      <td>_hundred_points_</td>\n",
       "    </tr>\n",
       "    <tr>\n",
       "      <th>16</th>\n",
       "      <td>16</td>\n",
       "      <td>😁</td>\n",
       "      <td>_beaming_face_with_smiling_eyes_</td>\n",
       "    </tr>\n",
       "    <tr>\n",
       "      <th>17</th>\n",
       "      <td>17</td>\n",
       "      <td>🎄</td>\n",
       "      <td>_Christmas_tree_</td>\n",
       "    </tr>\n",
       "    <tr>\n",
       "      <th>18</th>\n",
       "      <td>18</td>\n",
       "      <td>📸</td>\n",
       "      <td>_camera_with_flash_</td>\n",
       "    </tr>\n",
       "    <tr>\n",
       "      <th>19</th>\n",
       "      <td>19</td>\n",
       "      <td>😜</td>\n",
       "      <td>_winking_face_with_tongue_</td>\n",
       "    </tr>\n",
       "  </tbody>\n",
       "</table>\n",
       "</div>"
      ],
      "text/plain": [
       "   label emoji                              name\n",
       "0      0     ❤                       _red_heart_\n",
       "1      1     😍     _smiling_face_with_hearteyes_\n",
       "2      2     😂          _face_with_tears_of_joy_\n",
       "3      3     💕                      _two_hearts_\n",
       "4      4     🔥                            _fire_\n",
       "5      5     😊  _smiling_face_with_smiling_eyes_\n",
       "6      6     😎    _smiling_face_with_sunglasses_\n",
       "7      7     ✨                        _sparkles_\n",
       "8      8     💙                      _blue_heart_\n",
       "9      9     😘             _face_blowing_a_kiss_\n",
       "10    10     📷                          _camera_\n",
       "11    11    🇺🇸                   _United_States_\n",
       "12    12     ☀                             _sun_\n",
       "13    13     💜                    _purple_heart_\n",
       "14    14     😉                    _winking_face_\n",
       "15    15     💯                  _hundred_points_\n",
       "16    16     😁  _beaming_face_with_smiling_eyes_\n",
       "17    17     🎄                  _Christmas_tree_\n",
       "18    18     📸               _camera_with_flash_\n",
       "19    19     😜        _winking_face_with_tongue_"
      ]
     },
     "execution_count": 12,
     "metadata": {},
     "output_type": "execute_result"
    }
   ],
   "source": [
    "df_us_mapping = pickle.load(open(file_names[\"df_us_mapping\"], \"rb\"))\n",
    "df_us_mapping"
   ]
  },
  {
   "cell_type": "markdown",
   "metadata": {},
   "source": [
    "## Leer train"
   ]
  },
  {
   "cell_type": "markdown",
   "metadata": {},
   "source": [
    "### ES"
   ]
  },
  {
   "cell_type": "code",
   "execution_count": 19,
   "metadata": {
    "scrolled": false
   },
   "outputs": [
    {
     "data": {
      "text/html": [
       "<div>\n",
       "<style scoped>\n",
       "    .dataframe tbody tr th:only-of-type {\n",
       "        vertical-align: middle;\n",
       "    }\n",
       "\n",
       "    .dataframe tbody tr th {\n",
       "        vertical-align: top;\n",
       "    }\n",
       "\n",
       "    .dataframe thead th {\n",
       "        text-align: right;\n",
       "    }\n",
       "</style>\n",
       "<table border=\"1\" class=\"dataframe\">\n",
       "  <thead>\n",
       "    <tr style=\"text-align: right;\">\n",
       "      <th></th>\n",
       "      <th>id</th>\n",
       "      <th>text</th>\n",
       "      <th>label</th>\n",
       "    </tr>\n",
       "  </thead>\n",
       "  <tbody>\n",
       "    <tr>\n",
       "      <th>0</th>\n",
       "      <td>793417168469757952</td>\n",
       "      <td>Es imposible quererte más @ Plaza Del Callao -...</td>\n",
       "      <td>0</td>\n",
       "    </tr>\n",
       "    <tr>\n",
       "      <th>1</th>\n",
       "      <td>718539939063926790</td>\n",
       "      <td>Disfrutando de buena comida con buena compañía...</td>\n",
       "      <td>4</td>\n",
       "    </tr>\n",
       "    <tr>\n",
       "      <th>2</th>\n",
       "      <td>670562346067193856</td>\n",
       "      <td>Muchísimas Felicidades M!!! Nos vemos pronto! ...</td>\n",
       "      <td>11</td>\n",
       "    </tr>\n",
       "    <tr>\n",
       "      <th>3</th>\n",
       "      <td>783680728538214400</td>\n",
       "      <td>Y pensar que a esta persona la conozco de hace...</td>\n",
       "      <td>11</td>\n",
       "    </tr>\n",
       "    <tr>\n",
       "      <th>4</th>\n",
       "      <td>711210617043075073</td>\n",
       "      <td>¡Que buenas son las noches así y que buena com...</td>\n",
       "      <td>17</td>\n",
       "    </tr>\n",
       "    <tr>\n",
       "      <th>...</th>\n",
       "      <td>...</td>\n",
       "      <td>...</td>\n",
       "      <td>...</td>\n",
       "    </tr>\n",
       "    <tr>\n",
       "      <th>81321</th>\n",
       "      <td>693547861850656768</td>\n",
       "      <td>Cena en Madrid. Plan perfecto para descansar d...</td>\n",
       "      <td>1</td>\n",
       "    </tr>\n",
       "    <tr>\n",
       "      <th>81322</th>\n",
       "      <td>784491802363621382</td>\n",
       "      <td>Cuando este triste miraré esta batalla de gall...</td>\n",
       "      <td>2</td>\n",
       "    </tr>\n",
       "    <tr>\n",
       "      <th>81323</th>\n",
       "      <td>676127438141714432</td>\n",
       "      <td>@user cooooomoooo me hueeeeeleeeee a olviiiido...</td>\n",
       "      <td>5</td>\n",
       "    </tr>\n",
       "    <tr>\n",
       "      <th>81324</th>\n",
       "      <td>701682622695657472</td>\n",
       "      <td>Mi amor @ Bar Concha Velasco Almendralejo</td>\n",
       "      <td>0</td>\n",
       "    </tr>\n",
       "    <tr>\n",
       "      <th>81325</th>\n",
       "      <td>677478696308121600</td>\n",
       "      <td>Por todo lo que nos queda por vivir @ Residenc...</td>\n",
       "      <td>3</td>\n",
       "    </tr>\n",
       "  </tbody>\n",
       "</table>\n",
       "<p>81326 rows × 3 columns</p>\n",
       "</div>"
      ],
      "text/plain": [
       "                       id                                               text  \\\n",
       "0      793417168469757952  Es imposible quererte más @ Plaza Del Callao -...   \n",
       "1      718539939063926790  Disfrutando de buena comida con buena compañía...   \n",
       "2      670562346067193856  Muchísimas Felicidades M!!! Nos vemos pronto! ...   \n",
       "3      783680728538214400  Y pensar que a esta persona la conozco de hace...   \n",
       "4      711210617043075073  ¡Que buenas son las noches así y que buena com...   \n",
       "...                   ...                                                ...   \n",
       "81321  693547861850656768  Cena en Madrid. Plan perfecto para descansar d...   \n",
       "81322  784491802363621382  Cuando este triste miraré esta batalla de gall...   \n",
       "81323  676127438141714432  @user cooooomoooo me hueeeeeleeeee a olviiiido...   \n",
       "81324  701682622695657472         Mi amor @ Bar Concha Velasco Almendralejo    \n",
       "81325  677478696308121600  Por todo lo que nos queda por vivir @ Residenc...   \n",
       "\n",
       "      label  \n",
       "0         0  \n",
       "1         4  \n",
       "2        11  \n",
       "3        11  \n",
       "4        17  \n",
       "...     ...  \n",
       "81321     1  \n",
       "81322     2  \n",
       "81323     5  \n",
       "81324     0  \n",
       "81325     3  \n",
       "\n",
       "[81326 rows x 3 columns]"
      ]
     },
     "execution_count": 19,
     "metadata": {},
     "output_type": "execute_result"
    }
   ],
   "source": [
    "df_es_train = pickle.load(open(file_names[\"df_es_train\"], \"rb\"))\n",
    "df_es_train"
   ]
  },
  {
   "cell_type": "markdown",
   "metadata": {},
   "source": [
    "Analizar frecuencia de emojis para el dataset/train"
   ]
  },
  {
   "cell_type": "code",
   "execution_count": 20,
   "metadata": {},
   "outputs": [
    {
     "data": {
      "text/plain": [
       "❤     16102\n",
       "😍     11429\n",
       "😂      7725\n",
       "😊      5448\n",
       "💕      5348\n",
       "😘      3660\n",
       "💪      3124\n",
       "😉      3117\n",
       "👌      2884\n",
       "🇪🇸     2757\n",
       "😎      2610\n",
       "💙      2357\n",
       "😜      2289\n",
       "💜      2211\n",
       "😁      2203\n",
       "🎶      2112\n",
       "💞      2041\n",
       "✨      2006\n",
       "💘      1903\n",
       "Name: emoji, dtype: int64"
      ]
     },
     "execution_count": 20,
     "metadata": {},
     "output_type": "execute_result"
    }
   ],
   "source": [
    "df_es_train.merge(df_es_mapping, how=\"right\", on=\"label\")[\"emoji\"].value_counts()"
   ]
  },
  {
   "cell_type": "markdown",
   "metadata": {},
   "source": [
    "### US"
   ]
  },
  {
   "cell_type": "code",
   "execution_count": 17,
   "metadata": {},
   "outputs": [],
   "source": [
    "# analogo"
   ]
  },
  {
   "cell_type": "markdown",
   "metadata": {},
   "source": [
    "## Leer test"
   ]
  },
  {
   "cell_type": "code",
   "execution_count": 16,
   "metadata": {},
   "outputs": [],
   "source": [
    "# analogo"
   ]
  },
  {
   "cell_type": "markdown",
   "metadata": {},
   "source": [
    "## Leer trial"
   ]
  },
  {
   "cell_type": "code",
   "execution_count": 16,
   "metadata": {},
   "outputs": [],
   "source": [
    "# analogo"
   ]
  },
  {
   "cell_type": "markdown",
   "metadata": {},
   "source": [
    "### Ideas exploración\n",
    "\n",
    "- medidas de tendencia central para la frecuencia de los emoji (con dispersión)\n",
    "- medidas de tendencia central para tweet length\n",
    "- cuantiles para lo anterior\n",
    "- graficar la frecuencia de emojis en los 3 sets\n",
    "- graficar cuantiles de longitud\n",
    "- frecuencia de palabras, con cuantiles. pre y post stemming\n",
    "- covarianza y/o tablas de contingencia, entre palabras y emojis\n",
    "\n",
    "Buena reu!"
   ]
  }
 ],
 "metadata": {
  "colab": {
   "authorship_tag": "ABX9TyNWBsMTTiu4MVZUreq7ThnF",
   "collapsed_sections": [],
   "mount_file_id": "1riOGEE074GatDPIwF6o8zU4CMC_AzmpZ",
   "name": "Exploracion-H1.0.ipynb",
   "provenance": []
  },
  "kernelspec": {
   "display_name": "Python 3 (ipykernel)",
   "language": "python",
   "name": "python3"
  },
  "language_info": {
   "codemirror_mode": {
    "name": "ipython",
    "version": 3
   },
   "file_extension": ".py",
   "mimetype": "text/x-python",
   "name": "python",
   "nbconvert_exporter": "python",
   "pygments_lexer": "ipython3",
   "version": "3.8.5"
  }
 },
 "nbformat": 4,
 "nbformat_minor": 1
}
