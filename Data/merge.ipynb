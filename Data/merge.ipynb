{
 "cells": [
  {
   "cell_type": "markdown",
   "metadata": {
    "id": "3CnAZqDJtJAh"
   },
   "source": [
    "**Minería de Datos**\n",
    "\n",
    "*CC5205-1 - Otoño 2022*\n",
    "\n",
    "Integrantes:\n",
    "- Felipe Urrutia\n",
    "- Camilo Carvajal\n",
    "- Gianluca Musso\n",
    "- Jose Ignacio Saffie\n",
    "- Matias Lopez Roman"
   ]
  },
  {
   "cell_type": "code",
   "execution_count": 1,
   "metadata": {
    "executionInfo": {
     "elapsed": 880,
     "status": "ok",
     "timestamp": 1647721339648,
     "user": {
      "displayName": "Felipe Urrutia",
      "photoUrl": "https://lh3.googleusercontent.com/a-/AOh14GiV1eq6iLuzodn7_Cycj2HH8G4-7XYUx0jPAYkvq18=s64",
      "userId": "01225021230773564798"
     },
     "user_tz": 180
    },
    "id": "CMGRRILYtUMr"
   },
   "outputs": [],
   "source": [
    "import pandas as pd\n",
    "import numpy as np\n",
    "import pickle\n",
    "import os"
   ]
  },
  {
   "cell_type": "code",
   "execution_count": 108,
   "metadata": {},
   "outputs": [],
   "source": [
    "path = \"test\"\n",
    "dir_list = os.listdir(path)"
   ]
  },
  {
   "cell_type": "code",
   "execution_count": 109,
   "metadata": {},
   "outputs": [],
   "source": [
    "es_files = [f for f in dir_list if \"es_\" in f]\n",
    "us_files = [f for f in dir_list if f not in es_files]"
   ]
  },
  {
   "cell_type": "code",
   "execution_count": 110,
   "metadata": {},
   "outputs": [],
   "source": [
    "es_roots = list(set([f.split(\".\")[0] for f in es_files]))\n",
    "us_roots = list(set([f.split(\".\")[0] for f in us_files]))"
   ]
  },
  {
   "cell_type": "code",
   "execution_count": 111,
   "metadata": {},
   "outputs": [],
   "source": [
    "def root_to_df(root_file, o=True, t=\"\"):\n",
    "    m = \".txt\" if o else \"\"\n",
    "    with open(path+\"/\"+root_file+m+\".labels\", encoding=\"utf-8\") as f:\n",
    "        labels = f.read().split(\"\\n\")[:-1]\n",
    "\n",
    "    if o:\n",
    "        with open(path+\"/\"+root_file+m+\".ids\", encoding=\"utf-8\") as f:\n",
    "            ids = f.read().split(\"\\n\")[:-1]\n",
    "    else:\n",
    "        ids = [f\"{t}{i}\" for i in range(len(labels))]\n",
    "        \n",
    "    with open(path+\"/\"+root_file+m+\".text\", encoding=\"utf-8\") as f:\n",
    "        text = f.read().split(\"\\n\")[:-1]\n",
    "\n",
    "    return pd.DataFrame({\"id\": ids, \"text\": text, \"label\": labels}).set_index(\"id\")"
   ]
  },
  {
   "cell_type": "code",
   "execution_count": 100,
   "metadata": {},
   "outputs": [],
   "source": [
    "# pickle.dump(root_to_df(es_roots[0], o=False, t=\"trial\"), open(\"df_es_trial.pickle\", \"wb\"))"
   ]
  },
  {
   "cell_type": "code",
   "execution_count": 71,
   "metadata": {},
   "outputs": [],
   "source": [
    "# df_us_train = pd.DataFrame()\n",
    "# for root_file in us_roots:\n",
    "#     _df = root_to_df(root_file)\n",
    "#     df_us_train = pd.concat([df_us_train, _df], axis=0)"
   ]
  },
  {
   "cell_type": "code",
   "execution_count": 72,
   "metadata": {},
   "outputs": [],
   "source": [
    "# df_us_train = df_us_train.reset_index().drop_duplicates().set_index(\"ids\")"
   ]
  },
  {
   "cell_type": "code",
   "execution_count": 73,
   "metadata": {},
   "outputs": [],
   "source": [
    "# pickle.dump(df_us_train, open(\"df_us_train.pickle\", \"wb\"))"
   ]
  },
  {
   "cell_type": "code",
   "execution_count": 122,
   "metadata": {},
   "outputs": [],
   "source": [
    "with open(\"mapping\"+\"/\"+\"us_mapping.txt\", encoding=\"utf-8\") as f:\n",
    "    mapping = f.read().split(\"\\n\")[:-1]"
   ]
  },
  {
   "cell_type": "code",
   "execution_count": 123,
   "metadata": {},
   "outputs": [
    {
     "data": {
      "text/plain": [
       "['0\\t❤\\t_red_heart_\\t',\n",
       " '1\\t😍\\t_smiling_face_with_hearteyes_\\t',\n",
       " '2\\t😂\\t_face_with_tears_of_joy_\\t',\n",
       " '3\\t💕\\t_two_hearts_\\t',\n",
       " '4\\t🔥\\t_fire_\\t',\n",
       " '5\\t😊\\t_smiling_face_with_smiling_eyes_\\t',\n",
       " '6\\t😎\\t_smiling_face_with_sunglasses_\\t',\n",
       " '7\\t✨\\t_sparkles_\\t',\n",
       " '8\\t💙\\t_blue_heart_\\t',\n",
       " '9\\t😘\\t_face_blowing_a_kiss_\\t',\n",
       " '10\\t📷\\t_camera_\\t',\n",
       " '11\\t🇺🇸\\t_United_States_\\t',\n",
       " '12\\t☀\\t_sun_\\t',\n",
       " '13\\t💜\\t_purple_heart_\\t',\n",
       " '14\\t😉\\t_winking_face_\\t',\n",
       " '15\\t💯\\t_hundred_points_\\t',\n",
       " '16\\t😁\\t_beaming_face_with_smiling_eyes_\\t',\n",
       " '17\\t🎄\\t_Christmas_tree_\\t',\n",
       " '18\\t📸\\t_camera_with_flash_\\t',\n",
       " '19\\t😜\\t_winking_face_with_tongue_\\t']"
      ]
     },
     "execution_count": 123,
     "metadata": {},
     "output_type": "execute_result"
    }
   ],
   "source": [
    "mapping"
   ]
  },
  {
   "cell_type": "code",
   "execution_count": 124,
   "metadata": {},
   "outputs": [],
   "source": [
    "# data_mapping = []\n",
    "# for l in mapping:\n",
    "#     o = {}\n",
    "#     ix, emoji, name = l.split(\"\\t\")[:3]\n",
    "#     o[\"label\"] =  ix\n",
    "#     o[\"emoji\"] = emoji\n",
    "#     o[\"name\"] = name\n",
    "#     data_mapping.append(o)"
   ]
  },
  {
   "cell_type": "code",
   "execution_count": 125,
   "metadata": {},
   "outputs": [],
   "source": [
    "# pickle.dump(pd.DataFrame(data_mapping), open(\"df_us_mapping.pickle\", \"wb\"))"
   ]
  },
  {
   "cell_type": "code",
   "execution_count": 133,
   "metadata": {},
   "outputs": [],
   "source": [
    "# pickle.dump(\n",
    "#     pickle.load(open(\"train/df_us_train.pickle\", \"rb\")).reset_index().rename(columns={\"ids\": \"id\", \"labels\": \"label\"}),\n",
    "#     open(\"train/df_us_train.pickle\", \"wb\")\n",
    "# )"
   ]
  }
 ],
 "metadata": {
  "colab": {
   "authorship_tag": "ABX9TyNWBsMTTiu4MVZUreq7ThnF",
   "collapsed_sections": [],
   "mount_file_id": "1riOGEE074GatDPIwF6o8zU4CMC_AzmpZ",
   "name": "Exploracion-H1.0.ipynb",
   "provenance": []
  },
  "kernelspec": {
   "display_name": "Python 3 (ipykernel)",
   "language": "python",
   "name": "python3"
  },
  "language_info": {
   "codemirror_mode": {
    "name": "ipython",
    "version": 3
   },
   "file_extension": ".py",
   "mimetype": "text/x-python",
   "name": "python",
   "nbconvert_exporter": "python",
   "pygments_lexer": "ipython3",
   "version": "3.8.5"
  }
 },
 "nbformat": 4,
 "nbformat_minor": 1
}
