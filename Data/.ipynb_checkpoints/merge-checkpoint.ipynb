{
 "cells": [
  {
   "cell_type": "markdown",
   "metadata": {
    "id": "3CnAZqDJtJAh"
   },
   "source": [
    "**Minería de Datos**\n",
    "\n",
    "*CC5205-1 - Otoño 2022*\n",
    "\n",
    "Integrantes:\n",
    "- Felipe Urrutia\n",
    "- Camilo Carvajal\n",
    "- Gianluca Musso\n",
    "- Jose Ignacio Saffie\n",
    "- Matias Lopez Roman"
   ]
  },
  {
   "cell_type": "code",
   "execution_count": 1,
   "metadata": {
    "executionInfo": {
     "elapsed": 880,
     "status": "ok",
     "timestamp": 1647721339648,
     "user": {
      "displayName": "Felipe Urrutia",
      "photoUrl": "https://lh3.googleusercontent.com/a-/AOh14GiV1eq6iLuzodn7_Cycj2HH8G4-7XYUx0jPAYkvq18=s64",
      "userId": "01225021230773564798"
     },
     "user_tz": 180
    },
    "id": "CMGRRILYtUMr"
   },
   "outputs": [],
   "source": [
    "import pandas as pd\n",
    "import numpy as np\n",
    "import pickle\n",
    "import os"
   ]
  },
  {
   "cell_type": "code",
   "execution_count": 96,
   "metadata": {},
   "outputs": [],
   "source": [
    "path = \"trial\"\n",
    "dir_list = os.listdir(path)"
   ]
  },
  {
   "cell_type": "code",
   "execution_count": 97,
   "metadata": {},
   "outputs": [],
   "source": [
    "es_files = [f for f in dir_list if \"es_\" in f]\n",
    "us_files = [f for f in dir_list if f not in es_files]"
   ]
  },
  {
   "cell_type": "code",
   "execution_count": 98,
   "metadata": {},
   "outputs": [],
   "source": [
    "es_roots = list(set([f.split(\".\")[0] for f in es_files]))\n",
    "us_roots = list(set([f.split(\".\")[0] for f in us_files]))"
   ]
  },
  {
   "cell_type": "code",
   "execution_count": 91,
   "metadata": {},
   "outputs": [],
   "source": [
    "def root_to_df(root_file, o=True, t=\"\"):\n",
    "    m = \".txt\" if o else \"\"\n",
    "    with open(path+\"/\"+root_file+m+\".labels\", encoding=\"utf-8\") as f:\n",
    "        labels = f.read().split(\"\\n\")[:-1]\n",
    "\n",
    "    if o:\n",
    "        with open(path+\"/\"+root_file+m+\".ids\", encoding=\"utf-8\") as f:\n",
    "            ids = f.read().split(\"\\n\")[:-1]\n",
    "    else:\n",
    "        ids = [f\"{t}{i}\" for i in range(len(labels))]\n",
    "        \n",
    "    with open(path+\"/\"+root_file+m+\".text\", encoding=\"utf-8\") as f:\n",
    "        text = f.read().split(\"\\n\")[:-1]\n",
    "\n",
    "    return pd.DataFrame({\"ids\": ids, \"text\": text, \"labels\": labels}).set_index(\"ids\")"
   ]
  },
  {
   "cell_type": "code",
   "execution_count": 100,
   "metadata": {},
   "outputs": [],
   "source": [
    "# pickle.dump(root_to_df(es_roots[0], o=False, t=\"trial\"), open(\"df_es_trial.pickle\", \"wb\"))"
   ]
  },
  {
   "cell_type": "code",
   "execution_count": 71,
   "metadata": {},
   "outputs": [],
   "source": [
    "# df_us_train = pd.DataFrame()\n",
    "# for root_file in us_roots:\n",
    "#     _df = root_to_df(root_file)\n",
    "#     df_us_train = pd.concat([df_us_train, _df], axis=0)"
   ]
  },
  {
   "cell_type": "code",
   "execution_count": 72,
   "metadata": {},
   "outputs": [],
   "source": [
    "# df_us_train = df_us_train.reset_index().drop_duplicates().set_index(\"ids\")"
   ]
  },
  {
   "cell_type": "code",
   "execution_count": 73,
   "metadata": {},
   "outputs": [],
   "source": [
    "# pickle.dump(df_us_train, open(\"df_us_train.pickle\", \"wb\"))"
   ]
  }
 ],
 "metadata": {
  "colab": {
   "authorship_tag": "ABX9TyNWBsMTTiu4MVZUreq7ThnF",
   "collapsed_sections": [],
   "mount_file_id": "1riOGEE074GatDPIwF6o8zU4CMC_AzmpZ",
   "name": "Exploracion-H1.0.ipynb",
   "provenance": []
  },
  "kernelspec": {
   "display_name": "Python 3 (ipykernel)",
   "language": "python",
   "name": "python3"
  },
  "language_info": {
   "codemirror_mode": {
    "name": "ipython",
    "version": 3
   },
   "file_extension": ".py",
   "mimetype": "text/x-python",
   "name": "python",
   "nbconvert_exporter": "python",
   "pygments_lexer": "ipython3",
   "version": "3.8.5"
  }
 },
 "nbformat": 4,
 "nbformat_minor": 1
}
